{
 "cells": [
  {
   "cell_type": "markdown",
   "id": "86985d72",
   "metadata": {},
   "source": [
    "# Importing Necessary Modules"
   ]
  },
  {
   "cell_type": "code",
   "execution_count": 1,
   "id": "dab8b112",
   "metadata": {},
   "outputs": [],
   "source": [
    "import pandas as pd\n",
    "import numpy as np\n",
    "import seaborn as sb\n",
    "from nltk.corpus import stopwords\n",
    "from nltk.stem.porter import PorterStemmer\n",
    "import re\n",
    "import nltk\n",
    "from sklearn.feature_extraction.text import CountVectorizer\n",
    "from sklearn.feature_extraction.text import HashingVectorizer\n",
    "import matplotlib.pyplot as plt\n",
    "import seaborn as sns\n",
    "from sklearn import metrics\n",
    "from sklearn.model_selection import train_test_split\n",
    "from sklearn.metrics import accuracy_score\n",
    "from sklearn.feature_extraction.text import TfidfVectorizer\n",
    "from sklearn.feature_extraction.text import TfidfTransformer\n",
    "from sklearn.model_selection import GridSearchCV, train_test_split, StratifiedKFold, cross_val_score\n",
    "from sklearn.preprocessing import OneHotEncoder\n",
    "from sklearn.preprocessing import LabelEncoder\n",
    "from sklearn.tree import DecisionTreeClassifier, plot_tree\n",
    "\n",
    "#For Logistic Regression\n",
    "from sklearn.model_selection import train_test_split, StratifiedKFold, cross_val_score, GridSearchCV\n",
    "from sklearn.feature_extraction.text import TfidfVectorizer, TfidfTransformer, CountVectorizer\n",
    "from sklearn.linear_model import LogisticRegressionCV\n",
    "from sklearn.linear_model import LogisticRegression\n",
    "\n",
    "# For model evaluation\n",
    "from sklearn.metrics import accuracy_score, confusion_matrix, classification_report"
   ]
  },
  {
   "cell_type": "markdown",
   "id": "f5847694",
   "metadata": {},
   "source": [
    "# Preview of cleaned dataset"
   ]
  },
  {
   "cell_type": "code",
   "execution_count": 2,
   "id": "4fb46ad8",
   "metadata": {
    "scrolled": true
   },
   "outputs": [
    {
     "data": {
      "text/html": [
       "<div>\n",
       "<style scoped>\n",
       "    .dataframe tbody tr th:only-of-type {\n",
       "        vertical-align: middle;\n",
       "    }\n",
       "\n",
       "    .dataframe tbody tr th {\n",
       "        vertical-align: top;\n",
       "    }\n",
       "\n",
       "    .dataframe thead th {\n",
       "        text-align: right;\n",
       "    }\n",
       "</style>\n",
       "<table border=\"1\" class=\"dataframe\">\n",
       "  <thead>\n",
       "    <tr style=\"text-align: right;\">\n",
       "      <th></th>\n",
       "      <th>title</th>\n",
       "      <th>text</th>\n",
       "      <th>label</th>\n",
       "      <th>label_translated</th>\n",
       "      <th>title_char_count</th>\n",
       "      <th>text_char_count</th>\n",
       "      <th>title_word_count</th>\n",
       "      <th>text_word_count</th>\n",
       "      <th>title_stopword_count</th>\n",
       "      <th>text_stopword_count</th>\n",
       "      <th>text_lemmatized</th>\n",
       "      <th>title_lemmatized</th>\n",
       "      <th>title_polarity</th>\n",
       "      <th>title_polarity_score</th>\n",
       "      <th>text_polarity</th>\n",
       "      <th>text_polarity_score</th>\n",
       "      <th>title_emotion</th>\n",
       "      <th>text_emotion</th>\n",
       "    </tr>\n",
       "    <tr>\n",
       "      <th>id</th>\n",
       "      <th></th>\n",
       "      <th></th>\n",
       "      <th></th>\n",
       "      <th></th>\n",
       "      <th></th>\n",
       "      <th></th>\n",
       "      <th></th>\n",
       "      <th></th>\n",
       "      <th></th>\n",
       "      <th></th>\n",
       "      <th></th>\n",
       "      <th></th>\n",
       "      <th></th>\n",
       "      <th></th>\n",
       "      <th></th>\n",
       "      <th></th>\n",
       "      <th></th>\n",
       "      <th></th>\n",
       "    </tr>\n",
       "  </thead>\n",
       "  <tbody>\n",
       "    <tr>\n",
       "      <th>0</th>\n",
       "      <td>LAW ENFORCEMENT ON HIGH ALERT Following Threat...</td>\n",
       "      <td>No comment expected Barack Obama Members FYF F...</td>\n",
       "      <td>0</td>\n",
       "      <td>fake</td>\n",
       "      <td>130</td>\n",
       "      <td>5049</td>\n",
       "      <td>18</td>\n",
       "      <td>871</td>\n",
       "      <td>6</td>\n",
       "      <td>48</td>\n",
       "      <td>No comment expect Barack Obama Members FYF Fuk...</td>\n",
       "      <td>LAW ENFORCEMENT ON HIGH ALERT Following Threat...</td>\n",
       "      <td>neutral</td>\n",
       "      <td>0.630</td>\n",
       "      <td>neutral</td>\n",
       "      <td>0.645</td>\n",
       "      <td>Surprise</td>\n",
       "      <td>Happy</td>\n",
       "    </tr>\n",
       "    <tr>\n",
       "      <th>1</th>\n",
       "      <td>UNBELIEVABLE! OBAMA S ATTORNEY GENERAL SAYS MO...</td>\n",
       "      <td>Now demonstrators gathered last night exercisi...</td>\n",
       "      <td>0</td>\n",
       "      <td>fake</td>\n",
       "      <td>145</td>\n",
       "      <td>216</td>\n",
       "      <td>18</td>\n",
       "      <td>34</td>\n",
       "      <td>0</td>\n",
       "      <td>46</td>\n",
       "      <td>Now demonstrator gather last night exercise co...</td>\n",
       "      <td>UNBELIEVABLE! OBAMA S ATTORNEY GENERAL SAYS MO...</td>\n",
       "      <td>positive</td>\n",
       "      <td>0.511</td>\n",
       "      <td>neutral</td>\n",
       "      <td>1.000</td>\n",
       "      <td>neutral</td>\n",
       "      <td>neutral</td>\n",
       "    </tr>\n",
       "    <tr>\n",
       "      <th>2</th>\n",
       "      <td>Bobby Jindal raised Hindu uses story Christian...</td>\n",
       "      <td>A dozen politically active pastors came privat...</td>\n",
       "      <td>1</td>\n",
       "      <td>real</td>\n",
       "      <td>105</td>\n",
       "      <td>8120</td>\n",
       "      <td>16</td>\n",
       "      <td>1321</td>\n",
       "      <td>0</td>\n",
       "      <td>16</td>\n",
       "      <td>A dozen politically active pastor come private...</td>\n",
       "      <td>Bobby Jindal raise Hindu use story Christian c...</td>\n",
       "      <td>neutral</td>\n",
       "      <td>1.000</td>\n",
       "      <td>neutral</td>\n",
       "      <td>0.526</td>\n",
       "      <td>neutral</td>\n",
       "      <td>neutral</td>\n",
       "    </tr>\n",
       "    <tr>\n",
       "      <th>3</th>\n",
       "      <td>SATAN Russia unvelis image terrifying new SUPE...</td>\n",
       "      <td>The RS Sarmat missile dubbed Satan replace SS ...</td>\n",
       "      <td>0</td>\n",
       "      <td>fake</td>\n",
       "      <td>101</td>\n",
       "      <td>1932</td>\n",
       "      <td>16</td>\n",
       "      <td>329</td>\n",
       "      <td>1</td>\n",
       "      <td>10</td>\n",
       "      <td>The RS Sarmat missile dub Satan replace SS Fli...</td>\n",
       "      <td>SATAN Russia unvelis image terrify new SUPERNU...</td>\n",
       "      <td>neutral</td>\n",
       "      <td>0.519</td>\n",
       "      <td>neutral</td>\n",
       "      <td>1.000</td>\n",
       "      <td>neutral</td>\n",
       "      <td>neutral</td>\n",
       "    </tr>\n",
       "    <tr>\n",
       "      <th>4</th>\n",
       "      <td>About Time! Christian Group Sues Amazon SPLC D...</td>\n",
       "      <td>All say one time someone sued Southern Poverty...</td>\n",
       "      <td>0</td>\n",
       "      <td>fake</td>\n",
       "      <td>78</td>\n",
       "      <td>1530</td>\n",
       "      <td>13</td>\n",
       "      <td>244</td>\n",
       "      <td>4</td>\n",
       "      <td>7</td>\n",
       "      <td>All say one time someone sue Southern Poverty ...</td>\n",
       "      <td>About Time! Christian Group Sues Amazon SPLC D...</td>\n",
       "      <td>neutral</td>\n",
       "      <td>1.000</td>\n",
       "      <td>neutral</td>\n",
       "      <td>1.000</td>\n",
       "      <td>Surprise</td>\n",
       "      <td>neutral</td>\n",
       "    </tr>\n",
       "  </tbody>\n",
       "</table>\n",
       "</div>"
      ],
      "text/plain": [
       "                                                title  \\\n",
       "id                                                      \n",
       "0   LAW ENFORCEMENT ON HIGH ALERT Following Threat...   \n",
       "1   UNBELIEVABLE! OBAMA S ATTORNEY GENERAL SAYS MO...   \n",
       "2   Bobby Jindal raised Hindu uses story Christian...   \n",
       "3   SATAN Russia unvelis image terrifying new SUPE...   \n",
       "4   About Time! Christian Group Sues Amazon SPLC D...   \n",
       "\n",
       "                                                 text  label label_translated  \\\n",
       "id                                                                              \n",
       "0   No comment expected Barack Obama Members FYF F...      0             fake   \n",
       "1   Now demonstrators gathered last night exercisi...      0             fake   \n",
       "2   A dozen politically active pastors came privat...      1             real   \n",
       "3   The RS Sarmat missile dubbed Satan replace SS ...      0             fake   \n",
       "4   All say one time someone sued Southern Poverty...      0             fake   \n",
       "\n",
       "    title_char_count  text_char_count  title_word_count  text_word_count  \\\n",
       "id                                                                         \n",
       "0                130             5049                18              871   \n",
       "1                145              216                18               34   \n",
       "2                105             8120                16             1321   \n",
       "3                101             1932                16              329   \n",
       "4                 78             1530                13              244   \n",
       "\n",
       "    title_stopword_count  text_stopword_count  \\\n",
       "id                                              \n",
       "0                      6                   48   \n",
       "1                      0                   46   \n",
       "2                      0                   16   \n",
       "3                      1                   10   \n",
       "4                      4                    7   \n",
       "\n",
       "                                      text_lemmatized  \\\n",
       "id                                                      \n",
       "0   No comment expect Barack Obama Members FYF Fuk...   \n",
       "1   Now demonstrator gather last night exercise co...   \n",
       "2   A dozen politically active pastor come private...   \n",
       "3   The RS Sarmat missile dub Satan replace SS Fli...   \n",
       "4   All say one time someone sue Southern Poverty ...   \n",
       "\n",
       "                                     title_lemmatized title_polarity  \\\n",
       "id                                                                     \n",
       "0   LAW ENFORCEMENT ON HIGH ALERT Following Threat...        neutral   \n",
       "1   UNBELIEVABLE! OBAMA S ATTORNEY GENERAL SAYS MO...       positive   \n",
       "2   Bobby Jindal raise Hindu use story Christian c...        neutral   \n",
       "3   SATAN Russia unvelis image terrify new SUPERNU...        neutral   \n",
       "4   About Time! Christian Group Sues Amazon SPLC D...        neutral   \n",
       "\n",
       "    title_polarity_score text_polarity  text_polarity_score title_emotion  \\\n",
       "id                                                                          \n",
       "0                  0.630       neutral                0.645      Surprise   \n",
       "1                  0.511       neutral                1.000       neutral   \n",
       "2                  1.000       neutral                0.526       neutral   \n",
       "3                  0.519       neutral                1.000       neutral   \n",
       "4                  1.000       neutral                1.000      Surprise   \n",
       "\n",
       "   text_emotion  \n",
       "id               \n",
       "0         Happy  \n",
       "1       neutral  \n",
       "2       neutral  \n",
       "3       neutral  \n",
       "4       neutral  "
      ]
     },
     "execution_count": 2,
     "metadata": {},
     "output_type": "execute_result"
    }
   ],
   "source": [
    "df = pd.read_csv(\"20k cleaned.csv\")\n",
    "df.set_index(\"id\", inplace=True)\n",
    "df.head()"
   ]
  },
  {
   "cell_type": "code",
   "execution_count": 3,
   "id": "8569b275",
   "metadata": {},
   "outputs": [
    {
     "data": {
      "text/plain": [
       "(22012, 18)"
      ]
     },
     "execution_count": 3,
     "metadata": {},
     "output_type": "execute_result"
    }
   ],
   "source": [
    "df.shape"
   ]
  },
  {
   "cell_type": "code",
   "execution_count": 4,
   "id": "66246468",
   "metadata": {},
   "outputs": [
    {
     "data": {
      "text/plain": [
       "fake    11212\n",
       "real    10800\n",
       "Name: label_translated, dtype: int64"
      ]
     },
     "execution_count": 4,
     "metadata": {},
     "output_type": "execute_result"
    }
   ],
   "source": [
    "df['label_translated'].value_counts()"
   ]
  },
  {
   "cell_type": "markdown",
   "id": "71ca249f",
   "metadata": {},
   "source": [
    "# Testing for best indicator"
   ]
  },
  {
   "cell_type": "code",
   "execution_count": 5,
   "id": "1c440299",
   "metadata": {},
   "outputs": [],
   "source": [
    "def kfold_dt(indicators):\n",
    "    news_df = df['label_translated']\n",
    "    global newsdata_pd\n",
    "    scores = {}\n",
    "    \n",
    "    for indicator in indicators:  \n",
    "        if indicator.dtype == np.dtype('object'): #Need to convert to int first using OneHotEncoder()\n",
    "            ohe = OneHotEncoder()\n",
    "            news_cat = pd.DataFrame(indicator)\n",
    "            ohe.fit(news_cat)\n",
    "            news_cat_ohe = pd.DataFrame(ohe.transform(news_cat).toarray(), columns=ohe.get_feature_names_out(news_cat.columns))\n",
    "            newsdata_pd = pd.concat([news_cat_ohe, news_df], sort = False, axis = 1).reindex(index=news_cat_ohe.index)\n",
    "            \n",
    "        elif indicator.dtype == np.dtype('int64'):\n",
    "            news_cat = pd.DataFrame(indicator)\n",
    "            newsdata_pd = pd.concat([news_cat, news_df], sort = False, axis = 1).reindex(index=news_cat.index)\n",
    "            \n",
    "        dectree = DecisionTreeClassifier(max_depth = 4)\n",
    "        skf = StratifiedKFold(n_splits=5, shuffle=True, random_state=17)\n",
    "        y = pd.DataFrame(newsdata_pd['label_translated']) #Response\n",
    "        x = pd.DataFrame(newsdata_pd.drop('label_translated', axis = 1)) #Predictors\n",
    "        x_train, x_test, y_train, y_test = train_test_split(x, y, test_size = 0.2)\n",
    "        \n",
    "        #Calculation of scores\n",
    "        scores = cross_val_score(dectree, x_train, y_train['label_translated'], cv=skf)\n",
    "        scores[indicator.name] = scores\n",
    "        \n",
    "    return scores"
   ]
  },
  {
   "cell_type": "code",
   "execution_count": 6,
   "id": "33011e32",
   "metadata": {},
   "outputs": [
    {
     "name": "stdout",
     "output_type": "stream",
     "text": [
      "title_word_count score: 0.66\n",
      "text_emotion score: 0.61\n",
      "text_word_count score: 0.61\n",
      "title_emotion score: 0.54\n",
      "text_polarity score: 0.53\n",
      "title_polarity score: 0.52\n",
      "text_stopword_count score: 0.51\n",
      "title_stopword_count score: 0.51\n"
     ]
    }
   ],
   "source": [
    "indicators = [\n",
    "             df['title_word_count'], \n",
    "             df['text_word_count'], \n",
    "             df['title_stopword_count'], \n",
    "             df['text_stopword_count'], \n",
    "             df['title_polarity'], \n",
    "             df['text_polarity'], \n",
    "             df['title_emotion'], \n",
    "             df['text_emotion']\n",
    "            ]\n",
    "\n",
    "scores = kfold_dt(indicators)\n",
    "\n",
    "\n",
    "for key, value in sorted(scores.items(), key=lambda x: x[1].mean(), reverse=True):\n",
    "    print(f\"{key} score: {value.mean():.2f}\")"
   ]
  },
  {
   "cell_type": "markdown",
   "id": "d9d81663",
   "metadata": {},
   "source": [
    "# Top 3 Best Indicators: \n",
    "1) Title wordcount<br>\n",
    "2) Text Emotion<br>\n",
    "3) Text wordcount"
   ]
  },
  {
   "cell_type": "markdown",
   "id": "e104f76c",
   "metadata": {},
   "source": [
    "### Encoding text_emotion into int from string"
   ]
  },
  {
   "cell_type": "code",
   "execution_count": 7,
   "id": "e78de78b",
   "metadata": {},
   "outputs": [
    {
     "data": {
      "text/html": [
       "<div>\n",
       "<style scoped>\n",
       "    .dataframe tbody tr th:only-of-type {\n",
       "        vertical-align: middle;\n",
       "    }\n",
       "\n",
       "    .dataframe tbody tr th {\n",
       "        vertical-align: top;\n",
       "    }\n",
       "\n",
       "    .dataframe thead th {\n",
       "        text-align: right;\n",
       "    }\n",
       "</style>\n",
       "<table border=\"1\" class=\"dataframe\">\n",
       "  <thead>\n",
       "    <tr style=\"text-align: right;\">\n",
       "      <th></th>\n",
       "      <th>title</th>\n",
       "      <th>text</th>\n",
       "      <th>label</th>\n",
       "      <th>label_translated</th>\n",
       "      <th>title_char_count</th>\n",
       "      <th>text_char_count</th>\n",
       "      <th>title_word_count</th>\n",
       "      <th>text_word_count</th>\n",
       "      <th>title_stopword_count</th>\n",
       "      <th>text_stopword_count</th>\n",
       "      <th>text_lemmatized</th>\n",
       "      <th>title_lemmatized</th>\n",
       "      <th>title_polarity</th>\n",
       "      <th>title_polarity_score</th>\n",
       "      <th>text_polarity</th>\n",
       "      <th>text_polarity_score</th>\n",
       "      <th>title_emotion</th>\n",
       "      <th>text_emotion</th>\n",
       "    </tr>\n",
       "    <tr>\n",
       "      <th>id</th>\n",
       "      <th></th>\n",
       "      <th></th>\n",
       "      <th></th>\n",
       "      <th></th>\n",
       "      <th></th>\n",
       "      <th></th>\n",
       "      <th></th>\n",
       "      <th></th>\n",
       "      <th></th>\n",
       "      <th></th>\n",
       "      <th></th>\n",
       "      <th></th>\n",
       "      <th></th>\n",
       "      <th></th>\n",
       "      <th></th>\n",
       "      <th></th>\n",
       "      <th></th>\n",
       "      <th></th>\n",
       "    </tr>\n",
       "  </thead>\n",
       "  <tbody>\n",
       "    <tr>\n",
       "      <th>0</th>\n",
       "      <td>LAW ENFORCEMENT ON HIGH ALERT Following Threat...</td>\n",
       "      <td>No comment expected Barack Obama Members FYF F...</td>\n",
       "      <td>0</td>\n",
       "      <td>fake</td>\n",
       "      <td>130</td>\n",
       "      <td>5049</td>\n",
       "      <td>18</td>\n",
       "      <td>871</td>\n",
       "      <td>6</td>\n",
       "      <td>48</td>\n",
       "      <td>No comment expect Barack Obama Members FYF Fuk...</td>\n",
       "      <td>LAW ENFORCEMENT ON HIGH ALERT Following Threat...</td>\n",
       "      <td>neutral</td>\n",
       "      <td>0.630</td>\n",
       "      <td>neutral</td>\n",
       "      <td>0.645</td>\n",
       "      <td>Surprise</td>\n",
       "      <td>2</td>\n",
       "    </tr>\n",
       "    <tr>\n",
       "      <th>1</th>\n",
       "      <td>UNBELIEVABLE! OBAMA S ATTORNEY GENERAL SAYS MO...</td>\n",
       "      <td>Now demonstrators gathered last night exercisi...</td>\n",
       "      <td>0</td>\n",
       "      <td>fake</td>\n",
       "      <td>145</td>\n",
       "      <td>216</td>\n",
       "      <td>18</td>\n",
       "      <td>34</td>\n",
       "      <td>0</td>\n",
       "      <td>46</td>\n",
       "      <td>Now demonstrator gather last night exercise co...</td>\n",
       "      <td>UNBELIEVABLE! OBAMA S ATTORNEY GENERAL SAYS MO...</td>\n",
       "      <td>positive</td>\n",
       "      <td>0.511</td>\n",
       "      <td>neutral</td>\n",
       "      <td>1.000</td>\n",
       "      <td>neutral</td>\n",
       "      <td>5</td>\n",
       "    </tr>\n",
       "    <tr>\n",
       "      <th>2</th>\n",
       "      <td>Bobby Jindal raised Hindu uses story Christian...</td>\n",
       "      <td>A dozen politically active pastors came privat...</td>\n",
       "      <td>1</td>\n",
       "      <td>real</td>\n",
       "      <td>105</td>\n",
       "      <td>8120</td>\n",
       "      <td>16</td>\n",
       "      <td>1321</td>\n",
       "      <td>0</td>\n",
       "      <td>16</td>\n",
       "      <td>A dozen politically active pastor come private...</td>\n",
       "      <td>Bobby Jindal raise Hindu use story Christian c...</td>\n",
       "      <td>neutral</td>\n",
       "      <td>1.000</td>\n",
       "      <td>neutral</td>\n",
       "      <td>0.526</td>\n",
       "      <td>neutral</td>\n",
       "      <td>5</td>\n",
       "    </tr>\n",
       "    <tr>\n",
       "      <th>3</th>\n",
       "      <td>SATAN Russia unvelis image terrifying new SUPE...</td>\n",
       "      <td>The RS Sarmat missile dubbed Satan replace SS ...</td>\n",
       "      <td>0</td>\n",
       "      <td>fake</td>\n",
       "      <td>101</td>\n",
       "      <td>1932</td>\n",
       "      <td>16</td>\n",
       "      <td>329</td>\n",
       "      <td>1</td>\n",
       "      <td>10</td>\n",
       "      <td>The RS Sarmat missile dub Satan replace SS Fli...</td>\n",
       "      <td>SATAN Russia unvelis image terrify new SUPERNU...</td>\n",
       "      <td>neutral</td>\n",
       "      <td>0.519</td>\n",
       "      <td>neutral</td>\n",
       "      <td>1.000</td>\n",
       "      <td>neutral</td>\n",
       "      <td>5</td>\n",
       "    </tr>\n",
       "    <tr>\n",
       "      <th>4</th>\n",
       "      <td>About Time! Christian Group Sues Amazon SPLC D...</td>\n",
       "      <td>All say one time someone sued Southern Poverty...</td>\n",
       "      <td>0</td>\n",
       "      <td>fake</td>\n",
       "      <td>78</td>\n",
       "      <td>1530</td>\n",
       "      <td>13</td>\n",
       "      <td>244</td>\n",
       "      <td>4</td>\n",
       "      <td>7</td>\n",
       "      <td>All say one time someone sue Southern Poverty ...</td>\n",
       "      <td>About Time! Christian Group Sues Amazon SPLC D...</td>\n",
       "      <td>neutral</td>\n",
       "      <td>1.000</td>\n",
       "      <td>neutral</td>\n",
       "      <td>1.000</td>\n",
       "      <td>Surprise</td>\n",
       "      <td>5</td>\n",
       "    </tr>\n",
       "  </tbody>\n",
       "</table>\n",
       "</div>"
      ],
      "text/plain": [
       "                                                title  \\\n",
       "id                                                      \n",
       "0   LAW ENFORCEMENT ON HIGH ALERT Following Threat...   \n",
       "1   UNBELIEVABLE! OBAMA S ATTORNEY GENERAL SAYS MO...   \n",
       "2   Bobby Jindal raised Hindu uses story Christian...   \n",
       "3   SATAN Russia unvelis image terrifying new SUPE...   \n",
       "4   About Time! Christian Group Sues Amazon SPLC D...   \n",
       "\n",
       "                                                 text  label label_translated  \\\n",
       "id                                                                              \n",
       "0   No comment expected Barack Obama Members FYF F...      0             fake   \n",
       "1   Now demonstrators gathered last night exercisi...      0             fake   \n",
       "2   A dozen politically active pastors came privat...      1             real   \n",
       "3   The RS Sarmat missile dubbed Satan replace SS ...      0             fake   \n",
       "4   All say one time someone sued Southern Poverty...      0             fake   \n",
       "\n",
       "    title_char_count  text_char_count  title_word_count  text_word_count  \\\n",
       "id                                                                         \n",
       "0                130             5049                18              871   \n",
       "1                145              216                18               34   \n",
       "2                105             8120                16             1321   \n",
       "3                101             1932                16              329   \n",
       "4                 78             1530                13              244   \n",
       "\n",
       "    title_stopword_count  text_stopword_count  \\\n",
       "id                                              \n",
       "0                      6                   48   \n",
       "1                      0                   46   \n",
       "2                      0                   16   \n",
       "3                      1                   10   \n",
       "4                      4                    7   \n",
       "\n",
       "                                      text_lemmatized  \\\n",
       "id                                                      \n",
       "0   No comment expect Barack Obama Members FYF Fuk...   \n",
       "1   Now demonstrator gather last night exercise co...   \n",
       "2   A dozen politically active pastor come private...   \n",
       "3   The RS Sarmat missile dub Satan replace SS Fli...   \n",
       "4   All say one time someone sue Southern Poverty ...   \n",
       "\n",
       "                                     title_lemmatized title_polarity  \\\n",
       "id                                                                     \n",
       "0   LAW ENFORCEMENT ON HIGH ALERT Following Threat...        neutral   \n",
       "1   UNBELIEVABLE! OBAMA S ATTORNEY GENERAL SAYS MO...       positive   \n",
       "2   Bobby Jindal raise Hindu use story Christian c...        neutral   \n",
       "3   SATAN Russia unvelis image terrify new SUPERNU...        neutral   \n",
       "4   About Time! Christian Group Sues Amazon SPLC D...        neutral   \n",
       "\n",
       "    title_polarity_score text_polarity  text_polarity_score title_emotion  \\\n",
       "id                                                                          \n",
       "0                  0.630       neutral                0.645      Surprise   \n",
       "1                  0.511       neutral                1.000       neutral   \n",
       "2                  1.000       neutral                0.526       neutral   \n",
       "3                  0.519       neutral                1.000       neutral   \n",
       "4                  1.000       neutral                1.000      Surprise   \n",
       "\n",
       "    text_emotion  \n",
       "id                \n",
       "0              2  \n",
       "1              5  \n",
       "2              5  \n",
       "3              5  \n",
       "4              5  "
      ]
     },
     "execution_count": 7,
     "metadata": {},
     "output_type": "execute_result"
    }
   ],
   "source": [
    "from sklearn.preprocessing import LabelEncoder\n",
    "\n",
    "le = LabelEncoder()\n",
    "\n",
    "df['text_emotion'] = le.fit_transform(np.ravel(df[['text_emotion']]))\n",
    "df.head()"
   ]
  },
  {
   "cell_type": "code",
   "execution_count": 8,
   "id": "36b034ac",
   "metadata": {
    "scrolled": true
   },
   "outputs": [
    {
     "name": "stdout",
     "output_type": "stream",
     "text": [
      "<class 'pandas.core.frame.DataFrame'>\n",
      "Int64Index: 22012 entries, 0 to 22011\n",
      "Data columns (total 4 columns):\n",
      " #   Column            Non-Null Count  Dtype \n",
      "---  ------            --------------  ----- \n",
      " 0   title_word_count  22012 non-null  int64 \n",
      " 1   text_emotion      22012 non-null  int32 \n",
      " 2   text_word_count   22012 non-null  int64 \n",
      " 3   label_translated  22012 non-null  object\n",
      "dtypes: int32(1), int64(2), object(1)\n",
      "memory usage: 773.9+ KB\n"
     ]
    }
   ],
   "source": [
    "news_df = df['label_translated']\n",
    "news_num = df[['title_word_count','text_emotion','text_word_count']]\n",
    "news_final = pd.concat([news_num, news_df], axis=1, sort=False)\n",
    "news_final = news_final.reindex(index=news_num.index)\n",
    "news_final.info()"
   ]
  },
  {
   "cell_type": "markdown",
   "id": "4615d096",
   "metadata": {},
   "source": [
    "# Model Training: Logistic Regression, Decision Tree, Random Forest, Support Vector Machine Classifier, Ensemble"
   ]
  },
  {
   "cell_type": "markdown",
   "id": "415a34dd",
   "metadata": {},
   "source": [
    "## Model 1 : Logistic Regression Model (Title only)"
   ]
  },
  {
   "cell_type": "markdown",
   "id": "700f32f3",
   "metadata": {},
   "source": [
    "### Step 1 : TF-IDF Analysis"
   ]
  },
  {
   "cell_type": "code",
   "execution_count": 9,
   "id": "56e9fd17",
   "metadata": {},
   "outputs": [],
   "source": [
    "tfidf = TfidfVectorizer(max_features=10000, lowercase=True, stop_words='english', smooth_idf=True, use_idf=True, sublinear_tf=True, strip_accents=None, preprocessor=None, \n",
    "                        norm='l2')"
   ]
  },
  {
   "cell_type": "code",
   "execution_count": 10,
   "id": "4534025a",
   "metadata": {},
   "outputs": [],
   "source": [
    "def tfidf_top_n_features(tfidf_data, features, n):     \n",
    "    tfidf_df = pd.DataFrame(tfidf_data.toarray(), columns=features)\n",
    "    tfidf_df = tfidf_df.T  \n",
    "    tfidf_means = tfidf_df.mean(axis=1)\n",
    "    tfidf_df_summed = pd.DataFrame({'feature':tfidf_means.index, 'avg_tfidf':tfidf_means.values})    \n",
    "    tfidf_df_summed = tfidf_df_summed.nlargest(n, 'avg_tfidf')\n",
    "    return tfidf_df_summed"
   ]
  },
  {
   "cell_type": "markdown",
   "id": "9d66b14e",
   "metadata": {},
   "source": [
    "### Extract top 15 features of title and content from Real and Fake News"
   ]
  },
  {
   "cell_type": "markdown",
   "id": "963da1cf",
   "metadata": {},
   "source": [
    "### Top 15 features of title"
   ]
  },
  {
   "cell_type": "code",
   "execution_count": 11,
   "id": "736231b3",
   "metadata": {},
   "outputs": [
    {
     "data": {
      "text/html": [
       "<div>\n",
       "<style scoped>\n",
       "    .dataframe tbody tr th:only-of-type {\n",
       "        vertical-align: middle;\n",
       "    }\n",
       "\n",
       "    .dataframe tbody tr th {\n",
       "        vertical-align: top;\n",
       "    }\n",
       "\n",
       "    .dataframe thead th {\n",
       "        text-align: right;\n",
       "    }\n",
       "</style>\n",
       "<table border=\"1\" class=\"dataframe\">\n",
       "  <thead>\n",
       "    <tr style=\"text-align: right;\">\n",
       "      <th></th>\n",
       "      <th>feature</th>\n",
       "      <th>avg_tfidf</th>\n",
       "    </tr>\n",
       "  </thead>\n",
       "  <tbody>\n",
       "    <tr>\n",
       "      <th>9278</th>\n",
       "      <td>trump</td>\n",
       "      <td>0.034197</td>\n",
       "    </tr>\n",
       "    <tr>\n",
       "      <th>5854</th>\n",
       "      <td>new</td>\n",
       "      <td>0.021708</td>\n",
       "    </tr>\n",
       "    <tr>\n",
       "      <th>9572</th>\n",
       "      <td>video</td>\n",
       "      <td>0.018198</td>\n",
       "    </tr>\n",
       "    <tr>\n",
       "      <th>9963</th>\n",
       "      <td>york</td>\n",
       "      <td>0.017900</td>\n",
       "    </tr>\n",
       "    <tr>\n",
       "      <th>9076</th>\n",
       "      <td>times</td>\n",
       "      <td>0.017799</td>\n",
       "    </tr>\n",
       "    <tr>\n",
       "      <th>7876</th>\n",
       "      <td>says</td>\n",
       "      <td>0.012180</td>\n",
       "    </tr>\n",
       "    <tr>\n",
       "      <th>4085</th>\n",
       "      <td>hillary</td>\n",
       "      <td>0.011559</td>\n",
       "    </tr>\n",
       "    <tr>\n",
       "      <th>1533</th>\n",
       "      <td>clinton</td>\n",
       "      <td>0.011513</td>\n",
       "    </tr>\n",
       "    <tr>\n",
       "      <th>5974</th>\n",
       "      <td>obama</td>\n",
       "      <td>0.011130</td>\n",
       "    </tr>\n",
       "    <tr>\n",
       "      <th>4168</th>\n",
       "      <td>house</td>\n",
       "      <td>0.008212</td>\n",
       "    </tr>\n",
       "    <tr>\n",
       "      <th>2626</th>\n",
       "      <td>donald</td>\n",
       "      <td>0.007829</td>\n",
       "    </tr>\n",
       "    <tr>\n",
       "      <th>1052</th>\n",
       "      <td>breitbart</td>\n",
       "      <td>0.007571</td>\n",
       "    </tr>\n",
       "    <tr>\n",
       "      <th>6778</th>\n",
       "      <td>president</td>\n",
       "      <td>0.007113</td>\n",
       "    </tr>\n",
       "    <tr>\n",
       "      <th>7771</th>\n",
       "      <td>russia</td>\n",
       "      <td>0.006996</td>\n",
       "    </tr>\n",
       "    <tr>\n",
       "      <th>9787</th>\n",
       "      <td>white</td>\n",
       "      <td>0.006798</td>\n",
       "    </tr>\n",
       "  </tbody>\n",
       "</table>\n",
       "</div>"
      ],
      "text/plain": [
       "        feature  avg_tfidf\n",
       "9278      trump   0.034197\n",
       "5854        new   0.021708\n",
       "9572      video   0.018198\n",
       "9963       york   0.017900\n",
       "9076      times   0.017799\n",
       "7876       says   0.012180\n",
       "4085    hillary   0.011559\n",
       "1533    clinton   0.011513\n",
       "5974      obama   0.011130\n",
       "4168      house   0.008212\n",
       "2626     donald   0.007829\n",
       "1052  breitbart   0.007571\n",
       "6778  president   0.007113\n",
       "7771     russia   0.006996\n",
       "9787      white   0.006798"
      ]
     },
     "execution_count": 11,
     "metadata": {},
     "output_type": "execute_result"
    }
   ],
   "source": [
    "title_d = tfidf.fit_transform(df['title'])\n",
    "title_features = tfidf.get_feature_names_out()\n",
    "tfidf_top_n_features(title_d, title_features, 15)"
   ]
  },
  {
   "cell_type": "markdown",
   "id": "84a88dc5",
   "metadata": {},
   "source": [
    "### Top 15 features of title and text from Fake News"
   ]
  },
  {
   "cell_type": "code",
   "execution_count": 12,
   "id": "5f172051",
   "metadata": {},
   "outputs": [
    {
     "data": {
      "text/html": [
       "<div>\n",
       "<style scoped>\n",
       "    .dataframe tbody tr th:only-of-type {\n",
       "        vertical-align: middle;\n",
       "    }\n",
       "\n",
       "    .dataframe tbody tr th {\n",
       "        vertical-align: top;\n",
       "    }\n",
       "\n",
       "    .dataframe thead th {\n",
       "        text-align: right;\n",
       "    }\n",
       "</style>\n",
       "<table border=\"1\" class=\"dataframe\">\n",
       "  <thead>\n",
       "    <tr style=\"text-align: right;\">\n",
       "      <th></th>\n",
       "      <th>feature</th>\n",
       "      <th>avg_tfidf</th>\n",
       "    </tr>\n",
       "  </thead>\n",
       "  <tbody>\n",
       "    <tr>\n",
       "      <th>9071</th>\n",
       "      <td>trump</td>\n",
       "      <td>0.033369</td>\n",
       "    </tr>\n",
       "    <tr>\n",
       "      <th>5631</th>\n",
       "      <td>new</td>\n",
       "      <td>0.030634</td>\n",
       "    </tr>\n",
       "    <tr>\n",
       "      <th>9957</th>\n",
       "      <td>york</td>\n",
       "      <td>0.027704</td>\n",
       "    </tr>\n",
       "    <tr>\n",
       "      <th>8840</th>\n",
       "      <td>times</td>\n",
       "      <td>0.027390</td>\n",
       "    </tr>\n",
       "    <tr>\n",
       "      <th>7326</th>\n",
       "      <td>says</td>\n",
       "      <td>0.018026</td>\n",
       "    </tr>\n",
       "    <tr>\n",
       "      <th>1295</th>\n",
       "      <td>breitbart</td>\n",
       "      <td>0.012491</td>\n",
       "    </tr>\n",
       "    <tr>\n",
       "      <th>4511</th>\n",
       "      <td>house</td>\n",
       "      <td>0.011629</td>\n",
       "    </tr>\n",
       "    <tr>\n",
       "      <th>1863</th>\n",
       "      <td>clinton</td>\n",
       "      <td>0.009394</td>\n",
       "    </tr>\n",
       "    <tr>\n",
       "      <th>5701</th>\n",
       "      <td>obama</td>\n",
       "      <td>0.008963</td>\n",
       "    </tr>\n",
       "    <tr>\n",
       "      <th>7217</th>\n",
       "      <td>russia</td>\n",
       "      <td>0.008484</td>\n",
       "    </tr>\n",
       "    <tr>\n",
       "      <th>9754</th>\n",
       "      <td>white</td>\n",
       "      <td>0.008024</td>\n",
       "    </tr>\n",
       "    <tr>\n",
       "      <th>5670</th>\n",
       "      <td>north</td>\n",
       "      <td>0.007605</td>\n",
       "    </tr>\n",
       "    <tr>\n",
       "      <th>4967</th>\n",
       "      <td>korea</td>\n",
       "      <td>0.007145</td>\n",
       "    </tr>\n",
       "    <tr>\n",
       "      <th>3080</th>\n",
       "      <td>donald</td>\n",
       "      <td>0.006883</td>\n",
       "    </tr>\n",
       "    <tr>\n",
       "      <th>8191</th>\n",
       "      <td>state</td>\n",
       "      <td>0.006816</td>\n",
       "    </tr>\n",
       "  </tbody>\n",
       "</table>\n",
       "</div>"
      ],
      "text/plain": [
       "        feature  avg_tfidf\n",
       "9071      trump   0.033369\n",
       "5631        new   0.030634\n",
       "9957       york   0.027704\n",
       "8840      times   0.027390\n",
       "7326       says   0.018026\n",
       "1295  breitbart   0.012491\n",
       "4511      house   0.011629\n",
       "1863    clinton   0.009394\n",
       "5701      obama   0.008963\n",
       "7217     russia   0.008484\n",
       "9754      white   0.008024\n",
       "5670      north   0.007605\n",
       "4967      korea   0.007145\n",
       "3080     donald   0.006883\n",
       "8191      state   0.006816"
      ]
     },
     "execution_count": 12,
     "metadata": {},
     "output_type": "execute_result"
    }
   ],
   "source": [
    "title_fake_d = tfidf.fit_transform(df.loc[df['label']==1]['title'])\n",
    "title_fake_features = tfidf.get_feature_names_out()\n",
    "tfidf_top_n_features(title_fake_d, title_fake_features, 15)"
   ]
  },
  {
   "cell_type": "code",
   "execution_count": 13,
   "id": "71e5512c",
   "metadata": {},
   "outputs": [
    {
     "data": {
      "text/html": [
       "<div>\n",
       "<style scoped>\n",
       "    .dataframe tbody tr th:only-of-type {\n",
       "        vertical-align: middle;\n",
       "    }\n",
       "\n",
       "    .dataframe tbody tr th {\n",
       "        vertical-align: top;\n",
       "    }\n",
       "\n",
       "    .dataframe thead th {\n",
       "        text-align: right;\n",
       "    }\n",
       "</style>\n",
       "<table border=\"1\" class=\"dataframe\">\n",
       "  <thead>\n",
       "    <tr style=\"text-align: right;\">\n",
       "      <th></th>\n",
       "      <th>feature</th>\n",
       "      <th>avg_tfidf</th>\n",
       "    </tr>\n",
       "  </thead>\n",
       "  <tbody>\n",
       "    <tr>\n",
       "      <th>7838</th>\n",
       "      <td>said</td>\n",
       "      <td>0.037433</td>\n",
       "    </tr>\n",
       "    <tr>\n",
       "      <th>9302</th>\n",
       "      <td>trump</td>\n",
       "      <td>0.029996</td>\n",
       "    </tr>\n",
       "    <tr>\n",
       "      <th>6841</th>\n",
       "      <td>president</td>\n",
       "      <td>0.023433</td>\n",
       "    </tr>\n",
       "    <tr>\n",
       "      <th>7620</th>\n",
       "      <td>reuters</td>\n",
       "      <td>0.021443</td>\n",
       "    </tr>\n",
       "    <tr>\n",
       "      <th>8535</th>\n",
       "      <td>state</td>\n",
       "      <td>0.018200</td>\n",
       "    </tr>\n",
       "    <tr>\n",
       "      <th>5983</th>\n",
       "      <td>new</td>\n",
       "      <td>0.018036</td>\n",
       "    </tr>\n",
       "    <tr>\n",
       "      <th>6480</th>\n",
       "      <td>people</td>\n",
       "      <td>0.017781</td>\n",
       "    </tr>\n",
       "    <tr>\n",
       "      <th>4309</th>\n",
       "      <td>house</td>\n",
       "      <td>0.017270</td>\n",
       "    </tr>\n",
       "    <tr>\n",
       "      <th>3909</th>\n",
       "      <td>government</td>\n",
       "      <td>0.016655</td>\n",
       "    </tr>\n",
       "    <tr>\n",
       "      <th>8539</th>\n",
       "      <td>states</td>\n",
       "      <td>0.016511</td>\n",
       "    </tr>\n",
       "    <tr>\n",
       "      <th>9442</th>\n",
       "      <td>united</td>\n",
       "      <td>0.016075</td>\n",
       "    </tr>\n",
       "    <tr>\n",
       "      <th>9128</th>\n",
       "      <td>told</td>\n",
       "      <td>0.015673</td>\n",
       "    </tr>\n",
       "    <tr>\n",
       "      <th>9740</th>\n",
       "      <td>washington</td>\n",
       "      <td>0.015493</td>\n",
       "    </tr>\n",
       "    <tr>\n",
       "      <th>7506</th>\n",
       "      <td>republican</td>\n",
       "      <td>0.015214</td>\n",
       "    </tr>\n",
       "    <tr>\n",
       "      <th>9955</th>\n",
       "      <td>year</td>\n",
       "      <td>0.015146</td>\n",
       "    </tr>\n",
       "  </tbody>\n",
       "</table>\n",
       "</div>"
      ],
      "text/plain": [
       "         feature  avg_tfidf\n",
       "7838        said   0.037433\n",
       "9302       trump   0.029996\n",
       "6841   president   0.023433\n",
       "7620     reuters   0.021443\n",
       "8535       state   0.018200\n",
       "5983         new   0.018036\n",
       "6480      people   0.017781\n",
       "4309       house   0.017270\n",
       "3909  government   0.016655\n",
       "8539      states   0.016511\n",
       "9442      united   0.016075\n",
       "9128        told   0.015673\n",
       "9740  washington   0.015493\n",
       "7506  republican   0.015214\n",
       "9955        year   0.015146"
      ]
     },
     "execution_count": 13,
     "metadata": {},
     "output_type": "execute_result"
    }
   ],
   "source": [
    "title_fake_d = tfidf.fit_transform(df.loc[df['label']==1]['text'])\n",
    "title_fake_features = tfidf.get_feature_names_out()\n",
    "tfidf_top_n_features(title_fake_d, title_fake_features, 15)"
   ]
  },
  {
   "cell_type": "markdown",
   "id": "02db6b9a",
   "metadata": {},
   "source": [
    "### Top 15 features of title and text from Real News"
   ]
  },
  {
   "cell_type": "code",
   "execution_count": 14,
   "id": "f908e47d",
   "metadata": {},
   "outputs": [
    {
     "data": {
      "text/html": [
       "<div>\n",
       "<style scoped>\n",
       "    .dataframe tbody tr th:only-of-type {\n",
       "        vertical-align: middle;\n",
       "    }\n",
       "\n",
       "    .dataframe tbody tr th {\n",
       "        vertical-align: top;\n",
       "    }\n",
       "\n",
       "    .dataframe thead th {\n",
       "        text-align: right;\n",
       "    }\n",
       "</style>\n",
       "<table border=\"1\" class=\"dataframe\">\n",
       "  <thead>\n",
       "    <tr style=\"text-align: right;\">\n",
       "      <th></th>\n",
       "      <th>feature</th>\n",
       "      <th>avg_tfidf</th>\n",
       "    </tr>\n",
       "  </thead>\n",
       "  <tbody>\n",
       "    <tr>\n",
       "      <th>8905</th>\n",
       "      <td>trump</td>\n",
       "      <td>0.035683</td>\n",
       "    </tr>\n",
       "    <tr>\n",
       "      <th>9387</th>\n",
       "      <td>video</td>\n",
       "      <td>0.028436</td>\n",
       "    </tr>\n",
       "    <tr>\n",
       "      <th>3585</th>\n",
       "      <td>hillary</td>\n",
       "      <td>0.017735</td>\n",
       "    </tr>\n",
       "    <tr>\n",
       "      <th>1272</th>\n",
       "      <td>clinton</td>\n",
       "      <td>0.013494</td>\n",
       "    </tr>\n",
       "    <tr>\n",
       "      <th>5112</th>\n",
       "      <td>obama</td>\n",
       "      <td>0.013288</td>\n",
       "    </tr>\n",
       "    <tr>\n",
       "      <th>9592</th>\n",
       "      <td>watch</td>\n",
       "      <td>0.010941</td>\n",
       "    </tr>\n",
       "    <tr>\n",
       "      <th>4095</th>\n",
       "      <td>just</td>\n",
       "      <td>0.009620</td>\n",
       "    </tr>\n",
       "    <tr>\n",
       "      <th>2428</th>\n",
       "      <td>donald</td>\n",
       "      <td>0.008811</td>\n",
       "    </tr>\n",
       "    <tr>\n",
       "      <th>5027</th>\n",
       "      <td>new</td>\n",
       "      <td>0.008374</td>\n",
       "    </tr>\n",
       "    <tr>\n",
       "      <th>5702</th>\n",
       "      <td>president</td>\n",
       "      <td>0.008147</td>\n",
       "    </tr>\n",
       "    <tr>\n",
       "      <th>5031</th>\n",
       "      <td>news</td>\n",
       "      <td>0.007745</td>\n",
       "    </tr>\n",
       "    <tr>\n",
       "      <th>2593</th>\n",
       "      <td>election</td>\n",
       "      <td>0.007174</td>\n",
       "    </tr>\n",
       "    <tr>\n",
       "      <th>240</th>\n",
       "      <td>america</td>\n",
       "      <td>0.006995</td>\n",
       "    </tr>\n",
       "    <tr>\n",
       "      <th>850</th>\n",
       "      <td>breaking</td>\n",
       "      <td>0.006734</td>\n",
       "    </tr>\n",
       "    <tr>\n",
       "      <th>707</th>\n",
       "      <td>black</td>\n",
       "      <td>0.006418</td>\n",
       "    </tr>\n",
       "  </tbody>\n",
       "</table>\n",
       "</div>"
      ],
      "text/plain": [
       "        feature  avg_tfidf\n",
       "8905      trump   0.035683\n",
       "9387      video   0.028436\n",
       "3585    hillary   0.017735\n",
       "1272    clinton   0.013494\n",
       "5112      obama   0.013288\n",
       "9592      watch   0.010941\n",
       "4095       just   0.009620\n",
       "2428     donald   0.008811\n",
       "5027        new   0.008374\n",
       "5702  president   0.008147\n",
       "5031       news   0.007745\n",
       "2593   election   0.007174\n",
       "240     america   0.006995\n",
       "850    breaking   0.006734\n",
       "707       black   0.006418"
      ]
     },
     "execution_count": 14,
     "metadata": {},
     "output_type": "execute_result"
    }
   ],
   "source": [
    "title_real_d = tfidf.fit_transform(df.loc[df['label']==0]['title'])\n",
    "title_real_features = tfidf.get_feature_names_out()\n",
    "tfidf_top_n_features(title_real_d, title_real_features, 15)"
   ]
  },
  {
   "cell_type": "code",
   "execution_count": 15,
   "id": "7d5a7a68",
   "metadata": {},
   "outputs": [
    {
     "data": {
      "text/html": [
       "<div>\n",
       "<style scoped>\n",
       "    .dataframe tbody tr th:only-of-type {\n",
       "        vertical-align: middle;\n",
       "    }\n",
       "\n",
       "    .dataframe tbody tr th {\n",
       "        vertical-align: top;\n",
       "    }\n",
       "\n",
       "    .dataframe thead th {\n",
       "        text-align: right;\n",
       "    }\n",
       "</style>\n",
       "<table border=\"1\" class=\"dataframe\">\n",
       "  <thead>\n",
       "    <tr style=\"text-align: right;\">\n",
       "      <th></th>\n",
       "      <th>feature</th>\n",
       "      <th>avg_tfidf</th>\n",
       "    </tr>\n",
       "  </thead>\n",
       "  <tbody>\n",
       "    <tr>\n",
       "      <th>9286</th>\n",
       "      <td>trump</td>\n",
       "      <td>0.033624</td>\n",
       "    </tr>\n",
       "    <tr>\n",
       "      <th>7838</th>\n",
       "      <td>said</td>\n",
       "      <td>0.021833</td>\n",
       "    </tr>\n",
       "    <tr>\n",
       "      <th>6513</th>\n",
       "      <td>people</td>\n",
       "      <td>0.020138</td>\n",
       "    </tr>\n",
       "    <tr>\n",
       "      <th>6883</th>\n",
       "      <td>president</td>\n",
       "      <td>0.019742</td>\n",
       "    </tr>\n",
       "    <tr>\n",
       "      <th>1583</th>\n",
       "      <td>clinton</td>\n",
       "      <td>0.019435</td>\n",
       "    </tr>\n",
       "    <tr>\n",
       "      <th>4192</th>\n",
       "      <td>hillary</td>\n",
       "      <td>0.018172</td>\n",
       "    </tr>\n",
       "    <tr>\n",
       "      <th>2719</th>\n",
       "      <td>donald</td>\n",
       "      <td>0.017138</td>\n",
       "    </tr>\n",
       "    <tr>\n",
       "      <th>5236</th>\n",
       "      <td>like</td>\n",
       "      <td>0.016739</td>\n",
       "    </tr>\n",
       "    <tr>\n",
       "      <th>5997</th>\n",
       "      <td>new</td>\n",
       "      <td>0.015036</td>\n",
       "    </tr>\n",
       "    <tr>\n",
       "      <th>6104</th>\n",
       "      <td>obama</td>\n",
       "      <td>0.014972</td>\n",
       "    </tr>\n",
       "    <tr>\n",
       "      <th>9097</th>\n",
       "      <td>time</td>\n",
       "      <td>0.014792</td>\n",
       "    </tr>\n",
       "    <tr>\n",
       "      <th>6000</th>\n",
       "      <td>news</td>\n",
       "      <td>0.014534</td>\n",
       "    </tr>\n",
       "    <tr>\n",
       "      <th>9331</th>\n",
       "      <td>twitter</td>\n",
       "      <td>0.013184</td>\n",
       "    </tr>\n",
       "    <tr>\n",
       "      <th>8542</th>\n",
       "      <td>state</td>\n",
       "      <td>0.013120</td>\n",
       "    </tr>\n",
       "    <tr>\n",
       "      <th>2911</th>\n",
       "      <td>election</td>\n",
       "      <td>0.012965</td>\n",
       "    </tr>\n",
       "  </tbody>\n",
       "</table>\n",
       "</div>"
      ],
      "text/plain": [
       "        feature  avg_tfidf\n",
       "9286      trump   0.033624\n",
       "7838       said   0.021833\n",
       "6513     people   0.020138\n",
       "6883  president   0.019742\n",
       "1583    clinton   0.019435\n",
       "4192    hillary   0.018172\n",
       "2719     donald   0.017138\n",
       "5236       like   0.016739\n",
       "5997        new   0.015036\n",
       "6104      obama   0.014972\n",
       "9097       time   0.014792\n",
       "6000       news   0.014534\n",
       "9331    twitter   0.013184\n",
       "8542      state   0.013120\n",
       "2911   election   0.012965"
      ]
     },
     "execution_count": 15,
     "metadata": {},
     "output_type": "execute_result"
    }
   ],
   "source": [
    "title_real_d = tfidf.fit_transform(df.loc[df['label']==0]['text'])\n",
    "title_real_features = tfidf.get_feature_names_out()\n",
    "tfidf_top_n_features(title_real_d, title_real_features, 15)"
   ]
  },
  {
   "cell_type": "markdown",
   "id": "55d0d65f",
   "metadata": {},
   "source": [
    "### Step 2 : Model Training"
   ]
  },
  {
   "cell_type": "code",
   "execution_count": 16,
   "id": "c3e73bba",
   "metadata": {},
   "outputs": [],
   "source": [
    "x_train, x_test, y_train, y_test = train_test_split(df['title'], df['label_translated'], test_size=0.2)"
   ]
  },
  {
   "cell_type": "code",
   "execution_count": 17,
   "id": "d3a86c26",
   "metadata": {},
   "outputs": [
    {
     "name": "stdout",
     "output_type": "stream",
     "text": [
      "Train: 17609 & 17609\n",
      "Test: 4403 & 4403\n"
     ]
    }
   ],
   "source": [
    "print(f\"Training Dataset: {x_train.shape[0]} & {y_train.shape[0]}\")\n",
    "print(f\"Testing Dataset: {x_test.shape[0]} & {y_test.shape[0]}\")"
   ]
  },
  {
   "cell_type": "markdown",
   "id": "30254c21",
   "metadata": {},
   "source": [
    "### Implementing a models accuracy table"
   ]
  },
  {
   "cell_type": "code",
   "execution_count": 18,
   "id": "866b15d7",
   "metadata": {},
   "outputs": [],
   "source": [
    "def update_accuracy(cm, acc, model):    \n",
    "    FP = float(cm[0][1])\n",
    "    TP = float(cm[1][1])   \n",
    "    FN = float(cm[1][0])\n",
    "    TN = float(cm[0][0])    \n",
    "    TPR = (TP / (TP + FP)) * 100\n",
    "    FPR = 100 - TPR    \n",
    "    TNR = (TN / (TN + FN)) * 100\n",
    "    FNR = 100 - TNR    \n",
    "    return {\n",
    "        'Model': model,        \n",
    "        'Accuracy': round(float(acc * 100), 1),\n",
    "        'True Pos': round(float(TPR), 1),        \n",
    "        'False Pos': round(float(FPR), 1),\n",
    "        'True Neg': round(float(TNR), 1),        \n",
    "        'False Neg': round(float(FNR), 1),\n",
    "    }\n",
    "accuracy_df = pd.DataFrame(columns=['Model', 'Accuracy', 'True Pos', 'False Pos', 'True Neg', 'False Neg']) "
   ]
  },
  {
   "cell_type": "markdown",
   "id": "cfc25d04",
   "metadata": {},
   "source": [
    "### Step 3 : K-Fold Cross Validation to estimate performance of model"
   ]
  },
  {
   "cell_type": "code",
   "execution_count": 19,
   "id": "60f0af80",
   "metadata": {},
   "outputs": [],
   "source": [
    "tfidf = TfidfVectorizer(strip_accents=None, preprocessor=None, smooth_idf=True, lowercase=False, use_idf=True, norm='l2')\n",
    "tfidf_train = tfidf.fit_transform(x_train)\n",
    "tfidf_test = tfidf.transform(x_test)"
   ]
  },
  {
   "cell_type": "code",
   "execution_count": 21,
   "id": "53d66566",
   "metadata": {},
   "outputs": [],
   "source": [
    "logreg = LogisticRegression(penalty='l2', C=1.0)\n",
    "sf = StratifiedKFold(n_splits=5, shuffle=True, random_state=2)\n",
    "scores = cross_val_score(logreg, tfidf_train, y_train, cv=sf)"
   ]
  },
  {
   "cell_type": "code",
   "execution_count": 22,
   "id": "f7d8daf4",
   "metadata": {},
   "outputs": [
    {
     "name": "stdout",
     "output_type": "stream",
     "text": [
      "Score: 0.92391\n",
      "Score: 0.92533\n",
      "Score: 0.92902\n",
      "Score: 0.92930\n",
      "Score: 0.92758\n",
      "Mean score: 0.92703\n"
     ]
    }
   ],
   "source": [
    "for score in scoress:\n",
    "    print(f\"Score: {score :.5f}\")\n",
    "print(f\"Mean score: {scores.mean() :.5f}\")"
   ]
  },
  {
   "cell_type": "markdown",
   "id": "6a5f077d",
   "metadata": {},
   "source": [
    "No sign of *overfitting* or *underfitting*. Great result!"
   ]
  },
  {
   "cell_type": "markdown",
   "id": "a1650375",
   "metadata": {},
   "source": [
    "### Printing the confusion matrix and accuracy"
   ]
  },
  {
   "cell_type": "code",
   "execution_count": 23,
   "id": "f1849fc6",
   "metadata": {},
   "outputs": [
    {
     "name": "stdout",
     "output_type": "stream",
     "text": [
      "Train Data Results\n",
      "\n",
      "TPR: 0.9595656192236599\n",
      "TNR: 0.9611303473695968\n",
      "\n",
      "FPR: 0.03886965263040321\n",
      "FNR: 0.04043438077634011\n",
      "\n",
      "Accuracy  : 0.9603611789425862\n"
     ]
    }
   ],
   "source": [
    "logreg.fit(tfidf_train, y_train)\n",
    "\n",
    "\n",
    "y_train_pred = logreg.predict(tfidf_train)\n",
    "print(\"Train Data Results\")\n",
    "print()\n",
    "\n",
    "cmTrain = confusion_matrix(y_train, y_train_pred)\n",
    "tnTrain = cmTrain[0][0]\n",
    "fpTrain = cmTrain[0][1]\n",
    "fnTrain = cmTrain[1][0]\n",
    "tpTrain = cmTrain[1][1] \n",
    "\n",
    "print(\"TPR:\", (tpTrain/(tpTrain + fnTrain)))\n",
    "print(\"TNR:\", (tnTrain/(tnTrain + fpTrain)))\n",
    "print()\n",
    "\n",
    "print(\"FPR:\", (fpTrain/(tnTrain + fpTrain)))\n",
    "print(\"FNR:\", (fnTrain/(tpTrain + fnTrain)))\n",
    "print()\n",
    "print(\"Accuracy  :\", logreg.score(tfidf_train, y_train))"
   ]
  },
  {
   "cell_type": "code",
   "execution_count": 24,
   "id": "0a2a7842",
   "metadata": {},
   "outputs": [
    {
     "data": {
      "text/plain": [
       "Text(0.5, 1.0, 'Logistic Regression Train Accuracy Score: 96.0%')"
      ]
     },
     "execution_count": 24,
     "metadata": {},
     "output_type": "execute_result"
    },
    {
     "data": {
      "image/png": "[encoded data removed]",
      "text/plain": [
       "<Figure size 900x900 with 2 Axes>"
      ]
     },
     "metadata": {},
     "output_type": "display_data"
    }
   ],
   "source": [
    "log_pred = logreg.predict(tfidf_train.toarray())\n",
    "log_accuracy = accuracy_score(y_train,log_pred)\n",
    "log_cm = metrics.confusion_matrix(y_train, log_pred)\n",
    "\n",
    "accuracy_list = update_accuracy(log_cm, log_accuracy, \"Logistic-Regression Train\")\n",
    "accuracy_df.loc[len(accuracy_df)] = accuracy_list\n",
    "\n",
    "plt.figure(figsize=(9,9))\n",
    "sns.heatmap(log_cm, annot=True, fmt=\".3f\", linewidths=.5, square = True, cmap = 'cubehelix')\n",
    "plt.ylabel('Actual label')\n",
    "plt.xlabel('Predicted label')\n",
    "all_sample_title = 'Logistic Regression Train Accuracy Score: {0:.1f}%'.format(log_accuracy*100)\n",
    "plt.title(all_sample_title, size = 15)"
   ]
  },
  {
   "cell_type": "code",
   "execution_count": 25,
   "id": "a4b21df5",
   "metadata": {},
   "outputs": [
    {
     "name": "stdout",
     "output_type": "stream",
     "text": [
      "Test Data Results\n",
      "\n",
      "TPR: 0.9333022388059702\n",
      "TNR: 0.9247454625940682\n",
      "\n",
      "FPR: 0.07525453740593183\n",
      "FNR: 0.06669776119402986\n",
      "\n",
      "Accuracy  : 0.9289121053826936\n"
     ]
    }
   ],
   "source": [
    "y_test_pred = logreg.predict(tfidf_test)\n",
    "print(\"Test Data Results\")\n",
    "\n",
    "print()\n",
    "\n",
    "cmTest = confusion_matrix(y_test, y_test_pred)\n",
    "tnTest = cmTest[0][0]\n",
    "fpTest = cmTest[0][1] \n",
    "fnTest = cmTest[1][0] \n",
    "tpTest = cmTest[1][1] \n",
    "\n",
    "\n",
    "print(\"TPR:\", (tpTest/(tpTest + fnTest)))\n",
    "print(\"TNR:\", (tnTest/(tnTest + fpTest)))\n",
    "print()\n",
    "\n",
    "print(\"FPR:\", (fpTest/(tnTest + fpTest)))\n",
    "print(\"FNR:\", (fnTest/(tpTest + fnTest)))\n",
    "print()\n",
    "print(\"Accuracy  :\", logreg.score(tfidf_test, y_test))"
   ]
  },
  {
   "cell_type": "code",
   "execution_count": 26,
   "id": "753e3ff1",
   "metadata": {},
   "outputs": [
    {
     "data": {
      "text/plain": [
       "Text(0.5, 1.0, 'Logistic Regression Test Accuracy Score: 92.9%')"
      ]
     },
     "execution_count": 26,
     "metadata": {},
     "output_type": "execute_result"
    },
    {
     "data": {
      "image/png": "[encoded data removed]",
      "text/plain": [
       "<Figure size 900x900 with 2 Axes>"
      ]
     },
     "metadata": {},
     "output_type": "display_data"
    }
   ],
   "source": [
    "log_pred = logreg.predict(tfidf_test.toarray())\n",
    "log_accuracy = accuracy_score(y_test,log_pred)\n",
    "log_cm = metrics.confusion_matrix(y_test, log_pred)\n",
    "\n",
    "accuracy_list = update_accuracy(log_cm, log_accuracy, \"Logistic-Regression Test\")\n",
    "accuracy_df.loc[len(accuracy_df)] = accuracy_list\n",
    "\n",
    "plt.figure(figsize=(9,9))\n",
    "sns.heatmap(log_cm, annot=True, fmt=\".3f\", linewidths=.5, square = True, cmap = 'cubehelix')\n",
    "plt.ylabel('Actual label')\n",
    "plt.xlabel('Predicted label')\n",
    "all_sample_title = 'Logistic Regression Test Accuracy Score: {0:.1f}%'.format(log_accuracy*100)\n",
    "plt.title(all_sample_title, size = 15)\n",
    "\n"
   ]
  },
  {
   "cell_type": "markdown",
   "id": "e2bb4d9e",
   "metadata": {},
   "source": [
    "Logistic Regression performed quite well of **96.1%** for training accuracy and **92.9%** for testing accuracy. The **gap difference of accuracy is quite minimal** which makes this a good model."
   ]
  },
  {
   "cell_type": "markdown",
   "id": "d8bfac09",
   "metadata": {},
   "source": [
    "## Model 2 : Decision Tree"
   ]
  },
  {
   "cell_type": "code",
   "execution_count": 27,
   "id": "fa4fb2f7",
   "metadata": {},
   "outputs": [
    {
     "name": "stdout",
     "output_type": "stream",
     "text": [
      "Train: 17609 & 17609\n",
      "Test: 4403 & 4403\n"
     ]
    }
   ],
   "source": [
    "y = pd.DataFrame(news_final['label_translated']) #Response\n",
    "x = pd.DataFrame(news_final.drop('label_translated', axis = 1)) #Predictors\n",
    "\n",
    "x_train, x_test, y_train, y_test = train_test_split(x,y, test_size = 0.2)\n",
    "\n",
    "print(f\"Train: {x_train.shape[0]} & {y_train.shape[0]}\")\n",
    "print(f\"Test: {x_test.shape[0]} & {y_test.shape[0]}\")\n",
    "\n"
   ]
  },
  {
   "cell_type": "code",
   "execution_count": 28,
   "id": "63225db0",
   "metadata": {},
   "outputs": [
    {
     "name": "stdout",
     "output_type": "stream",
     "text": [
      "Train Data Results\n",
      "\n",
      "TPR: 0.6934021801491681\n",
      "TNR: 0.7357769282662469\n",
      "\n",
      "FPR: 0.2642230717337531\n",
      "FNR: 0.3065978198508319\n",
      "\n",
      "Accuracy: 0.7148049292975183\n"
     ]
    }
   ],
   "source": [
    "from sklearn.tree import DecisionTreeClassifier\n",
    "clf = DecisionTreeClassifier(max_depth = 4)\n",
    "clf.fit(x_train, y_train)\n",
    "\n",
    "y_train_pred = clf.predict(x_train)\n",
    "print(\"Train Data Results\")\n",
    "print()\n",
    "\n",
    "cmTrain = confusion_matrix(y_train, y_train_pred)\n",
    "tnTrain = cmTrain[0][0] \n",
    "fpTrain = cmTrain[0][1] \n",
    "fnTrain = cmTrain[1][0] \n",
    "tpTrain = cmTrain[1][1] \n",
    "\n",
    "print(\"TPR:\", (tpTrain/(tpTrain + fnTrain)))\n",
    "print(\"TNR:\", (tnTrain/(tnTrain + fpTrain)))\n",
    "print()\n",
    "\n",
    "print(\"FPR:\", (fpTrain/(tnTrain + fpTrain)))\n",
    "print(\"FNR:\", (fnTrain/(tpTrain + fnTrain)))\n",
    "print()\n",
    "print(\"Accuracy:\", clf.score(x_train, y_train))"
   ]
  },
  {
   "cell_type": "code",
   "execution_count": 29,
   "id": "7b343cb3",
   "metadata": {},
   "outputs": [
    {
     "data": {
      "text/plain": [
       "Text(0.5, 1.0, 'Decision Tree Train Accuracy Score: 71.5%')"
      ]
     },
     "execution_count": 29,
     "metadata": {},
     "output_type": "execute_result"
    },
    {
     "data": {
      "image/png": "[encoded data removed]",
      "text/plain": [
       "<Figure size 900x900 with 2 Axes>"
      ]
     },
     "metadata": {},
     "output_type": "display_data"
    }
   ],
   "source": [
    "tree_pred = clf.predict(x_train)\n",
    "tree_accuracy = accuracy_score(y_train,tree_pred)\n",
    "tree_cm = metrics.confusion_matrix(y_train, tree_pred)\n",
    "\n",
    "accuracy_list = update_accuracy(tree_cm, tree_accuracy, \"Decision Tree Train\")\n",
    "accuracy_df.loc[len(accuracy_df)] = accuracy_list\n",
    "\n",
    "plt.figure(figsize=(9,9))\n",
    "sns.heatmap(tree_cm, annot=True, fmt=\".3f\", linewidths=.5, square = True, cmap = 'cubehelix')\n",
    "plt.ylabel('Actual label')\n",
    "plt.xlabel('Predicted label')\n",
    "all_sample_title = 'Decision Tree Train Accuracy Score: {0:.1f}%'.format(tree_accuracy*100)\n",
    "plt.title(all_sample_title, size = 15)"
   ]
  },
  {
   "cell_type": "code",
   "execution_count": 30,
   "id": "6561bae3",
   "metadata": {},
   "outputs": [
    {
     "name": "stdout",
     "output_type": "stream",
     "text": [
      "Test Data Results\n",
      "\n",
      "TPR: 0.6772182254196643\n",
      "TNR: 0.7415875754961173\n",
      "\n",
      "FPR: 0.25841242450388263\n",
      "FNR: 0.32278177458033575\n",
      "\n",
      "Accuracy: 0.7111060640472405\n"
     ]
    }
   ],
   "source": [
    "y_test_pred = clf.predict(x_test)\n",
    "print(\"Test Data Results\")\n",
    "print()\n",
    "\n",
    "cmTest = confusion_matrix(y_test, y_test_pred)\n",
    "tnTest = cmTest[0][0] \n",
    "fpTest = cmTest[0][1]\n",
    "fnTest = cmTest[1][0]\n",
    "tpTest = cmTest[1][1] \n",
    "\n",
    "print(\"TPR:\", (tpTest/(tpTest + fnTest)))\n",
    "print(\"TNR:\", (tnTest/(tnTest + fpTest)))\n",
    "print()\n",
    "\n",
    "print(\"FPR:\", (fpTest/(tnTest + fpTest)))\n",
    "print(\"FNR:\", (fnTest/(tpTest + fnTest)))\n",
    "print()\n",
    "print(\"Accuracy:\", clf.score(x_test, y_test))"
   ]
  },
  {
   "cell_type": "code",
   "execution_count": 31,
   "id": "4f891882",
   "metadata": {},
   "outputs": [
    {
     "data": {
      "text/plain": [
       "Text(0.5, 1.0, 'Decision Tree Test Accuracy Score: 71.1%')"
      ]
     },
     "execution_count": 31,
     "metadata": {},
     "output_type": "execute_result"
    },
    {
     "data": {
      "image/png": "[encoded data removed]",
      "text/plain": [
       "<Figure size 900x900 with 2 Axes>"
      ]
     },
     "metadata": {},
     "output_type": "display_data"
    }
   ],
   "source": [
    "tree_pred = clf.predict(x_test)\n",
    "tree_accuracy = accuracy_score(y_test,tree_pred)\n",
    "tree_cm = metrics.confusion_matrix(y_test, tree_pred)\n",
    "\n",
    "accuracy_list = update_accuracy(tree_cm, tree_accuracy, \"Decision Tree Test\")\n",
    "accuracy_df.loc[len(accuracy_df)] = accuracy_list\n",
    "\n",
    "plt.figure(figsize=(9,9))\n",
    "sns.heatmap(tree_cm, annot=True, fmt=\".3f\", linewidths=.5, square = True, cmap = 'cubehelix')\n",
    "plt.ylabel('Actual label')\n",
    "plt.xlabel('Predicted label')\n",
    "all_sample_title = 'Decision Tree Test Accuracy Score: {0:.1f}%'.format(tree_accuracy*100)\n",
    "plt.title(all_sample_title, size = 15)\n",
    "\n"
   ]
  },
  {
   "cell_type": "markdown",
   "id": "51a78e82",
   "metadata": {},
   "source": [
    "Decision Tree has a **slightly lower accuracy** of both training and testing of around **71%**. The gap difference however is **less than 1%**, which is **ideal** when testing the model."
   ]
  },
  {
   "cell_type": "markdown",
   "id": "6b827731",
   "metadata": {},
   "source": [
    "## Model 3 : Random Forest"
   ]
  },
  {
   "cell_type": "code",
   "execution_count": 32,
   "id": "c3c10e07",
   "metadata": {},
   "outputs": [
    {
     "data": {
      "text/plain": [
       "RandomForestClassifier(max_depth=4)"
      ]
     },
     "execution_count": 32,
     "metadata": {},
     "output_type": "execute_result"
    }
   ],
   "source": [
    "from sklearn.ensemble import RandomForestClassifier\n",
    "rforest = RandomForestClassifier(max_depth = 4, n_estimators = 100)       \n",
    "rforest.fit(x_train, y_train.label_translated.ravel())"
   ]
  },
  {
   "cell_type": "code",
   "execution_count": 33,
   "id": "f3339964",
   "metadata": {},
   "outputs": [
    {
     "name": "stdout",
     "output_type": "stream",
     "text": [
      "Train Data Results\n",
      "\n",
      "TPR: 0.7666092943201377\n",
      "TNR: 0.6999100517202609\n",
      "\n",
      "FPR: 0.30008994827973917\n",
      "FNR: 0.2333907056798623\n",
      "\n",
      "Accuracy: 0.7329206655687432\n"
     ]
    }
   ],
   "source": [
    "y_train_pred = rforest.predict(x_train)\n",
    "print(\"Train Data Results\")\n",
    "\n",
    "print()\n",
    "\n",
    "cmTrain = confusion_matrix(y_train, y_train_pred)\n",
    "tnTrain = cmTrain[0][0]\n",
    "fpTrain = cmTrain[0][1]\n",
    "fnTrain = cmTrain[1][0] \n",
    "tpTrain = cmTrain[1][1]\n",
    "\n",
    "print(\"TPR:\", (tpTrain/(tpTrain + fnTrain)))\n",
    "print(\"TNR:\", (tnTrain/(tnTrain + fpTrain)))\n",
    "print()\n",
    "\n",
    "print(\"FPR:\", (fpTrain/(tnTrain + fpTrain)))\n",
    "print(\"FNR:\", (fnTrain/(tpTrain + fnTrain)))\n",
    "print()\n",
    "print(\"Accuracy:\", rforest.score(x_train, y_train))"
   ]
  },
  {
   "cell_type": "code",
   "execution_count": 34,
   "id": "3dc1ec2a",
   "metadata": {},
   "outputs": [
    {
     "data": {
      "text/plain": [
       "Text(0.5, 1.0, 'Random Forest Train Accuracy Score: 73.3%')"
      ]
     },
     "execution_count": 34,
     "metadata": {},
     "output_type": "execute_result"
    },
    {
     "data": {
      "image/png": "[encoded data removed]",
      "text/plain": [
       "<Figure size 900x900 with 2 Axes>"
      ]
     },
     "metadata": {},
     "output_type": "display_data"
    }
   ],
   "source": [
    "r_pred = rforest.predict(x_train)\n",
    "r_accuracy = accuracy_score(y_train,r_pred)\n",
    "r_cm = metrics.confusion_matrix(y_train, r_pred)\n",
    "\n",
    "accuracy_list = update_accuracy(r_cm, r_accuracy, \"Random Forest Train\")\n",
    "accuracy_df.loc[len(accuracy_df)] = accuracy_list\n",
    "\n",
    "plt.figure(figsize=(9,9))\n",
    "sns.heatmap(r_cm, annot=True, fmt=\".3f\", linewidths=.5, square = True, cmap = 'cubehelix')\n",
    "plt.ylabel('Actual label')\n",
    "plt.xlabel('Predicted label')\n",
    "all_sample_title = 'Random Forest Train Accuracy Score: {0:.1f}%'.format(r_accuracy*100)\n",
    "plt.title(all_sample_title, size = 15)"
   ]
  },
  {
   "cell_type": "code",
   "execution_count": 35,
   "id": "54dc3821",
   "metadata": {},
   "outputs": [
    {
     "name": "stdout",
     "output_type": "stream",
     "text": [
      "Test Data Results\n",
      "\n",
      "TPR: 0.750599520383693\n",
      "TNR: 0.6954270923209663\n",
      "\n",
      "FPR: 0.30457290767903367\n",
      "FNR: 0.24940047961630696\n",
      "\n",
      "Accuracy: 0.7215534862593687\n"
     ]
    }
   ],
   "source": [
    "y_test_pred = rforest.predict(x_test)\n",
    "print(\"Test Data Results\")\n",
    "print()\n",
    "\n",
    "cmTest = confusion_matrix(y_test, y_test_pred)\n",
    "tnTest = cmTest[0][0] \n",
    "fpTest = cmTest[0][1] \n",
    "fnTest = cmTest[1][0] \n",
    "tpTest = cmTest[1][1] \n",
    "\n",
    "print(\"TPR:\", (tpTest/(tpTest + fnTest)))\n",
    "print(\"TNR:\", (tnTest/(tnTest + fpTest)))\n",
    "print()\n",
    "\n",
    "print(\"FPR:\", (fpTest/(tnTest + fpTest)))\n",
    "print(\"FNR:\", (fnTest/(tpTest + fnTest)))\n",
    "print()\n",
    "print(\"Accuracy:\", rforest.score(x_test, y_test))"
   ]
  },
  {
   "cell_type": "code",
   "execution_count": 36,
   "id": "ab78099e",
   "metadata": {},
   "outputs": [
    {
     "data": {
      "text/plain": [
       "Text(0.5, 1.0, 'Random Forest Test Accuracy Score: 72.2%')"
      ]
     },
     "execution_count": 36,
     "metadata": {},
     "output_type": "execute_result"
    },
    {
     "data": {
      "image/png": "[encoded data removed]",
      "text/plain": [
       "<Figure size 900x900 with 2 Axes>"
      ]
     },
     "metadata": {},
     "output_type": "display_data"
    }
   ],
   "source": [
    "r_pred = rforest.predict(x_test)\n",
    "r_accuracy = accuracy_score(y_test,r_pred)\n",
    "r_cm = metrics.confusion_matrix(y_test, r_pred)\n",
    "\n",
    "accuracy_list = update_accuracy(r_cm, r_accuracy, \"Random Forest Test\")\n",
    "accuracy_df.loc[len(accuracy_df)] = accuracy_list\n",
    "\n",
    "plt.figure(figsize=(9,9))\n",
    "sns.heatmap(r_cm, annot=True, fmt=\".3f\", linewidths=.5, square = True, cmap = 'cubehelix')\n",
    "plt.ylabel('Actual label')\n",
    "plt.xlabel('Predicted label')\n",
    "all_sample_title = 'Random Forest Test Accuracy Score: {0:.1f}%'.format(r_accuracy*100)\n",
    "plt.title(all_sample_title, size = 15)\n",
    "\n"
   ]
  },
  {
   "cell_type": "markdown",
   "id": "54427180",
   "metadata": {},
   "source": [
    "Random Forest has a **slightly higher accuracy of 73%** than Decision Tree and a small difference in training and testing accuracy. Can this be improved by tuning the hyperparameters?"
   ]
  },
  {
   "cell_type": "markdown",
   "id": "ea84df77",
   "metadata": {},
   "source": [
    "### Tuning hyperparameters using Cross-Validation"
   ]
  },
  {
   "cell_type": "code",
   "execution_count": 37,
   "id": "9deffc81",
   "metadata": {},
   "outputs": [
    {
     "name": "stdout",
     "output_type": "stream",
     "text": [
      "RandomForestClassifier(max_depth=8, n_estimators=800)\n",
      "0.7408141400642949\n"
     ]
    }
   ],
   "source": [
    "param_grid = {'max_depth': np.arange(2, 11),'n_estimators': np.arange(100,1001,100)}            \n",
    "hyperGrid = GridSearchCV(RandomForestClassifier(),param_grid, scoring = 'accuracy', cv = 5)       \n",
    "hyperGrid.fit(x_train, y_train.label_translated.ravel())\n",
    "\n",
    "print(hyperGrid.best_estimator_)\n",
    "print(np.abs(hyperGrid.best_score_))"
   ]
  },
  {
   "cell_type": "markdown",
   "id": "d6fc4d3f",
   "metadata": {},
   "source": [
    "The best accuracy we can obtain from this model is **74% with max_depth of 9 and 700 estimators**."
   ]
  },
  {
   "cell_type": "markdown",
   "id": "8e3a526b",
   "metadata": {},
   "source": [
    "## Model 4 : Support Vector Machine Classifier"
   ]
  },
  {
   "cell_type": "code",
   "execution_count": 38,
   "id": "4ce6b0d8",
   "metadata": {},
   "outputs": [
    {
     "name": "stdout",
     "output_type": "stream",
     "text": [
      "Train Data Results\n",
      "\n",
      "TPR: 0.8189328743545611\n",
      "TNR: 0.8348324713289859\n",
      "\n",
      "FPR: 0.16516752867101417\n",
      "FNR: 0.1810671256454389\n",
      "\n",
      "Accuracy: 0.826963484581748\n"
     ]
    }
   ],
   "source": [
    "from sklearn import svm\n",
    "svmclf = svm.SVC(kernel='linear', C=1, probability=True)\n",
    "svmclf.fit(tfidf_train, y_train.values.ravel()) \n",
    "\n",
    "y_train_pred = svmclf.predict(tfidf_train)\n",
    "print(\"Train Data Results\")\n",
    "print()\n",
    "\n",
    "\n",
    "cmTrain = confusion_matrix(y_train, y_train_pred)\n",
    "tnTrain = cmTrain[0][0]\n",
    "fpTrain = cmTrain[0][1] \n",
    "fnTrain = cmTrain[1][0] \n",
    "tpTrain = cmTrain[1][1] \n",
    "\n",
    "print(\"TPR:\", (tpTrain/(tpTrain + fnTrain)))\n",
    "print(\"TNR:\", (tnTrain/(tnTrain + fpTrain)))\n",
    "print()\n",
    "\n",
    "print(\"FPR:\", (fpTrain/(tnTrain + fpTrain)))\n",
    "print(\"FNR:\", (fnTrain/(tpTrain + fnTrain)))\n",
    "print()\n",
    "print(\"Accuracy:\", svmclf.score(tfidf_train, y_train))"
   ]
  },
  {
   "cell_type": "code",
   "execution_count": 39,
   "id": "b7ad2749",
   "metadata": {},
   "outputs": [
    {
     "data": {
      "text/plain": [
       "Text(0.5, 1.0, 'SVM Train Accuracy Score: 82.7%')"
      ]
     },
     "execution_count": 39,
     "metadata": {},
     "output_type": "execute_result"
    },
    {
     "data": {
      "image/png": "[encoded data removed]",
      "text/plain": [
       "<Figure size 900x900 with 2 Axes>"
      ]
     },
     "metadata": {},
     "output_type": "display_data"
    }
   ],
   "source": [
    "svm_pred = svmclf.predict(tfidf_train)\n",
    "svm_accuracy = accuracy_score(y_train,svm_pred)\n",
    "svm_cm = metrics.confusion_matrix(y_train, svm_pred)\n",
    "\n",
    "accuracy_list = update_accuracy(svm_cm, svm_accuracy, \"SVM Train\")\n",
    "accuracy_df.loc[len(accuracy_df)] = accuracy_list\n",
    "\n",
    "plt.figure(figsize=(9,9))\n",
    "sns.heatmap(svm_cm, annot=True, fmt=\".3f\", linewidths=.5, square = True, cmap = 'cubehelix')\n",
    "plt.ylabel('Actual label')\n",
    "plt.xlabel('Predicted label')\n",
    "all_sample_title = 'SVM Train Accuracy Score: {0:.1f}%'.format(float(svm_accuracy*100))\n",
    "plt.title(all_sample_title, size = 15)"
   ]
  },
  {
   "cell_type": "code",
   "execution_count": 40,
   "id": "1bc6a2d0",
   "metadata": {},
   "outputs": [
    {
     "name": "stdout",
     "output_type": "stream",
     "text": [
      "Test Data Results\n",
      "\n",
      "TPR: 0.4935251798561151\n",
      "TNR: 0.5133735979292493\n",
      "\n",
      "FPR: 0.48662640207075064\n",
      "FNR: 0.5064748201438849\n",
      "\n",
      "Accuracy: 0.5039745627980922\n"
     ]
    }
   ],
   "source": [
    "y_test_pred = svmclf.predict(tfidf_test)\n",
    "print(\"Test Data Results\")\n",
    "print()\n",
    "\n",
    "cmTest = confusion_matrix(y_test, y_test_pred)\n",
    "tnTest = cmTest[0][0] \n",
    "fpTest = cmTest[0][1] \n",
    "fnTest = cmTest[1][0] \n",
    "tpTest = cmTest[1][1] \n",
    "\n",
    "print(\"TPR:\", (tpTest/(tpTest + fnTest)))\n",
    "print(\"TNR:\", (tnTest/(tnTest + fpTest)))\n",
    "print()\n",
    "\n",
    "print(\"FPR:\", (fpTest/(tnTest + fpTest)))\n",
    "print(\"FNR:\", (fnTest/(tpTest + fnTest)))\n",
    "print()\n",
    "print(\"Accuracy:\", svmclf.score(tfidf_test, y_test))"
   ]
  },
  {
   "cell_type": "code",
   "execution_count": 41,
   "id": "916a644c",
   "metadata": {},
   "outputs": [
    {
     "data": {
      "text/plain": [
       "Text(0.5, 1.0, 'SVM Test Accuracy Score: 50.4%')"
      ]
     },
     "execution_count": 41,
     "metadata": {},
     "output_type": "execute_result"
    },
    {
     "data": {
      "image/png": "[encoded data removed]",
      "text/plain": [
       "<Figure size 900x900 with 2 Axes>"
      ]
     },
     "metadata": {},
     "output_type": "display_data"
    }
   ],
   "source": [
    "svm_pred = svmclf.predict(tfidf_test)\n",
    "svm_accuracy = accuracy_score(y_test,svm_pred)\n",
    "svm_cm = metrics.confusion_matrix(y_test, svm_pred)\n",
    "\n",
    "accuracy_list = update_accuracy(svm_cm, svm_accuracy, \"SVM Test\")\n",
    "accuracy_df.loc[len(accuracy_df)] = accuracy_list\n",
    "\n",
    "plt.figure(figsize=(9,9))\n",
    "sns.heatmap(svm_cm, annot=True, fmt=\".3f\", linewidths=.5, square = True, cmap = 'cubehelix')\n",
    "plt.ylabel('Actual label')\n",
    "plt.xlabel('Predicted label')\n",
    "all_sample_title = 'SVM Test Accuracy Score: {0:.1f}%'.format(float(svm_accuracy*100))\n",
    "plt.title(all_sample_title, size = 15)"
   ]
  },
  {
   "cell_type": "markdown",
   "id": "63baf204",
   "metadata": {},
   "source": [
    "While SVM has a high accuracy of **83.2%** for the training dataset, the test dataset however **plummets to 50%**. While the high accuracy is a good sign, the **big gap of accuracy** makes this model **not** an ideal one.<br>\n",
    "\n",
    "What about *changing type of kernel* or *tuning hyperparameters*?"
   ]
  },
  {
   "cell_type": "markdown",
   "id": "f17a1244",
   "metadata": {},
   "source": [
    "### Changing kernel to non-linear kernels"
   ]
  },
  {
   "cell_type": "code",
   "execution_count": 42,
   "id": "7df1e685",
   "metadata": {},
   "outputs": [
    {
     "name": "stdout",
     "output_type": "stream",
     "text": [
      "Train Data Results\n",
      "\n",
      "TPR: 0.9648881239242685\n",
      "TNR: 0.9772880593658646\n",
      "\n",
      "FPR: 0.022711940634135373\n",
      "FNR: 0.0351118760757315\n",
      "\n",
      "Accuracy: 0.9711511159066386\n"
     ]
    }
   ],
   "source": [
    "svmclf = svm.SVC(kernel='rbf', C=1, probability=True)\n",
    "svmclf.fit(tfidf_train, y_train.values.ravel()) \n",
    "\n",
    "y_train_pred = svmclf.predict(tfidf_train)\n",
    "print(\"Train Data Results\")\n",
    "print()\n",
    "\n",
    "cmTrain = confusion_matrix(y_train, y_train_pred)\n",
    "tpTrain = cmTrain[1][1] \n",
    "fpTrain = cmTrain[0][1]\n",
    "tnTrain = cmTrain[0][0] \n",
    "fnTrain = cmTrain[1][0] \n",
    "\n",
    "print(\"TPR:\", (tpTrain/(tpTrain + fnTrain)))\n",
    "print(\"TNR:\", (tnTrain/(tnTrain + fpTrain)))\n",
    "print()\n",
    "\n",
    "print(\"FPR:\", (fpTrain/(tnTrain + fpTrain)))\n",
    "print(\"FNR:\", (fnTrain/(tpTrain + fnTrain)))\n",
    "print()\n",
    "print(\"Accuracy:\", svmclf.score(tfidf_train, y_train))"
   ]
  },
  {
   "cell_type": "code",
   "execution_count": 43,
   "id": "11d38a46",
   "metadata": {},
   "outputs": [
    {
     "name": "stdout",
     "output_type": "stream",
     "text": [
      "Test Data Results\n",
      "\n",
      "TPR Test :\t 0.47386091127098323\n",
      "TNR Test :\t 0.5327868852459017\n",
      "\n",
      "FPR Test :\t 0.4672131147540984\n",
      "FNR Test :\t 0.5261390887290168\n",
      "\n",
      "Accuracy: 0.504883034294799\n"
     ]
    }
   ],
   "source": [
    "y_test_pred = svmclf.predict(tfidf_test)\n",
    "print(\"Test Data Results\")\n",
    "print()\n",
    "\n",
    "cmTest = confusion_matrix(y_test, y_test_pred)\n",
    "tnTest = cmTest[0][0] \n",
    "fpTest = cmTest[0][1] \n",
    "fnTest = cmTest[1][0] \n",
    "tpTest = cmTest[1][1] \n",
    "\n",
    "print(\"TPR Test :\\t\", (tpTest/(tpTest + fnTest)))\n",
    "print(\"TNR Test :\\t\", (tnTest/(tnTest + fpTest)))\n",
    "print()\n",
    "\n",
    "print(\"FPR Test :\\t\", (fpTest/(tnTest + fpTest)))\n",
    "print(\"FNR Test :\\t\", (fnTest/(tpTest + fnTest)))\n",
    "print()\n",
    "print(\"Accuracy:\", svmclf.score(tfidf_test, y_test))"
   ]
  },
  {
   "cell_type": "markdown",
   "id": "fd11b81c",
   "metadata": {},
   "source": [
    "Changing to Radial basis function (RBF) kernel did not solve the gap issue."
   ]
  },
  {
   "cell_type": "code",
   "execution_count": 44,
   "id": "85e0e659",
   "metadata": {},
   "outputs": [
    {
     "name": "stdout",
     "output_type": "stream",
     "text": [
      "Train Data Results\n",
      "\n",
      "TPR: 0.9754446356855996\n",
      "TNR: 0.9897683831796716\n",
      "\n",
      "FPR: 0.010231616820328311\n",
      "FNR: 0.02455536431440046\n",
      "\n",
      "Accuracy: 0.9826793117156\n"
     ]
    }
   ],
   "source": [
    "svmclf = svm.SVC(kernel='poly', C=1, probability=True)\n",
    "svmclf.fit(tfidf_train, y_train.values.ravel()) \n",
    "\n",
    "y_train_pred = svmclf.predict(tfidf_train)\n",
    "print(\"Train Data Results\")\n",
    "print()\n",
    "\n",
    "cmTrain = confusion_matrix(y_train, y_train_pred)\n",
    "tnTrain = cmTrain[0][0] \n",
    "fpTrain = cmTrain[0][1] \n",
    "fnTrain = cmTrain[1][0] \n",
    "tpTrain = cmTrain[1][1] \n",
    "\n",
    "print(\"TPR:\", (tpTrain/(tpTrain + fnTrain)))\n",
    "print(\"TNR:\", (tnTrain/(tnTrain + fpTrain)))\n",
    "print()\n",
    "\n",
    "print(\"FPR:\", (fpTrain/(tnTrain + fpTrain)))\n",
    "print(\"FNR:\", (fnTrain/(tpTrain + fnTrain)))\n",
    "print()\n",
    "print(\"Accuracy:\", svmclf.score(tfidf_train, y_train))"
   ]
  },
  {
   "cell_type": "code",
   "execution_count": 45,
   "id": "1513f716",
   "metadata": {},
   "outputs": [
    {
     "name": "stdout",
     "output_type": "stream",
     "text": [
      "Test Data Results\n",
      "\n",
      "TPR: 0.37985611510791367\n",
      "TNR: 0.6246764452113891\n",
      "\n",
      "FPR: 0.37532355478861085\n",
      "FNR: 0.6201438848920864\n",
      "\n",
      "Accuracy: 0.5087440381558028\n"
     ]
    }
   ],
   "source": [
    "y_test_pred = svmclf.predict(tfidf_test)\n",
    "print(\"Test Data Results\")\n",
    "print()\n",
    "\n",
    "cmTest = confusion_matrix(y_test, y_test_pred)\n",
    "tnTest = cmTest[0][0] \n",
    "fpTest = cmTest[0][1] \n",
    "fnTest = cmTest[1][0] \n",
    "tpTest = cmTest[1][1] \n",
    "\n",
    "print(\"TPR:\", (tpTest/(tpTest + fnTest)))\n",
    "print(\"TNR:\", (tnTest/(tnTest + fpTest)))\n",
    "print()\n",
    "\n",
    "print(\"FPR:\", (fpTest/(tnTest + fpTest)))\n",
    "print(\"FNR:\", (fnTest/(tpTest + fnTest)))\n",
    "print()\n",
    "print(\"Accuracy:\", svmclf.score(tfidf_test, y_test))"
   ]
  },
  {
   "cell_type": "markdown",
   "id": "79df0876",
   "metadata": {},
   "source": [
    "Changing to Polynomial kernel did not solve the gap issue."
   ]
  },
  {
   "cell_type": "markdown",
   "id": "a0d4ea67",
   "metadata": {},
   "source": [
    "### Tuning the hyperparameters (gamma, coef0)"
   ]
  },
  {
   "cell_type": "code",
   "execution_count": 46,
   "id": "401d98d3",
   "metadata": {},
   "outputs": [
    {
     "name": "stdout",
     "output_type": "stream",
     "text": [
      "Train Data Results\n",
      "\n",
      "TPR: 0.0011474469305794606\n",
      "TNR: 0.999887564650326\n",
      "\n",
      "FPR: 0.00011243534967393749\n",
      "FNR: 0.9988525530694206\n",
      "\n",
      "Accuracy: 0.5055937304787325\n"
     ]
    }
   ],
   "source": [
    "svmclf = svm.SVC(kernel='sigmoid', gamma=0.1, coef0=0.1, probability=True)\n",
    "svmclf.fit(tfidf_train, y_train.values.ravel()) \n",
    "\n",
    "y_train_pred = svmclf.predict(tfidf_train)\n",
    "print(\"Train Data Results\")\n",
    "print()\n",
    "\n",
    "\n",
    "cmTrain = confusion_matrix(y_train, y_train_pred)\n",
    "tnTrain = cmTrain[0][0] \n",
    "fpTrain = cmTrain[0][1] \n",
    "fnTrain = cmTrain[1][0] \n",
    "tpTrain = cmTrain[1][1] \n",
    "\n",
    "print(\"TPR:\", (tpTrain/(tpTrain + fnTrain)))\n",
    "print(\"TNR:\", (tnTrain/(tnTrain + fpTrain)))\n",
    "print()\n",
    "\n",
    "print(\"FPR:\", (fpTrain/(tnTrain + fpTrain)))\n",
    "print(\"FNR:\", (fnTrain/(tpTrain + fnTrain)))\n",
    "print()\n",
    "print(\"Accuracy:\", svmclf.score(tfidf_train, y_train))"
   ]
  },
  {
   "cell_type": "code",
   "execution_count": 47,
   "id": "e79c3e85",
   "metadata": {},
   "outputs": [
    {
     "name": "stdout",
     "output_type": "stream",
     "text": [
      "Test Data Results\n",
      "\n",
      "TPR: 0.0014388489208633094\n",
      "TNR: 0.9987057808455565\n",
      "\n",
      "FPR: 0.0012942191544434857\n",
      "FNR: 0.9985611510791367\n",
      "\n",
      "Accuracy: 0.5264592323415853\n"
     ]
    }
   ],
   "source": [
    "y_test_pred = svmclf.predict(tfidf_test)\n",
    "print(\"Test Data Results\")\n",
    "print()\n",
    "\n",
    "cmTest = confusion_matrix(y_test, y_test_pred)\n",
    "tnTest = cmTest[0][0] \n",
    "fpTest = cmTest[0][1] \n",
    "fnTest = cmTest[1][0] \n",
    "tpTest = cmTest[1][1]\n",
    "\n",
    "print(\"TPR:\", (tpTest/(tpTest + fnTest)))\n",
    "print(\"TNR:\", (tnTest/(tnTest + fpTest)))\n",
    "print()\n",
    "\n",
    "print(\"FPR:\", (fpTest/(tnTest + fpTest)))\n",
    "print(\"FNR:\", (fnTest/(tpTest + fnTest)))\n",
    "print()\n",
    "print(\"Accuracy:\", svmclf.score(tfidf_test, y_test))"
   ]
  },
  {
   "cell_type": "markdown",
   "id": "d0a007fc",
   "metadata": {},
   "source": [
    "Tuning the hyperparameters of gamma, coef0, C and changing to sigmoid kernel **solved** the gap issue, but the accuracy is **too low**."
   ]
  },
  {
   "cell_type": "markdown",
   "id": "1702a916",
   "metadata": {},
   "source": [
    "## Model 5 : Ensemble"
   ]
  },
  {
   "cell_type": "code",
   "execution_count": 48,
   "id": "279a57e5",
   "metadata": {},
   "outputs": [],
   "source": [
    "from sklearn.ensemble import VotingClassifier\n",
    "estimators=[('logreg',logreg), ('clf', clf), ('rforest', rforest), ('svmclf', svmclf)]\n",
    "ensemble = VotingClassifier(estimators, voting='soft')"
   ]
  },
  {
   "cell_type": "code",
   "execution_count": 49,
   "id": "8a3aa06c",
   "metadata": {},
   "outputs": [
    {
     "data": {
      "text/plain": [
       "Text(0.5, 1.0, 'Ensemble Accuracy Score: 69.8%')"
      ]
     },
     "execution_count": 49,
     "metadata": {},
     "output_type": "execute_result"
    },
    {
     "data": {
      "image/png": "[encoded data removed]",
      "text/plain": [
       "<Figure size 900x900 with 2 Axes>"
      ]
     },
     "metadata": {},
     "output_type": "display_data"
    }
   ],
   "source": [
    "ensemble.fit(x_train, y_train.values.ravel())\n",
    "ensemble.score(x_test, y_test)\n",
    "\n",
    "ensemble_pred = ensemble.predict(x_test)\n",
    "ensemble_accuracy = accuracy_score(y_test,ensemble_pred)\n",
    "ensemble_cm = metrics.confusion_matrix(y_test, ensemble_pred)\n",
    "\n",
    "accuracy_list = update_accuracy(ensemble_cm, ensemble_accuracy, \"Ensemble\")\n",
    "accuracy_df.loc[len(accuracy_df)] = accuracy_list\n",
    "\n",
    "plt.figure(figsize=(9,9))\n",
    "sns.heatmap(ensemble_cm, annot=True, fmt=\".3f\", linewidths=.5, square = True, cmap = 'cubehelix')\n",
    "plt.ylabel('Actual label')\n",
    "plt.xlabel('Predicted label')\n",
    "all_sample_title = 'Ensemble Accuracy Score: {0:.1f}%'.format(ensemble_accuracy*100)\n",
    "plt.title(all_sample_title, size = 15)\n",
    "\n"
   ]
  },
  {
   "cell_type": "markdown",
   "id": "873f94af",
   "metadata": {},
   "source": [
    "While ensemble models commonly helps to improve accuracy by combining multiple models, the model did not work for our dataset with only an accuracy of **71%**.\n"
   ]
  },
  {
   "cell_type": "code",
   "execution_count": 50,
   "id": "67499222",
   "metadata": {},
   "outputs": [
    {
     "data": {
      "text/html": [
       "<div>\n",
       "<style scoped>\n",
       "    .dataframe tbody tr th:only-of-type {\n",
       "        vertical-align: middle;\n",
       "    }\n",
       "\n",
       "    .dataframe tbody tr th {\n",
       "        vertical-align: top;\n",
       "    }\n",
       "\n",
       "    .dataframe thead th {\n",
       "        text-align: right;\n",
       "    }\n",
       "</style>\n",
       "<table border=\"1\" class=\"dataframe\">\n",
       "  <thead>\n",
       "    <tr style=\"text-align: right;\">\n",
       "      <th></th>\n",
       "      <th>Model</th>\n",
       "      <th>Accuracy</th>\n",
       "      <th>True Pos</th>\n",
       "      <th>False Pos</th>\n",
       "      <th>True Neg</th>\n",
       "      <th>False Neg</th>\n",
       "    </tr>\n",
       "  </thead>\n",
       "  <tbody>\n",
       "    <tr>\n",
       "      <th>0</th>\n",
       "      <td>Logistic-Regression Train</td>\n",
       "      <td>96.0</td>\n",
       "      <td>96.0</td>\n",
       "      <td>4.0</td>\n",
       "      <td>96.1</td>\n",
       "      <td>3.9</td>\n",
       "    </tr>\n",
       "    <tr>\n",
       "      <th>1</th>\n",
       "      <td>Logistic-Regression Test</td>\n",
       "      <td>92.9</td>\n",
       "      <td>92.2</td>\n",
       "      <td>7.8</td>\n",
       "      <td>93.6</td>\n",
       "      <td>6.4</td>\n",
       "    </tr>\n",
       "    <tr>\n",
       "      <th>2</th>\n",
       "      <td>Decision Tree Train</td>\n",
       "      <td>71.5</td>\n",
       "      <td>72.0</td>\n",
       "      <td>28.0</td>\n",
       "      <td>71.0</td>\n",
       "      <td>29.0</td>\n",
       "    </tr>\n",
       "    <tr>\n",
       "      <th>3</th>\n",
       "      <td>Decision Tree Test</td>\n",
       "      <td>71.1</td>\n",
       "      <td>70.2</td>\n",
       "      <td>29.8</td>\n",
       "      <td>71.9</td>\n",
       "      <td>28.1</td>\n",
       "    </tr>\n",
       "    <tr>\n",
       "      <th>4</th>\n",
       "      <td>Random Forest Train</td>\n",
       "      <td>73.3</td>\n",
       "      <td>71.5</td>\n",
       "      <td>28.5</td>\n",
       "      <td>75.4</td>\n",
       "      <td>24.6</td>\n",
       "    </tr>\n",
       "    <tr>\n",
       "      <th>5</th>\n",
       "      <td>Random Forest Test</td>\n",
       "      <td>72.2</td>\n",
       "      <td>68.9</td>\n",
       "      <td>31.1</td>\n",
       "      <td>75.6</td>\n",
       "      <td>24.4</td>\n",
       "    </tr>\n",
       "    <tr>\n",
       "      <th>6</th>\n",
       "      <td>SVM Train</td>\n",
       "      <td>82.7</td>\n",
       "      <td>82.9</td>\n",
       "      <td>17.1</td>\n",
       "      <td>82.5</td>\n",
       "      <td>17.5</td>\n",
       "    </tr>\n",
       "    <tr>\n",
       "      <th>7</th>\n",
       "      <td>SVM Test</td>\n",
       "      <td>50.4</td>\n",
       "      <td>47.7</td>\n",
       "      <td>52.3</td>\n",
       "      <td>53.0</td>\n",
       "      <td>47.0</td>\n",
       "    </tr>\n",
       "    <tr>\n",
       "      <th>8</th>\n",
       "      <td>Ensemble</td>\n",
       "      <td>69.8</td>\n",
       "      <td>65.9</td>\n",
       "      <td>34.1</td>\n",
       "      <td>74.3</td>\n",
       "      <td>25.7</td>\n",
       "    </tr>\n",
       "  </tbody>\n",
       "</table>\n",
       "</div>"
      ],
      "text/plain": [
       "                       Model  Accuracy  True Pos  False Pos  True Neg  \\\n",
       "0  Logistic-Regression Train      96.0      96.0        4.0      96.1   \n",
       "1   Logistic-Regression Test      92.9      92.2        7.8      93.6   \n",
       "2        Decision Tree Train      71.5      72.0       28.0      71.0   \n",
       "3         Decision Tree Test      71.1      70.2       29.8      71.9   \n",
       "4        Random Forest Train      73.3      71.5       28.5      75.4   \n",
       "5         Random Forest Test      72.2      68.9       31.1      75.6   \n",
       "6                  SVM Train      82.7      82.9       17.1      82.5   \n",
       "7                   SVM Test      50.4      47.7       52.3      53.0   \n",
       "8                   Ensemble      69.8      65.9       34.1      74.3   \n",
       "\n",
       "   False Neg  \n",
       "0        3.9  \n",
       "1        6.4  \n",
       "2       29.0  \n",
       "3       28.1  \n",
       "4       24.6  \n",
       "5       24.4  \n",
       "6       17.5  \n",
       "7       47.0  \n",
       "8       25.7  "
      ]
     },
     "execution_count": 50,
     "metadata": {},
     "output_type": "execute_result"
    }
   ],
   "source": [
    "accuracy_df"
   ]
  },
  {
   "cell_type": "markdown",
   "id": "de721d29",
   "metadata": {},
   "source": [
    "Our task requires high accuracy on unseen data. Hence:\n",
    "\n",
    "**Logistic Regression** performed the best and is the ideal model for our dataset. <br>\n",
    "**Support Vector Machine Classifier** performed the worst as the big accuracy difference between training and testing indicates poor generalization ability."
   ]
  }
 ],
 "metadata": {
  "kernelspec": {
   "display_name": "Python 3 (ipykernel)",
   "language": "python",
   "name": "python3"
  },
  "language_info": {
   "codemirror_mode": {
    "name": "ipython",
    "version": 3
   },
   "file_extension": ".py",
   "mimetype": "text/x-python",
   "name": "python",
   "nbconvert_exporter": "python",
   "pygments_lexer": "ipython3",
   "version": "3.9.13"
  }
 },
 "nbformat": 4,
 "nbformat_minor": 5
}
