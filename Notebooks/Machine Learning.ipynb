{
 "cells": [
  {
   "cell_type": "markdown",
   "id": "86985d72",
   "metadata": {},
   "source": [
    "# Importing Necessary Modules"
   ]
  },
  {
   "cell_type": "code",
   "execution_count": 1,
   "id": "dab8b112",
   "metadata": {},
   "outputs": [],
   "source": [
    "import pandas as pd\n",
    "import numpy as np\n",
    "import seaborn as sb\n",
    "from nltk.corpus import stopwords\n",
    "from nltk.stem.porter import PorterStemmer\n",
    "import re\n",
    "import nltk\n",
    "from sklearn.feature_extraction.text import CountVectorizer\n",
    "from sklearn.feature_extraction.text import HashingVectorizer\n",
    "import matplotlib.pyplot as plt\n",
    "import seaborn as sns\n",
    "from sklearn import metrics\n",
    "from sklearn.model_selection import train_test_split\n",
    "from sklearn.metrics import accuracy_score\n",
    "from sklearn.feature_extraction.text import TfidfVectorizer\n",
    "from sklearn.feature_extraction.text import TfidfTransformer\n",
    "from sklearn.model_selection import GridSearchCV, train_test_split, StratifiedKFold, cross_val_score\n",
    "from sklearn.preprocessing import OneHotEncoder\n",
    "from sklearn.preprocessing import LabelEncoder\n",
    "from sklearn.tree import DecisionTreeClassifier, plot_tree\n",
    "\n",
    "#For Logistic Regression\n",
    "from sklearn.model_selection import train_test_split, StratifiedKFold, cross_val_score, GridSearchCV\n",
    "from sklearn.feature_extraction.text import TfidfVectorizer, TfidfTransformer, CountVectorizer\n",
    "from sklearn.linear_model import LogisticRegressionCV\n",
    "from sklearn.linear_model import LogisticRegression\n",
    "\n",
    "\n",
    "\n",
    "# For model evaluation\n",
    "from sklearn.metrics import accuracy_score, confusion_matrix, classification_report"
   ]
  },
  {
   "cell_type": "markdown",
   "id": "f5847694",
   "metadata": {},
   "source": [
    "# Preview of cleaned dataset"
   ]
  },
  {
   "cell_type": "code",
   "execution_count": 2,
   "id": "4fb46ad8",
   "metadata": {
    "scrolled": true
   },
   "outputs": [
    {
     "data": {
      "text/html": [
       "<div>\n",
       "<style scoped>\n",
       "    .dataframe tbody tr th:only-of-type {\n",
       "        vertical-align: middle;\n",
       "    }\n",
       "\n",
       "    .dataframe tbody tr th {\n",
       "        vertical-align: top;\n",
       "    }\n",
       "\n",
       "    .dataframe thead th {\n",
       "        text-align: right;\n",
       "    }\n",
       "</style>\n",
       "<table border=\"1\" class=\"dataframe\">\n",
       "  <thead>\n",
       "    <tr style=\"text-align: right;\">\n",
       "      <th></th>\n",
       "      <th>title</th>\n",
       "      <th>text</th>\n",
       "      <th>label</th>\n",
       "      <th>label_translated</th>\n",
       "      <th>title_char_count</th>\n",
       "      <th>text_char_count</th>\n",
       "      <th>title_word_count</th>\n",
       "      <th>text_word_count</th>\n",
       "      <th>title_stopword_count</th>\n",
       "      <th>text_stopword_count</th>\n",
       "      <th>text_lemmatized</th>\n",
       "      <th>title_lemmatized</th>\n",
       "      <th>title_polarity</th>\n",
       "      <th>title_polarity_score</th>\n",
       "      <th>text_polarity</th>\n",
       "      <th>text_polarity_score</th>\n",
       "      <th>title_emotion</th>\n",
       "      <th>text_emotion</th>\n",
       "    </tr>\n",
       "    <tr>\n",
       "      <th>id</th>\n",
       "      <th></th>\n",
       "      <th></th>\n",
       "      <th></th>\n",
       "      <th></th>\n",
       "      <th></th>\n",
       "      <th></th>\n",
       "      <th></th>\n",
       "      <th></th>\n",
       "      <th></th>\n",
       "      <th></th>\n",
       "      <th></th>\n",
       "      <th></th>\n",
       "      <th></th>\n",
       "      <th></th>\n",
       "      <th></th>\n",
       "      <th></th>\n",
       "      <th></th>\n",
       "      <th></th>\n",
       "    </tr>\n",
       "  </thead>\n",
       "  <tbody>\n",
       "    <tr>\n",
       "      <th>0</th>\n",
       "      <td>LAW ENFORCEMENT ON HIGH ALERT Following Threat...</td>\n",
       "      <td>No comment expected Barack Obama Members FYF F...</td>\n",
       "      <td>0</td>\n",
       "      <td>fake</td>\n",
       "      <td>130</td>\n",
       "      <td>5049</td>\n",
       "      <td>18</td>\n",
       "      <td>871</td>\n",
       "      <td>6</td>\n",
       "      <td>48</td>\n",
       "      <td>No comment expect Barack Obama Members FYF Fuk...</td>\n",
       "      <td>LAW ENFORCEMENT ON HIGH ALERT Following Threat...</td>\n",
       "      <td>neutral</td>\n",
       "      <td>0.630</td>\n",
       "      <td>neutral</td>\n",
       "      <td>0.645</td>\n",
       "      <td>Surprise</td>\n",
       "      <td>Happy</td>\n",
       "    </tr>\n",
       "    <tr>\n",
       "      <th>1</th>\n",
       "      <td>UNBELIEVABLE! OBAMA S ATTORNEY GENERAL SAYS MO...</td>\n",
       "      <td>Now demonstrators gathered last night exercisi...</td>\n",
       "      <td>0</td>\n",
       "      <td>fake</td>\n",
       "      <td>145</td>\n",
       "      <td>216</td>\n",
       "      <td>18</td>\n",
       "      <td>34</td>\n",
       "      <td>0</td>\n",
       "      <td>46</td>\n",
       "      <td>Now demonstrator gather last night exercise co...</td>\n",
       "      <td>UNBELIEVABLE! OBAMA S ATTORNEY GENERAL SAYS MO...</td>\n",
       "      <td>positive</td>\n",
       "      <td>0.511</td>\n",
       "      <td>neutral</td>\n",
       "      <td>1.000</td>\n",
       "      <td>neutral</td>\n",
       "      <td>neutral</td>\n",
       "    </tr>\n",
       "    <tr>\n",
       "      <th>2</th>\n",
       "      <td>Bobby Jindal raised Hindu uses story Christian...</td>\n",
       "      <td>A dozen politically active pastors came privat...</td>\n",
       "      <td>1</td>\n",
       "      <td>real</td>\n",
       "      <td>105</td>\n",
       "      <td>8120</td>\n",
       "      <td>16</td>\n",
       "      <td>1321</td>\n",
       "      <td>0</td>\n",
       "      <td>16</td>\n",
       "      <td>A dozen politically active pastor come private...</td>\n",
       "      <td>Bobby Jindal raise Hindu use story Christian c...</td>\n",
       "      <td>neutral</td>\n",
       "      <td>1.000</td>\n",
       "      <td>neutral</td>\n",
       "      <td>0.526</td>\n",
       "      <td>neutral</td>\n",
       "      <td>neutral</td>\n",
       "    </tr>\n",
       "    <tr>\n",
       "      <th>3</th>\n",
       "      <td>SATAN Russia unvelis image terrifying new SUPE...</td>\n",
       "      <td>The RS Sarmat missile dubbed Satan replace SS ...</td>\n",
       "      <td>0</td>\n",
       "      <td>fake</td>\n",
       "      <td>101</td>\n",
       "      <td>1932</td>\n",
       "      <td>16</td>\n",
       "      <td>329</td>\n",
       "      <td>1</td>\n",
       "      <td>10</td>\n",
       "      <td>The RS Sarmat missile dub Satan replace SS Fli...</td>\n",
       "      <td>SATAN Russia unvelis image terrify new SUPERNU...</td>\n",
       "      <td>neutral</td>\n",
       "      <td>0.519</td>\n",
       "      <td>neutral</td>\n",
       "      <td>1.000</td>\n",
       "      <td>neutral</td>\n",
       "      <td>neutral</td>\n",
       "    </tr>\n",
       "    <tr>\n",
       "      <th>4</th>\n",
       "      <td>About Time! Christian Group Sues Amazon SPLC D...</td>\n",
       "      <td>All say one time someone sued Southern Poverty...</td>\n",
       "      <td>0</td>\n",
       "      <td>fake</td>\n",
       "      <td>78</td>\n",
       "      <td>1530</td>\n",
       "      <td>13</td>\n",
       "      <td>244</td>\n",
       "      <td>4</td>\n",
       "      <td>7</td>\n",
       "      <td>All say one time someone sue Southern Poverty ...</td>\n",
       "      <td>About Time! Christian Group Sues Amazon SPLC D...</td>\n",
       "      <td>neutral</td>\n",
       "      <td>1.000</td>\n",
       "      <td>neutral</td>\n",
       "      <td>1.000</td>\n",
       "      <td>Surprise</td>\n",
       "      <td>neutral</td>\n",
       "    </tr>\n",
       "  </tbody>\n",
       "</table>\n",
       "</div>"
      ],
      "text/plain": [
       "                                                title  \\\n",
       "id                                                      \n",
       "0   LAW ENFORCEMENT ON HIGH ALERT Following Threat...   \n",
       "1   UNBELIEVABLE! OBAMA S ATTORNEY GENERAL SAYS MO...   \n",
       "2   Bobby Jindal raised Hindu uses story Christian...   \n",
       "3   SATAN Russia unvelis image terrifying new SUPE...   \n",
       "4   About Time! Christian Group Sues Amazon SPLC D...   \n",
       "\n",
       "                                                 text  label label_translated  \\\n",
       "id                                                                              \n",
       "0   No comment expected Barack Obama Members FYF F...      0             fake   \n",
       "1   Now demonstrators gathered last night exercisi...      0             fake   \n",
       "2   A dozen politically active pastors came privat...      1             real   \n",
       "3   The RS Sarmat missile dubbed Satan replace SS ...      0             fake   \n",
       "4   All say one time someone sued Southern Poverty...      0             fake   \n",
       "\n",
       "    title_char_count  text_char_count  title_word_count  text_word_count  \\\n",
       "id                                                                         \n",
       "0                130             5049                18              871   \n",
       "1                145              216                18               34   \n",
       "2                105             8120                16             1321   \n",
       "3                101             1932                16              329   \n",
       "4                 78             1530                13              244   \n",
       "\n",
       "    title_stopword_count  text_stopword_count  \\\n",
       "id                                              \n",
       "0                      6                   48   \n",
       "1                      0                   46   \n",
       "2                      0                   16   \n",
       "3                      1                   10   \n",
       "4                      4                    7   \n",
       "\n",
       "                                      text_lemmatized  \\\n",
       "id                                                      \n",
       "0   No comment expect Barack Obama Members FYF Fuk...   \n",
       "1   Now demonstrator gather last night exercise co...   \n",
       "2   A dozen politically active pastor come private...   \n",
       "3   The RS Sarmat missile dub Satan replace SS Fli...   \n",
       "4   All say one time someone sue Southern Poverty ...   \n",
       "\n",
       "                                     title_lemmatized title_polarity  \\\n",
       "id                                                                     \n",
       "0   LAW ENFORCEMENT ON HIGH ALERT Following Threat...        neutral   \n",
       "1   UNBELIEVABLE! OBAMA S ATTORNEY GENERAL SAYS MO...       positive   \n",
       "2   Bobby Jindal raise Hindu use story Christian c...        neutral   \n",
       "3   SATAN Russia unvelis image terrify new SUPERNU...        neutral   \n",
       "4   About Time! Christian Group Sues Amazon SPLC D...        neutral   \n",
       "\n",
       "    title_polarity_score text_polarity  text_polarity_score title_emotion  \\\n",
       "id                                                                          \n",
       "0                  0.630       neutral                0.645      Surprise   \n",
       "1                  0.511       neutral                1.000       neutral   \n",
       "2                  1.000       neutral                0.526       neutral   \n",
       "3                  0.519       neutral                1.000       neutral   \n",
       "4                  1.000       neutral                1.000      Surprise   \n",
       "\n",
       "   text_emotion  \n",
       "id               \n",
       "0         Happy  \n",
       "1       neutral  \n",
       "2       neutral  \n",
       "3       neutral  \n",
       "4       neutral  "
      ]
     },
     "execution_count": 2,
     "metadata": {},
     "output_type": "execute_result"
    }
   ],
   "source": [
    "df = pd.read_csv(\"20k cleaned.csv\")\n",
    "df.set_index(\"id\", inplace=True)\n",
    "df.head()"
   ]
  },
  {
   "cell_type": "code",
   "execution_count": 3,
   "id": "8569b275",
   "metadata": {},
   "outputs": [
    {
     "data": {
      "text/plain": [
       "(22012, 18)"
      ]
     },
     "execution_count": 3,
     "metadata": {},
     "output_type": "execute_result"
    }
   ],
   "source": [
    "df.shape"
   ]
  },
  {
   "cell_type": "code",
   "execution_count": 4,
   "id": "66246468",
   "metadata": {},
   "outputs": [
    {
     "data": {
      "text/plain": [
       "fake    11212\n",
       "real    10800\n",
       "Name: label_translated, dtype: int64"
      ]
     },
     "execution_count": 4,
     "metadata": {},
     "output_type": "execute_result"
    }
   ],
   "source": [
    "df['label_translated'].value_counts()"
   ]
  },
  {
   "cell_type": "markdown",
   "id": "71ca249f",
   "metadata": {},
   "source": [
    "# Testing for best indicator"
   ]
  },
  {
   "cell_type": "code",
   "execution_count": 5,
   "id": "1c440299",
   "metadata": {},
   "outputs": [],
   "source": [
    "def auto_kfold_decision_tree(variables):\n",
    "    global newsdata_ohe\n",
    "    scores = {}\n",
    "    \n",
    "    # Response\n",
    "    news_res = df['label_translated']\n",
    "    \n",
    "    # Train for every variable\n",
    "    for variable in variables:\n",
    "        if variable.dtype == np.dtype('int64'):\n",
    "            # Numeric variable\n",
    "            news_cat = pd.DataFrame(variable)\n",
    "            newsdata_ohe = pd.concat([news_cat, news_res], sort = False, axis = 1).reindex(index=news_cat.index)\n",
    "        elif variable.dtype == np.dtype('object'):\n",
    "            # Categorical variables\n",
    "            # Import the encoder from sklearn\n",
    "            ohe = OneHotEncoder()\n",
    "            # OneHotEncoding of categorical predictors (not the response)\n",
    "            news_cat = pd.DataFrame(variable)\n",
    "\n",
    "            ohe.fit(news_cat)\n",
    "            news_cat_ohe = pd.DataFrame(ohe.transform(news_cat).toarray(), columns=ohe.get_feature_names_out(news_cat.columns))\n",
    "            \n",
    "            newsdata_ohe = pd.concat([news_cat_ohe, news_res], sort = False, axis = 1).reindex(index=news_cat_ohe.index)\n",
    "\n",
    "        # Extract Response and Predictors\n",
    "        y = pd.DataFrame(newsdata_ohe['label_translated'])\n",
    "        X = pd.DataFrame(newsdata_ohe.drop('label_translated', axis = 1))\n",
    "\n",
    "        # Split the Dataset into Train and Test\n",
    "        x_train, x_test, y_train, y_test = train_test_split(X, y, test_size = 0.3)\n",
    "\n",
    "        # Decision Tree using Train Data\n",
    "        dectree = DecisionTreeClassifier(max_depth = 4)  # change max_depth to experiment\n",
    "\n",
    "        skf = StratifiedKFold(n_splits=5, shuffle=True, random_state=17)\n",
    "        cv_results = cross_val_score(dectree, x_train, y_train['label_translated'], cv=skf)\n",
    "\n",
    "        # Record score\n",
    "        scores[variable.name] = cv_results\n",
    "        \n",
    "    return scores"
   ]
  },
  {
   "cell_type": "code",
   "execution_count": 6,
   "id": "33011e32",
   "metadata": {},
   "outputs": [
    {
     "name": "stdout",
     "output_type": "stream",
     "text": [
      "Predictor: title_word_count, score: 0.66\n",
      "Predictor: text_emotion, score: 0.62\n",
      "Predictor: text_word_count, score: 0.61\n",
      "Predictor: title_emotion, score: 0.54\n",
      "Predictor: text_polarity, score: 0.53\n",
      "Predictor: title_polarity, score: 0.52\n",
      "Predictor: title_stopword_count, score: 0.51\n",
      "Predictor: text_stopword_count, score: 0.51\n"
     ]
    }
   ],
   "source": [
    "variables = [\n",
    "             df['title_word_count'], \n",
    "             df['text_word_count'], \n",
    "             df['title_stopword_count'], \n",
    "             df['text_stopword_count'], \n",
    "             df['title_polarity'], \n",
    "             df['text_polarity'], \n",
    "             df['title_emotion'], \n",
    "             df['text_emotion']\n",
    "            ]\n",
    "\n",
    "scores = auto_kfold_decision_tree(variables)\n",
    "\n",
    "\n",
    "for key, value in sorted(scores.items(), key=lambda x: x[1].mean(), reverse=True):\n",
    "    print(f\"Predictor: {key}, score: {value.mean():.2f}\")"
   ]
  },
  {
   "cell_type": "markdown",
   "id": "d9d81663",
   "metadata": {},
   "source": [
    "# Top 3 Best Indicators: \n",
    "### 1)Title wordcount\n",
    "### 2)Text Emotion\n",
    "### 3)Text wordcount"
   ]
  },
  {
   "cell_type": "markdown",
   "id": "e104f76c",
   "metadata": {},
   "source": [
    "## Encoding text_emotion into int from string"
   ]
  },
  {
   "cell_type": "code",
   "execution_count": 7,
   "id": "e78de78b",
   "metadata": {},
   "outputs": [
    {
     "data": {
      "text/html": [
       "<div>\n",
       "<style scoped>\n",
       "    .dataframe tbody tr th:only-of-type {\n",
       "        vertical-align: middle;\n",
       "    }\n",
       "\n",
       "    .dataframe tbody tr th {\n",
       "        vertical-align: top;\n",
       "    }\n",
       "\n",
       "    .dataframe thead th {\n",
       "        text-align: right;\n",
       "    }\n",
       "</style>\n",
       "<table border=\"1\" class=\"dataframe\">\n",
       "  <thead>\n",
       "    <tr style=\"text-align: right;\">\n",
       "      <th></th>\n",
       "      <th>title</th>\n",
       "      <th>text</th>\n",
       "      <th>label</th>\n",
       "      <th>label_translated</th>\n",
       "      <th>title_char_count</th>\n",
       "      <th>text_char_count</th>\n",
       "      <th>title_word_count</th>\n",
       "      <th>text_word_count</th>\n",
       "      <th>title_stopword_count</th>\n",
       "      <th>text_stopword_count</th>\n",
       "      <th>text_lemmatized</th>\n",
       "      <th>title_lemmatized</th>\n",
       "      <th>title_polarity</th>\n",
       "      <th>title_polarity_score</th>\n",
       "      <th>text_polarity</th>\n",
       "      <th>text_polarity_score</th>\n",
       "      <th>title_emotion</th>\n",
       "      <th>text_emotion</th>\n",
       "    </tr>\n",
       "    <tr>\n",
       "      <th>id</th>\n",
       "      <th></th>\n",
       "      <th></th>\n",
       "      <th></th>\n",
       "      <th></th>\n",
       "      <th></th>\n",
       "      <th></th>\n",
       "      <th></th>\n",
       "      <th></th>\n",
       "      <th></th>\n",
       "      <th></th>\n",
       "      <th></th>\n",
       "      <th></th>\n",
       "      <th></th>\n",
       "      <th></th>\n",
       "      <th></th>\n",
       "      <th></th>\n",
       "      <th></th>\n",
       "      <th></th>\n",
       "    </tr>\n",
       "  </thead>\n",
       "  <tbody>\n",
       "    <tr>\n",
       "      <th>0</th>\n",
       "      <td>LAW ENFORCEMENT ON HIGH ALERT Following Threat...</td>\n",
       "      <td>No comment expected Barack Obama Members FYF F...</td>\n",
       "      <td>0</td>\n",
       "      <td>fake</td>\n",
       "      <td>130</td>\n",
       "      <td>5049</td>\n",
       "      <td>18</td>\n",
       "      <td>871</td>\n",
       "      <td>6</td>\n",
       "      <td>48</td>\n",
       "      <td>No comment expect Barack Obama Members FYF Fuk...</td>\n",
       "      <td>LAW ENFORCEMENT ON HIGH ALERT Following Threat...</td>\n",
       "      <td>neutral</td>\n",
       "      <td>0.630</td>\n",
       "      <td>2</td>\n",
       "      <td>0.645</td>\n",
       "      <td>4</td>\n",
       "      <td>2</td>\n",
       "    </tr>\n",
       "    <tr>\n",
       "      <th>1</th>\n",
       "      <td>UNBELIEVABLE! OBAMA S ATTORNEY GENERAL SAYS MO...</td>\n",
       "      <td>Now demonstrators gathered last night exercisi...</td>\n",
       "      <td>0</td>\n",
       "      <td>fake</td>\n",
       "      <td>145</td>\n",
       "      <td>216</td>\n",
       "      <td>18</td>\n",
       "      <td>34</td>\n",
       "      <td>0</td>\n",
       "      <td>46</td>\n",
       "      <td>Now demonstrator gather last night exercise co...</td>\n",
       "      <td>UNBELIEVABLE! OBAMA S ATTORNEY GENERAL SAYS MO...</td>\n",
       "      <td>positive</td>\n",
       "      <td>0.511</td>\n",
       "      <td>2</td>\n",
       "      <td>1.000</td>\n",
       "      <td>5</td>\n",
       "      <td>5</td>\n",
       "    </tr>\n",
       "    <tr>\n",
       "      <th>2</th>\n",
       "      <td>Bobby Jindal raised Hindu uses story Christian...</td>\n",
       "      <td>A dozen politically active pastors came privat...</td>\n",
       "      <td>1</td>\n",
       "      <td>real</td>\n",
       "      <td>105</td>\n",
       "      <td>8120</td>\n",
       "      <td>16</td>\n",
       "      <td>1321</td>\n",
       "      <td>0</td>\n",
       "      <td>16</td>\n",
       "      <td>A dozen politically active pastor come private...</td>\n",
       "      <td>Bobby Jindal raise Hindu use story Christian c...</td>\n",
       "      <td>neutral</td>\n",
       "      <td>1.000</td>\n",
       "      <td>2</td>\n",
       "      <td>0.526</td>\n",
       "      <td>5</td>\n",
       "      <td>5</td>\n",
       "    </tr>\n",
       "    <tr>\n",
       "      <th>3</th>\n",
       "      <td>SATAN Russia unvelis image terrifying new SUPE...</td>\n",
       "      <td>The RS Sarmat missile dubbed Satan replace SS ...</td>\n",
       "      <td>0</td>\n",
       "      <td>fake</td>\n",
       "      <td>101</td>\n",
       "      <td>1932</td>\n",
       "      <td>16</td>\n",
       "      <td>329</td>\n",
       "      <td>1</td>\n",
       "      <td>10</td>\n",
       "      <td>The RS Sarmat missile dub Satan replace SS Fli...</td>\n",
       "      <td>SATAN Russia unvelis image terrify new SUPERNU...</td>\n",
       "      <td>neutral</td>\n",
       "      <td>0.519</td>\n",
       "      <td>2</td>\n",
       "      <td>1.000</td>\n",
       "      <td>5</td>\n",
       "      <td>5</td>\n",
       "    </tr>\n",
       "    <tr>\n",
       "      <th>4</th>\n",
       "      <td>About Time! Christian Group Sues Amazon SPLC D...</td>\n",
       "      <td>All say one time someone sued Southern Poverty...</td>\n",
       "      <td>0</td>\n",
       "      <td>fake</td>\n",
       "      <td>78</td>\n",
       "      <td>1530</td>\n",
       "      <td>13</td>\n",
       "      <td>244</td>\n",
       "      <td>4</td>\n",
       "      <td>7</td>\n",
       "      <td>All say one time someone sue Southern Poverty ...</td>\n",
       "      <td>About Time! Christian Group Sues Amazon SPLC D...</td>\n",
       "      <td>neutral</td>\n",
       "      <td>1.000</td>\n",
       "      <td>2</td>\n",
       "      <td>1.000</td>\n",
       "      <td>4</td>\n",
       "      <td>5</td>\n",
       "    </tr>\n",
       "  </tbody>\n",
       "</table>\n",
       "</div>"
      ],
      "text/plain": [
       "                                                title  \\\n",
       "id                                                      \n",
       "0   LAW ENFORCEMENT ON HIGH ALERT Following Threat...   \n",
       "1   UNBELIEVABLE! OBAMA S ATTORNEY GENERAL SAYS MO...   \n",
       "2   Bobby Jindal raised Hindu uses story Christian...   \n",
       "3   SATAN Russia unvelis image terrifying new SUPE...   \n",
       "4   About Time! Christian Group Sues Amazon SPLC D...   \n",
       "\n",
       "                                                 text  label label_translated  \\\n",
       "id                                                                              \n",
       "0   No comment expected Barack Obama Members FYF F...      0             fake   \n",
       "1   Now demonstrators gathered last night exercisi...      0             fake   \n",
       "2   A dozen politically active pastors came privat...      1             real   \n",
       "3   The RS Sarmat missile dubbed Satan replace SS ...      0             fake   \n",
       "4   All say one time someone sued Southern Poverty...      0             fake   \n",
       "\n",
       "    title_char_count  text_char_count  title_word_count  text_word_count  \\\n",
       "id                                                                         \n",
       "0                130             5049                18              871   \n",
       "1                145              216                18               34   \n",
       "2                105             8120                16             1321   \n",
       "3                101             1932                16              329   \n",
       "4                 78             1530                13              244   \n",
       "\n",
       "    title_stopword_count  text_stopword_count  \\\n",
       "id                                              \n",
       "0                      6                   48   \n",
       "1                      0                   46   \n",
       "2                      0                   16   \n",
       "3                      1                   10   \n",
       "4                      4                    7   \n",
       "\n",
       "                                      text_lemmatized  \\\n",
       "id                                                      \n",
       "0   No comment expect Barack Obama Members FYF Fuk...   \n",
       "1   Now demonstrator gather last night exercise co...   \n",
       "2   A dozen politically active pastor come private...   \n",
       "3   The RS Sarmat missile dub Satan replace SS Fli...   \n",
       "4   All say one time someone sue Southern Poverty ...   \n",
       "\n",
       "                                     title_lemmatized title_polarity  \\\n",
       "id                                                                     \n",
       "0   LAW ENFORCEMENT ON HIGH ALERT Following Threat...        neutral   \n",
       "1   UNBELIEVABLE! OBAMA S ATTORNEY GENERAL SAYS MO...       positive   \n",
       "2   Bobby Jindal raise Hindu use story Christian c...        neutral   \n",
       "3   SATAN Russia unvelis image terrify new SUPERNU...        neutral   \n",
       "4   About Time! Christian Group Sues Amazon SPLC D...        neutral   \n",
       "\n",
       "    title_polarity_score  text_polarity  text_polarity_score  title_emotion  \\\n",
       "id                                                                            \n",
       "0                  0.630              2                0.645              4   \n",
       "1                  0.511              2                1.000              5   \n",
       "2                  1.000              2                0.526              5   \n",
       "3                  0.519              2                1.000              5   \n",
       "4                  1.000              2                1.000              4   \n",
       "\n",
       "    text_emotion  \n",
       "id                \n",
       "0              2  \n",
       "1              5  \n",
       "2              5  \n",
       "3              5  \n",
       "4              5  "
      ]
     },
     "execution_count": 7,
     "metadata": {},
     "output_type": "execute_result"
    }
   ],
   "source": [
    "from sklearn.preprocessing import LabelEncoder\n",
    "\n",
    "le = LabelEncoder()\n",
    "\n",
    "df['text_emotion'] = le.fit_transform(np.ravel(df[['text_emotion']]))\n",
    "df.head()"
   ]
  },
  {
   "cell_type": "code",
   "execution_count": 8,
   "id": "36b034ac",
   "metadata": {
    "scrolled": true
   },
   "outputs": [
    {
     "name": "stdout",
     "output_type": "stream",
     "text": [
      "<class 'pandas.core.frame.DataFrame'>\n",
      "Int64Index: 22012 entries, 0 to 22011\n",
      "Data columns (total 4 columns):\n",
      " #   Column            Non-Null Count  Dtype \n",
      "---  ------            --------------  ----- \n",
      " 0   title_word_count  22012 non-null  int64 \n",
      " 1   text_emotion      22012 non-null  int32 \n",
      " 2   text_word_count   22012 non-null  int64 \n",
      " 3   label_translated  22012 non-null  object\n",
      "dtypes: int32(1), int64(2), object(1)\n",
      "memory usage: 773.9+ KB\n"
     ]
    }
   ],
   "source": [
    "\n",
    "\n",
    "\n",
    "news_num = df[['title_word_count','text_emotion','text_word_count']]\n",
    "news_res = df['label_translated']\n",
    "news_final = pd.concat([news_num,news_res],sort=False,axis=1).reindex(index=news_num.index)\n",
    "# Check the final dataframe\n",
    "news_final.info()"
   ]
  },
  {
   "cell_type": "markdown",
   "id": "4615d096",
   "metadata": {},
   "source": [
    "# Model Training: Logistic Regression, Decision Tree, Random Forest, Support Vector Machine Classifier, Ensemble"
   ]
  },
  {
   "cell_type": "markdown",
   "id": "415a34dd",
   "metadata": {},
   "source": [
    "## Model 1 : Logistic Regression Model ( Title only )"
   ]
  },
  {
   "cell_type": "markdown",
   "id": "700f32f3",
   "metadata": {},
   "source": [
    "### Step 1 : TF-IDF Analysis"
   ]
  },
  {
   "cell_type": "code",
   "execution_count": 9,
   "id": "56e9fd17",
   "metadata": {},
   "outputs": [],
   "source": [
    "tfidf = TfidfVectorizer(stop_words='english',\n",
    "                        strip_accents=None,\n",
    "                        lowercase=True,\n",
    "                        preprocessor=None,\n",
    "                        use_idf=True,\n",
    "                        norm='l2',\n",
    "                        smooth_idf=False, max_features=15000)"
   ]
  },
  {
   "cell_type": "code",
   "execution_count": 10,
   "id": "4534025a",
   "metadata": {},
   "outputs": [],
   "source": [
    "# TF-IDF extraction of top n features\n",
    "def tfidf_top_n_features(tfidf_data, features, n):\n",
    "    # TFIDF data is the term document matrix without the names, and features are the term names\n",
    "    # Convert np.array into dataframe (Currently, headers are the features and rows are the score per document)\n",
    "    tfidf_df = pd.DataFrame(tfidf_data.toarray(), columns = features)\n",
    "    # Transpose dataframe so that the headers are the documents and the x axis is the feature name\n",
    "    tfidf_df = tfidf_df.transpose()\n",
    "    # Average all document tfidf scores into 1 column\n",
    "    tfidf_means = np.mean(tfidf_df, axis=1)\n",
    "    # Previous code output is series data, convert back into df with headers\n",
    "    tfidf_df_summed = pd.DataFrame({'feature':tfidf_means.index, 'avg_tfidf':tfidf_means.values})\n",
    "    # Sort to top N features\n",
    "    tfidf_df_summed = tfidf_df_summed.sort_values(by='avg_tfidf', ascending=False)[:n]\n",
    "    \n",
    "    return tfidf_df_summed"
   ]
  },
  {
   "cell_type": "markdown",
   "id": "9d66b14e",
   "metadata": {},
   "source": [
    "### Step 2 : Extract top 15 features of title and content from Real and Fake News"
   ]
  },
  {
   "cell_type": "markdown",
   "id": "963da1cf",
   "metadata": {},
   "source": [
    "### Top 15 features of title"
   ]
  },
  {
   "cell_type": "code",
   "execution_count": 11,
   "id": "736231b3",
   "metadata": {},
   "outputs": [
    {
     "data": {
      "text/html": [
       "<div>\n",
       "<style scoped>\n",
       "    .dataframe tbody tr th:only-of-type {\n",
       "        vertical-align: middle;\n",
       "    }\n",
       "\n",
       "    .dataframe tbody tr th {\n",
       "        vertical-align: top;\n",
       "    }\n",
       "\n",
       "    .dataframe thead th {\n",
       "        text-align: right;\n",
       "    }\n",
       "</style>\n",
       "<table border=\"1\" class=\"dataframe\">\n",
       "  <thead>\n",
       "    <tr style=\"text-align: right;\">\n",
       "      <th></th>\n",
       "      <th>feature</th>\n",
       "      <th>avg_tfidf</th>\n",
       "    </tr>\n",
       "  </thead>\n",
       "  <tbody>\n",
       "    <tr>\n",
       "      <th>13492</th>\n",
       "      <td>trump</td>\n",
       "      <td>0.033033</td>\n",
       "    </tr>\n",
       "    <tr>\n",
       "      <th>8225</th>\n",
       "      <td>new</td>\n",
       "      <td>0.020477</td>\n",
       "    </tr>\n",
       "    <tr>\n",
       "      <th>14178</th>\n",
       "      <td>video</td>\n",
       "      <td>0.017489</td>\n",
       "    </tr>\n",
       "    <tr>\n",
       "      <th>14916</th>\n",
       "      <td>york</td>\n",
       "      <td>0.016650</td>\n",
       "    </tr>\n",
       "    <tr>\n",
       "      <th>13134</th>\n",
       "      <td>times</td>\n",
       "      <td>0.016525</td>\n",
       "    </tr>\n",
       "    <tr>\n",
       "      <th>10787</th>\n",
       "      <td>says</td>\n",
       "      <td>0.011719</td>\n",
       "    </tr>\n",
       "    <tr>\n",
       "      <th>6237</th>\n",
       "      <td>hillary</td>\n",
       "      <td>0.011178</td>\n",
       "    </tr>\n",
       "    <tr>\n",
       "      <th>2105</th>\n",
       "      <td>clinton</td>\n",
       "      <td>0.011041</td>\n",
       "    </tr>\n",
       "    <tr>\n",
       "      <th>8345</th>\n",
       "      <td>obama</td>\n",
       "      <td>0.010767</td>\n",
       "    </tr>\n",
       "    <tr>\n",
       "      <th>6350</th>\n",
       "      <td>house</td>\n",
       "      <td>0.007964</td>\n",
       "    </tr>\n",
       "    <tr>\n",
       "      <th>3924</th>\n",
       "      <td>donald</td>\n",
       "      <td>0.007495</td>\n",
       "    </tr>\n",
       "    <tr>\n",
       "      <th>1513</th>\n",
       "      <td>breitbart</td>\n",
       "      <td>0.007244</td>\n",
       "    </tr>\n",
       "    <tr>\n",
       "      <th>9149</th>\n",
       "      <td>president</td>\n",
       "      <td>0.006867</td>\n",
       "    </tr>\n",
       "    <tr>\n",
       "      <th>10602</th>\n",
       "      <td>russia</td>\n",
       "      <td>0.006748</td>\n",
       "    </tr>\n",
       "    <tr>\n",
       "      <th>14595</th>\n",
       "      <td>white</td>\n",
       "      <td>0.006563</td>\n",
       "    </tr>\n",
       "  </tbody>\n",
       "</table>\n",
       "</div>"
      ],
      "text/plain": [
       "         feature  avg_tfidf\n",
       "13492      trump   0.033033\n",
       "8225         new   0.020477\n",
       "14178      video   0.017489\n",
       "14916       york   0.016650\n",
       "13134      times   0.016525\n",
       "10787       says   0.011719\n",
       "6237     hillary   0.011178\n",
       "2105     clinton   0.011041\n",
       "8345       obama   0.010767\n",
       "6350       house   0.007964\n",
       "3924      donald   0.007495\n",
       "1513   breitbart   0.007244\n",
       "9149   president   0.006867\n",
       "10602     russia   0.006748\n",
       "14595      white   0.006563"
      ]
     },
     "execution_count": 11,
     "metadata": {},
     "output_type": "execute_result"
    }
   ],
   "source": [
    "# Send docs to fit\n",
    "tfidf_title_data = tfidf.fit_transform(df['title'])\n",
    "tfidf_title_features = tfidf.get_feature_names_out()\n",
    "\n",
    "# Run function\n",
    "tfidf_top_n_features(tfidf_title_data, tfidf_title_features, 15)"
   ]
  },
  {
   "cell_type": "markdown",
   "id": "84a88dc5",
   "metadata": {},
   "source": [
    "### Top 15 features of title and text from Fake News"
   ]
  },
  {
   "cell_type": "code",
   "execution_count": 12,
   "id": "5f172051",
   "metadata": {},
   "outputs": [
    {
     "data": {
      "text/html": [
       "<div>\n",
       "<style scoped>\n",
       "    .dataframe tbody tr th:only-of-type {\n",
       "        vertical-align: middle;\n",
       "    }\n",
       "\n",
       "    .dataframe tbody tr th {\n",
       "        vertical-align: top;\n",
       "    }\n",
       "\n",
       "    .dataframe thead th {\n",
       "        text-align: right;\n",
       "    }\n",
       "</style>\n",
       "<table border=\"1\" class=\"dataframe\">\n",
       "  <thead>\n",
       "    <tr style=\"text-align: right;\">\n",
       "      <th></th>\n",
       "      <th>feature</th>\n",
       "      <th>avg_tfidf</th>\n",
       "    </tr>\n",
       "  </thead>\n",
       "  <tbody>\n",
       "    <tr>\n",
       "      <th>11057</th>\n",
       "      <td>trump</td>\n",
       "      <td>0.032189</td>\n",
       "    </tr>\n",
       "    <tr>\n",
       "      <th>7092</th>\n",
       "      <td>new</td>\n",
       "      <td>0.029198</td>\n",
       "    </tr>\n",
       "    <tr>\n",
       "      <th>11943</th>\n",
       "      <td>york</td>\n",
       "      <td>0.026064</td>\n",
       "    </tr>\n",
       "    <tr>\n",
       "      <th>10826</th>\n",
       "      <td>times</td>\n",
       "      <td>0.025680</td>\n",
       "    </tr>\n",
       "    <tr>\n",
       "      <th>9312</th>\n",
       "      <td>says</td>\n",
       "      <td>0.017465</td>\n",
       "    </tr>\n",
       "    <tr>\n",
       "      <th>1314</th>\n",
       "      <td>breitbart</td>\n",
       "      <td>0.011887</td>\n",
       "    </tr>\n",
       "    <tr>\n",
       "      <th>5073</th>\n",
       "      <td>house</td>\n",
       "      <td>0.011333</td>\n",
       "    </tr>\n",
       "    <tr>\n",
       "      <th>1967</th>\n",
       "      <td>clinton</td>\n",
       "      <td>0.009056</td>\n",
       "    </tr>\n",
       "    <tr>\n",
       "      <th>7236</th>\n",
       "      <td>obama</td>\n",
       "      <td>0.008647</td>\n",
       "    </tr>\n",
       "    <tr>\n",
       "      <th>9203</th>\n",
       "      <td>russia</td>\n",
       "      <td>0.008215</td>\n",
       "    </tr>\n",
       "    <tr>\n",
       "      <th>11740</th>\n",
       "      <td>white</td>\n",
       "      <td>0.007732</td>\n",
       "    </tr>\n",
       "    <tr>\n",
       "      <th>7175</th>\n",
       "      <td>north</td>\n",
       "      <td>0.007362</td>\n",
       "    </tr>\n",
       "    <tr>\n",
       "      <th>5889</th>\n",
       "      <td>korea</td>\n",
       "      <td>0.006993</td>\n",
       "    </tr>\n",
       "    <tr>\n",
       "      <th>10177</th>\n",
       "      <td>state</td>\n",
       "      <td>0.006615</td>\n",
       "    </tr>\n",
       "    <tr>\n",
       "      <th>3184</th>\n",
       "      <td>donald</td>\n",
       "      <td>0.006612</td>\n",
       "    </tr>\n",
       "  </tbody>\n",
       "</table>\n",
       "</div>"
      ],
      "text/plain": [
       "         feature  avg_tfidf\n",
       "11057      trump   0.032189\n",
       "7092         new   0.029198\n",
       "11943       york   0.026064\n",
       "10826      times   0.025680\n",
       "9312        says   0.017465\n",
       "1314   breitbart   0.011887\n",
       "5073       house   0.011333\n",
       "1967     clinton   0.009056\n",
       "7236       obama   0.008647\n",
       "9203      russia   0.008215\n",
       "11740      white   0.007732\n",
       "7175       north   0.007362\n",
       "5889       korea   0.006993\n",
       "10177      state   0.006615\n",
       "3184      donald   0.006612"
      ]
     },
     "execution_count": 12,
     "metadata": {},
     "output_type": "execute_result"
    }
   ],
   "source": [
    "tfidf_title_fake_data = tfidf.fit_transform(df.loc[df['label'] == 1]['title'])\n",
    "tfidf_title_fake_features = tfidf.get_feature_names_out()\n",
    "\n",
    "tfidf_top_n_features(tfidf_title_fake_data, tfidf_title_fake_features, 15)"
   ]
  },
  {
   "cell_type": "code",
   "execution_count": 13,
   "id": "71e5512c",
   "metadata": {},
   "outputs": [
    {
     "data": {
      "text/html": [
       "<div>\n",
       "<style scoped>\n",
       "    .dataframe tbody tr th:only-of-type {\n",
       "        vertical-align: middle;\n",
       "    }\n",
       "\n",
       "    .dataframe tbody tr th {\n",
       "        vertical-align: top;\n",
       "    }\n",
       "\n",
       "    .dataframe thead th {\n",
       "        text-align: right;\n",
       "    }\n",
       "</style>\n",
       "<table border=\"1\" class=\"dataframe\">\n",
       "  <thead>\n",
       "    <tr style=\"text-align: right;\">\n",
       "      <th></th>\n",
       "      <th>feature</th>\n",
       "      <th>avg_tfidf</th>\n",
       "    </tr>\n",
       "  </thead>\n",
       "  <tbody>\n",
       "    <tr>\n",
       "      <th>11734</th>\n",
       "      <td>said</td>\n",
       "      <td>0.053082</td>\n",
       "    </tr>\n",
       "    <tr>\n",
       "      <th>13923</th>\n",
       "      <td>trump</td>\n",
       "      <td>0.049501</td>\n",
       "    </tr>\n",
       "    <tr>\n",
       "      <th>8761</th>\n",
       "      <td>mr</td>\n",
       "      <td>0.027864</td>\n",
       "    </tr>\n",
       "    <tr>\n",
       "      <th>10272</th>\n",
       "      <td>president</td>\n",
       "      <td>0.023288</td>\n",
       "    </tr>\n",
       "    <tr>\n",
       "      <th>12815</th>\n",
       "      <td>state</td>\n",
       "      <td>0.018563</td>\n",
       "    </tr>\n",
       "    <tr>\n",
       "      <th>2440</th>\n",
       "      <td>clinton</td>\n",
       "      <td>0.018439</td>\n",
       "    </tr>\n",
       "    <tr>\n",
       "      <th>11393</th>\n",
       "      <td>reuters</td>\n",
       "      <td>0.017887</td>\n",
       "    </tr>\n",
       "    <tr>\n",
       "      <th>6455</th>\n",
       "      <td>house</td>\n",
       "      <td>0.017787</td>\n",
       "    </tr>\n",
       "    <tr>\n",
       "      <th>9725</th>\n",
       "      <td>people</td>\n",
       "      <td>0.017124</td>\n",
       "    </tr>\n",
       "    <tr>\n",
       "      <th>8966</th>\n",
       "      <td>new</td>\n",
       "      <td>0.017067</td>\n",
       "    </tr>\n",
       "    <tr>\n",
       "      <th>5831</th>\n",
       "      <td>government</td>\n",
       "      <td>0.016026</td>\n",
       "    </tr>\n",
       "    <tr>\n",
       "      <th>11231</th>\n",
       "      <td>republican</td>\n",
       "      <td>0.015643</td>\n",
       "    </tr>\n",
       "    <tr>\n",
       "      <th>12822</th>\n",
       "      <td>states</td>\n",
       "      <td>0.015622</td>\n",
       "    </tr>\n",
       "    <tr>\n",
       "      <th>14142</th>\n",
       "      <td>united</td>\n",
       "      <td>0.015205</td>\n",
       "    </tr>\n",
       "    <tr>\n",
       "      <th>9138</th>\n",
       "      <td>obama</td>\n",
       "      <td>0.014209</td>\n",
       "    </tr>\n",
       "  </tbody>\n",
       "</table>\n",
       "</div>"
      ],
      "text/plain": [
       "          feature  avg_tfidf\n",
       "11734        said   0.053082\n",
       "13923       trump   0.049501\n",
       "8761           mr   0.027864\n",
       "10272   president   0.023288\n",
       "12815       state   0.018563\n",
       "2440      clinton   0.018439\n",
       "11393     reuters   0.017887\n",
       "6455        house   0.017787\n",
       "9725       people   0.017124\n",
       "8966          new   0.017067\n",
       "5831   government   0.016026\n",
       "11231  republican   0.015643\n",
       "12822      states   0.015622\n",
       "14142      united   0.015205\n",
       "9138        obama   0.014209"
      ]
     },
     "execution_count": 13,
     "metadata": {},
     "output_type": "execute_result"
    }
   ],
   "source": [
    "tfidf_title_fake_data = tfidf.fit_transform(df.loc[df['label'] == 1]['text'])\n",
    "tfidf_title_fake_features = tfidf.get_feature_names_out()\n",
    "\n",
    "tfidf_top_n_features(tfidf_title_fake_data, tfidf_title_fake_features, 15)"
   ]
  },
  {
   "cell_type": "markdown",
   "id": "02db6b9a",
   "metadata": {},
   "source": [
    "### Top 15 features of title and text from Real News"
   ]
  },
  {
   "cell_type": "code",
   "execution_count": 14,
   "id": "f908e47d",
   "metadata": {},
   "outputs": [
    {
     "data": {
      "text/html": [
       "<div>\n",
       "<style scoped>\n",
       "    .dataframe tbody tr th:only-of-type {\n",
       "        vertical-align: middle;\n",
       "    }\n",
       "\n",
       "    .dataframe tbody tr th {\n",
       "        vertical-align: top;\n",
       "    }\n",
       "\n",
       "    .dataframe thead th {\n",
       "        text-align: right;\n",
       "    }\n",
       "</style>\n",
       "<table border=\"1\" class=\"dataframe\">\n",
       "  <thead>\n",
       "    <tr style=\"text-align: right;\">\n",
       "      <th></th>\n",
       "      <th>feature</th>\n",
       "      <th>avg_tfidf</th>\n",
       "    </tr>\n",
       "  </thead>\n",
       "  <tbody>\n",
       "    <tr>\n",
       "      <th>12692</th>\n",
       "      <td>trump</td>\n",
       "      <td>0.034551</td>\n",
       "    </tr>\n",
       "    <tr>\n",
       "      <th>13174</th>\n",
       "      <td>video</td>\n",
       "      <td>0.027244</td>\n",
       "    </tr>\n",
       "    <tr>\n",
       "      <th>5709</th>\n",
       "      <td>hillary</td>\n",
       "      <td>0.017109</td>\n",
       "    </tr>\n",
       "    <tr>\n",
       "      <th>2209</th>\n",
       "      <td>clinton</td>\n",
       "      <td>0.012974</td>\n",
       "    </tr>\n",
       "    <tr>\n",
       "      <th>8364</th>\n",
       "      <td>obama</td>\n",
       "      <td>0.012848</td>\n",
       "    </tr>\n",
       "    <tr>\n",
       "      <th>13379</th>\n",
       "      <td>watch</td>\n",
       "      <td>0.010475</td>\n",
       "    </tr>\n",
       "    <tr>\n",
       "      <th>6608</th>\n",
       "      <td>just</td>\n",
       "      <td>0.009307</td>\n",
       "    </tr>\n",
       "    <tr>\n",
       "      <th>3651</th>\n",
       "      <td>donald</td>\n",
       "      <td>0.008453</td>\n",
       "    </tr>\n",
       "    <tr>\n",
       "      <th>8192</th>\n",
       "      <td>new</td>\n",
       "      <td>0.007956</td>\n",
       "    </tr>\n",
       "    <tr>\n",
       "      <th>9378</th>\n",
       "      <td>president</td>\n",
       "      <td>0.007880</td>\n",
       "    </tr>\n",
       "    <tr>\n",
       "      <th>8197</th>\n",
       "      <td>news</td>\n",
       "      <td>0.007496</td>\n",
       "    </tr>\n",
       "    <tr>\n",
       "      <th>3947</th>\n",
       "      <td>election</td>\n",
       "      <td>0.006751</td>\n",
       "    </tr>\n",
       "    <tr>\n",
       "      <th>393</th>\n",
       "      <td>america</td>\n",
       "      <td>0.006674</td>\n",
       "    </tr>\n",
       "    <tr>\n",
       "      <th>1500</th>\n",
       "      <td>breaking</td>\n",
       "      <td>0.006422</td>\n",
       "    </tr>\n",
       "    <tr>\n",
       "      <th>1237</th>\n",
       "      <td>black</td>\n",
       "      <td>0.006252</td>\n",
       "    </tr>\n",
       "  </tbody>\n",
       "</table>\n",
       "</div>"
      ],
      "text/plain": [
       "         feature  avg_tfidf\n",
       "12692      trump   0.034551\n",
       "13174      video   0.027244\n",
       "5709     hillary   0.017109\n",
       "2209     clinton   0.012974\n",
       "8364       obama   0.012848\n",
       "13379      watch   0.010475\n",
       "6608        just   0.009307\n",
       "3651      donald   0.008453\n",
       "8192         new   0.007956\n",
       "9378   president   0.007880\n",
       "8197        news   0.007496\n",
       "3947    election   0.006751\n",
       "393      america   0.006674\n",
       "1500    breaking   0.006422\n",
       "1237       black   0.006252"
      ]
     },
     "execution_count": 14,
     "metadata": {},
     "output_type": "execute_result"
    }
   ],
   "source": [
    "tfidf_title_real_data = tfidf.fit_transform(df.loc[df['label'] == 0]['title'])\n",
    "tfidf_title_real_features = tfidf.get_feature_names_out()\n",
    "\n",
    "tfidf_top_n_features(tfidf_title_real_data, tfidf_title_real_features, 15)"
   ]
  },
  {
   "cell_type": "code",
   "execution_count": 15,
   "id": "7d5a7a68",
   "metadata": {},
   "outputs": [
    {
     "data": {
      "text/html": [
       "<div>\n",
       "<style scoped>\n",
       "    .dataframe tbody tr th:only-of-type {\n",
       "        vertical-align: middle;\n",
       "    }\n",
       "\n",
       "    .dataframe tbody tr th {\n",
       "        vertical-align: top;\n",
       "    }\n",
       "\n",
       "    .dataframe thead th {\n",
       "        text-align: right;\n",
       "    }\n",
       "</style>\n",
       "<table border=\"1\" class=\"dataframe\">\n",
       "  <thead>\n",
       "    <tr style=\"text-align: right;\">\n",
       "      <th></th>\n",
       "      <th>feature</th>\n",
       "      <th>avg_tfidf</th>\n",
       "    </tr>\n",
       "  </thead>\n",
       "  <tbody>\n",
       "    <tr>\n",
       "      <th>13872</th>\n",
       "      <td>trump</td>\n",
       "      <td>0.057427</td>\n",
       "    </tr>\n",
       "    <tr>\n",
       "      <th>2365</th>\n",
       "      <td>clinton</td>\n",
       "      <td>0.027227</td>\n",
       "    </tr>\n",
       "    <tr>\n",
       "      <th>11689</th>\n",
       "      <td>said</td>\n",
       "      <td>0.022472</td>\n",
       "    </tr>\n",
       "    <tr>\n",
       "      <th>6266</th>\n",
       "      <td>hillary</td>\n",
       "      <td>0.021248</td>\n",
       "    </tr>\n",
       "    <tr>\n",
       "      <th>10297</th>\n",
       "      <td>president</td>\n",
       "      <td>0.020814</td>\n",
       "    </tr>\n",
       "    <tr>\n",
       "      <th>9758</th>\n",
       "      <td>people</td>\n",
       "      <td>0.020444</td>\n",
       "    </tr>\n",
       "    <tr>\n",
       "      <th>9144</th>\n",
       "      <td>obama</td>\n",
       "      <td>0.017993</td>\n",
       "    </tr>\n",
       "    <tr>\n",
       "      <th>4050</th>\n",
       "      <td>donald</td>\n",
       "      <td>0.015987</td>\n",
       "    </tr>\n",
       "    <tr>\n",
       "      <th>7819</th>\n",
       "      <td>like</td>\n",
       "      <td>0.014795</td>\n",
       "    </tr>\n",
       "    <tr>\n",
       "      <th>8966</th>\n",
       "      <td>new</td>\n",
       "      <td>0.013642</td>\n",
       "    </tr>\n",
       "    <tr>\n",
       "      <th>8973</th>\n",
       "      <td>news</td>\n",
       "      <td>0.013269</td>\n",
       "    </tr>\n",
       "    <tr>\n",
       "      <th>4342</th>\n",
       "      <td>election</td>\n",
       "      <td>0.013139</td>\n",
       "    </tr>\n",
       "    <tr>\n",
       "      <th>1868</th>\n",
       "      <td>campaign</td>\n",
       "      <td>0.012953</td>\n",
       "    </tr>\n",
       "    <tr>\n",
       "      <th>12766</th>\n",
       "      <td>state</td>\n",
       "      <td>0.012575</td>\n",
       "    </tr>\n",
       "    <tr>\n",
       "      <th>13587</th>\n",
       "      <td>time</td>\n",
       "      <td>0.012489</td>\n",
       "    </tr>\n",
       "  </tbody>\n",
       "</table>\n",
       "</div>"
      ],
      "text/plain": [
       "         feature  avg_tfidf\n",
       "13872      trump   0.057427\n",
       "2365     clinton   0.027227\n",
       "11689       said   0.022472\n",
       "6266     hillary   0.021248\n",
       "10297  president   0.020814\n",
       "9758      people   0.020444\n",
       "9144       obama   0.017993\n",
       "4050      donald   0.015987\n",
       "7819        like   0.014795\n",
       "8966         new   0.013642\n",
       "8973        news   0.013269\n",
       "4342    election   0.013139\n",
       "1868    campaign   0.012953\n",
       "12766      state   0.012575\n",
       "13587       time   0.012489"
      ]
     },
     "execution_count": 15,
     "metadata": {},
     "output_type": "execute_result"
    }
   ],
   "source": [
    "tfidf_title_real_data = tfidf.fit_transform(df.loc[df['label'] == 0]['text'])\n",
    "tfidf_title_real_features = tfidf.get_feature_names_out()\n",
    "\n",
    "tfidf_top_n_features(tfidf_title_real_data, tfidf_title_real_features, 15)"
   ]
  },
  {
   "cell_type": "markdown",
   "id": "55d0d65f",
   "metadata": {},
   "source": [
    "### Step 3 : Model Training"
   ]
  },
  {
   "cell_type": "code",
   "execution_count": 16,
   "id": "c3e73bba",
   "metadata": {},
   "outputs": [],
   "source": [
    "x_train, x_test, y_train, y_test = train_test_split(df['title'], df['label_translated'], test_size=0.2)"
   ]
  },
  {
   "cell_type": "code",
   "execution_count": 17,
   "id": "d3a86c26",
   "metadata": {},
   "outputs": [
    {
     "name": "stdout",
     "output_type": "stream",
     "text": [
      "Train: 17609 & 17609\n",
      "Test: 4403 & 4403\n"
     ]
    }
   ],
   "source": [
    "print(f\"Train: {x_train.shape[0]} & {y_train.shape[0]}\")\n",
    "print(f\"Test: {x_test.shape[0]} & {y_test.shape[0]}\")"
   ]
  },
  {
   "cell_type": "markdown",
   "id": "30254c21",
   "metadata": {},
   "source": [
    "## Implementing a models accuracy table"
   ]
  },
  {
   "cell_type": "code",
   "execution_count": 18,
   "id": "866b15d7",
   "metadata": {},
   "outputs": [],
   "source": [
    "accuracy_df = pd.DataFrame(columns = ['Model', 'Accuracy', ' True Pos', 'False Pos', 'True Neg', 'False Neg'])\n",
    "def update_accuracy(cm, acc, model):\n",
    "    df = [1,2,3,4,5,6]\n",
    "    FP = float(cm[0][1])\n",
    "    TP = float(cm[1][1])\n",
    "    FN = float(cm[1][0])\n",
    "    TN = float(cm[0][0])\n",
    "    TPR = (TP/(TP+FP))*100\n",
    "    FPR = 100 - TPR\n",
    "    TNR = (TN/(TN+FN))*100\n",
    "    FNR = 100 - TNR\n",
    "    df[0] = model\n",
    "    df[1] = round(float(acc*100),1)\n",
    "    df[2] = round(float(TPR),1)\n",
    "    df[3] = round(float(FPR),1)\n",
    "    df[4] = round(float(TNR),1)\n",
    "    df[5] = round(float(FNR),1)\n",
    "    return df    "
   ]
  },
  {
   "cell_type": "markdown",
   "id": "cfc25d04",
   "metadata": {},
   "source": [
    "## K-Fold Cross Validation to estimate performance of model"
   ]
  },
  {
   "cell_type": "code",
   "execution_count": 19,
   "id": "60f0af80",
   "metadata": {},
   "outputs": [],
   "source": [
    "tfidf = TfidfVectorizer(strip_accents=None,\n",
    "                        lowercase=False,\n",
    "                        preprocessor=None,\n",
    "                        use_idf=True,\n",
    "                        norm='l2',\n",
    "                        smooth_idf=True)\n",
    "\n",
    "# Send all docs to fit\n",
    "tfidf_train = tfidf.fit_transform(x_train)\n",
    "tfidf_test = tfidf.transform(x_test)"
   ]
  },
  {
   "cell_type": "code",
   "execution_count": 20,
   "id": "578e4e9a",
   "metadata": {},
   "outputs": [],
   "source": [
    "# Init logistic regression for k-fold and training\n",
    "logreg = LogisticRegression(penalty='l2', C=1.0)"
   ]
  },
  {
   "cell_type": "code",
   "execution_count": 21,
   "id": "53d66566",
   "metadata": {},
   "outputs": [],
   "source": [
    "# Init Stratified K fold cross validation object\n",
    "sf = StratifiedKFold(n_splits=5, shuffle=True, random_state=2)\n",
    "\n",
    "# Run k-fold using logistic regression\n",
    "cv_results = cross_val_score(logreg, tfidf_train, y_train, cv=sf)"
   ]
  },
  {
   "cell_type": "code",
   "execution_count": 22,
   "id": "f7d8daf4",
   "metadata": {},
   "outputs": [
    {
     "name": "stdout",
     "output_type": "stream",
     "text": [
      "Score: 0.91993\n",
      "Score: 0.93242\n",
      "Score: 0.92561\n",
      "Score: 0.92419\n",
      "Score: 0.93269\n",
      "Mean score: 0.92697\n"
     ]
    }
   ],
   "source": [
    "# Print performance of each training and the average training score\n",
    "for score in cv_results:\n",
    "    print(f\"Score: {score :.5f}\")\n",
    "\n",
    "print(f\"Mean score: {cv_results.mean() :.5f}\")"
   ]
  },
  {
   "cell_type": "code",
   "execution_count": 23,
   "id": "f1849fc6",
   "metadata": {},
   "outputs": [
    {
     "name": "stdout",
     "output_type": "stream",
     "text": [
      "Train Data\n",
      "Accuracy  :\t 0.961042648645579\n",
      "\n",
      "TPR Train :\t 0.9598048327137546\n",
      "TNR Train :\t 0.9622264192867459\n",
      "\n",
      "FPR Train :\t 0.03777358071325408\n",
      "FNR Train :\t 0.04019516728624535\n"
     ]
    }
   ],
   "source": [
    "\n",
    "# Train\n",
    "logreg.fit(tfidf_train, y_train)\n",
    "\n",
    "# Predict test dataset\n",
    "y_train_pred = logreg.predict(tfidf_train)\n",
    "\n",
    "# Print the Classification Accuracy\n",
    "print(\"Train Data\")\n",
    "print(\"Accuracy  :\\t\", logreg.score(tfidf_train, y_train))\n",
    "print()\n",
    "\n",
    "# Print the Accuracy Measures from the Confusion Matrix\n",
    "cmTrain = confusion_matrix(y_train, y_train_pred)\n",
    "tpTrain = cmTrain[1][1] # True Positives : Good (1) predicted Good (1)\n",
    "fpTrain = cmTrain[0][1] # False Positives : Bad (0) predicted Good (1)\n",
    "tnTrain = cmTrain[0][0] # True Negatives : Bad (0) predicted Bad (0)\n",
    "fnTrain = cmTrain[1][0] # False Negatives : Good (1) predicted Bad (0)\n",
    "\n",
    "print(\"TPR Train :\\t\", (tpTrain/(tpTrain + fnTrain)))\n",
    "print(\"TNR Train :\\t\", (tnTrain/(tnTrain + fpTrain)))\n",
    "print()\n",
    "\n",
    "print(\"FPR Train :\\t\", (fpTrain/(tnTrain + fpTrain)))\n",
    "print(\"FNR Train :\\t\", (fnTrain/(tpTrain + fnTrain)))"
   ]
  },
  {
   "cell_type": "code",
   "execution_count": 24,
   "id": "0a2a7842",
   "metadata": {},
   "outputs": [
    {
     "data": {
      "image/png": "[encoded data removed]",
      "text/plain": [
       "<Figure size 900x900 with 2 Axes>"
      ]
     },
     "metadata": {},
     "output_type": "display_data"
    }
   ],
   "source": [
    "log_pred = logreg.predict(tfidf_train.toarray())\n",
    "log_accuracy = accuracy_score(y_train,log_pred)\n",
    "log_cm = metrics.confusion_matrix(y_train, log_pred)\n",
    "\n",
    "plt.figure(figsize=(9,9))\n",
    "sns.heatmap(log_cm, annot=True, fmt=\".3f\", linewidths=.5, square = True, cmap = 'cubehelix')\n",
    "plt.ylabel('Actual label')\n",
    "plt.xlabel('Predicted label')\n",
    "all_sample_title = 'Logistic Regression Train Accuracy Score: {0:.1f}%'.format(log_accuracy*100)\n",
    "plt.title(all_sample_title, size = 15)\n",
    "\n",
    "accuracy_list = update_accuracy(log_cm, log_accuracy, \"Logistic-Regression Train\")\n",
    "accuracy_df.loc[len(accuracy_df)] = accuracy_list"
   ]
  },
  {
   "cell_type": "code",
   "execution_count": 25,
   "id": "a4b21df5",
   "metadata": {},
   "outputs": [
    {
     "name": "stdout",
     "output_type": "stream",
     "text": [
      "Test Data\n",
      "Accuracy  :\t 0.929366341131047\n",
      "TPR Test :\t 0.9343065693430657\n",
      "TNR Test :\t 0.924468566259611\n",
      "\n",
      "FPR Test :\t 0.07553143374038897\n",
      "FNR Test :\t 0.06569343065693431\n"
     ]
    }
   ],
   "source": [
    "# Predict test dataset\n",
    "y_test_pred = logreg.predict(tfidf_test)\n",
    "\n",
    "# Print the Classification Accuracy\n",
    "print(\"Test Data\")\n",
    "print(\"Accuracy  :\\t\", logreg.score(tfidf_test, y_test))\n",
    "\n",
    "# Print the Accuracy Measures from the Confusion Matrix\n",
    "cmTest = confusion_matrix(y_test, y_test_pred)\n",
    "tpTest = cmTest[1][1] # True Positives : Good (1) predicted Good (1)\n",
    "fpTest = cmTest[0][1] # False Positives : Bad (0) predicted Good (1)\n",
    "tnTest = cmTest[0][0] # True Negatives : Bad (0) predicted Bad (0)\n",
    "fnTest = cmTest[1][0] # False Negatives : Good (1) predicted Bad (0)\n",
    "\n",
    "print(\"TPR Test :\\t\", (tpTest/(tpTest + fnTest)))\n",
    "print(\"TNR Test :\\t\", (tnTest/(tnTest + fpTest)))\n",
    "print()\n",
    "\n",
    "print(\"FPR Test :\\t\", (fpTest/(tnTest + fpTest)))\n",
    "print(\"FNR Test :\\t\", (fnTest/(tpTest + fnTest)))"
   ]
  },
  {
   "cell_type": "code",
   "execution_count": 26,
   "id": "753e3ff1",
   "metadata": {},
   "outputs": [
    {
     "data": {
      "image/png": "[encoded data removed]",
      "text/plain": [
       "<Figure size 900x900 with 2 Axes>"
      ]
     },
     "metadata": {},
     "output_type": "display_data"
    }
   ],
   "source": [
    "log_pred = logreg.predict(tfidf_test.toarray())\n",
    "log_accuracy = accuracy_score(y_test,log_pred)\n",
    "log_cm = metrics.confusion_matrix(y_test, log_pred)\n",
    "\n",
    "plt.figure(figsize=(9,9))\n",
    "sns.heatmap(log_cm, annot=True, fmt=\".3f\", linewidths=.5, square = True, cmap = 'cubehelix')\n",
    "plt.ylabel('Actual label')\n",
    "plt.xlabel('Predicted label')\n",
    "all_sample_title = 'Logistic Regression Test Accuracy Score: {0:.1f}%'.format(log_accuracy*100)\n",
    "plt.title(all_sample_title, size = 15)\n",
    "\n",
    "accuracy_list = update_accuracy(log_cm, log_accuracy, \"Logistic-Regression Test\")\n",
    "accuracy_df.loc[len(accuracy_df)] = accuracy_list"
   ]
  },
  {
   "cell_type": "markdown",
   "id": "e2bb4d9e",
   "metadata": {},
   "source": [
    "### Logistic Regression performed quite well of 96.1% for training accuracy and 92.9% for testing accuracy. The gap difference of accuracy is quite minimal which makes this a good model."
   ]
  },
  {
   "cell_type": "markdown",
   "id": "d8bfac09",
   "metadata": {},
   "source": [
    "## Model 2 : Decision Tree"
   ]
  },
  {
   "cell_type": "code",
   "execution_count": 27,
   "id": "fa4fb2f7",
   "metadata": {},
   "outputs": [
    {
     "name": "stdout",
     "output_type": "stream",
     "text": [
      "Train: 17609 & 17609\n",
      "Test: 4403 & 4403\n"
     ]
    }
   ],
   "source": [
    "# Extract Response and Predictors\n",
    "y = pd.DataFrame(news_final['label_translated'])\n",
    "x = pd.DataFrame(news_final.drop('label_translated', axis = 1))\n",
    "\n",
    "\n",
    "\n",
    "\n",
    "# Split the Dataset into Train and Test\n",
    "x_train, x_test, y_train, y_test = train_test_split(x,y, test_size = 0.2)\n",
    "\n",
    "# Check distribution\n",
    "print(f\"Train: {x_train.shape[0]} & {y_train.shape[0]}\")\n",
    "print(f\"Test: {x_test.shape[0]} & {y_test.shape[0]}\")\n",
    "\n"
   ]
  },
  {
   "cell_type": "code",
   "execution_count": 28,
   "id": "63225db0",
   "metadata": {},
   "outputs": [
    {
     "name": "stdout",
     "output_type": "stream",
     "text": [
      "Train Data\n",
      "Accuracy  :\t 0.7191776932250553\n",
      "\n",
      "TPR Train :\t 0.7594995366079703\n",
      "TNR Train :\t 0.6804054806728306\n",
      "\n",
      "FPR Train :\t 0.3195945193271694\n",
      "FNR Train :\t 0.24050046339202966\n"
     ]
    }
   ],
   "source": [
    "from sklearn.tree import DecisionTreeClassifier\n",
    "clf = DecisionTreeClassifier(max_depth = 4)\n",
    "clf.fit(x_train, y_train)\n",
    "\n",
    "# Predict the Response corresponding to Predictors\n",
    "y_train_pred = clf.predict(x_train)\n",
    "\n",
    "# Print the Classification Accuracy\n",
    "print(\"Train Data\")\n",
    "print(\"Accuracy  :\\t\", clf.score(x_train, y_train))\n",
    "print()\n",
    "\n",
    "# Print the Accuracy Measures from the Confusion Matrix\n",
    "cmTrain = confusion_matrix(y_train, y_train_pred)\n",
    "tpTrain = cmTrain[1][1] # True Positives : Good (1) predicted Good (1)\n",
    "fpTrain = cmTrain[0][1] # False Positives : Bad (0) predicted Good (1)\n",
    "tnTrain = cmTrain[0][0] # True Negatives : Bad (0) predicted Bad (0)\n",
    "fnTrain = cmTrain[1][0] # False Negatives : Good (1) predicted Bad (0)\n",
    "\n",
    "print(\"TPR Train :\\t\", (tpTrain/(tpTrain + fnTrain)))\n",
    "print(\"TNR Train :\\t\", (tnTrain/(tnTrain + fpTrain)))\n",
    "print()\n",
    "\n",
    "print(\"FPR Train :\\t\", (fpTrain/(tnTrain + fpTrain)))\n",
    "print(\"FNR Train :\\t\", (fnTrain/(tpTrain + fnTrain)))\n",
    "\n"
   ]
  },
  {
   "cell_type": "code",
   "execution_count": 29,
   "id": "7b343cb3",
   "metadata": {},
   "outputs": [
    {
     "data": {
      "image/png": "[encoded data removed]",
      "text/plain": [
       "<Figure size 900x900 with 2 Axes>"
      ]
     },
     "metadata": {},
     "output_type": "display_data"
    }
   ],
   "source": [
    "tree_pred = clf.predict(x_train)\n",
    "tree_accuracy = accuracy_score(y_train,tree_pred)\n",
    "tree_cm = metrics.confusion_matrix(y_train, tree_pred)\n",
    "\n",
    "plt.figure(figsize=(9,9))\n",
    "sns.heatmap(tree_cm, annot=True, fmt=\".3f\", linewidths=.5, square = True, cmap = 'cubehelix')\n",
    "plt.ylabel('Actual label')\n",
    "plt.xlabel('Predicted label')\n",
    "all_sample_title = 'Decision Tree Train Accuracy Score: {0:.1f}%'.format(tree_accuracy*100)\n",
    "plt.title(all_sample_title, size = 15)\n",
    "\n",
    "accuracy_list = update_accuracy(tree_cm, tree_accuracy, \"Decision Tree Train\")\n",
    "accuracy_df.loc[len(accuracy_df)] = accuracy_list"
   ]
  },
  {
   "cell_type": "code",
   "execution_count": 30,
   "id": "6561bae3",
   "metadata": {},
   "outputs": [
    {
     "name": "stdout",
     "output_type": "stream",
     "text": [
      "Test Data\n",
      "Accuracy  :\t 0.712241653418124\n",
      "TPR Test :\t 0.7481549815498155\n",
      "TNR Test :\t 0.6774049217002237\n",
      "\n",
      "FPR Test :\t 0.3225950782997763\n",
      "FNR Test :\t 0.2518450184501845\n"
     ]
    }
   ],
   "source": [
    "# Predict the Response corresponding to Predictors\n",
    "y_test_pred = clf.predict(x_test)\n",
    "\n",
    "# Print the Classification Accuracy\n",
    "print(\"Test Data\")\n",
    "print(\"Accuracy  :\\t\", clf.score(x_test, y_test))\n",
    "\n",
    "# Print the Accuracy Measures from the Confusion Matrix\n",
    "cmTest = confusion_matrix(y_test, y_test_pred)\n",
    "tpTest = cmTest[1][1] # True Positives : Good (1) predicted Good (1)\n",
    "fpTest = cmTest[0][1] # False Positives : Bad (0) predicted Good (1)\n",
    "tnTest = cmTest[0][0] # True Negatives : Bad (0) predicted Bad (0)\n",
    "fnTest = cmTest[1][0] # False Negatives : Good (1) predicted Bad (0)\n",
    "\n",
    "print(\"TPR Test :\\t\", (tpTest/(tpTest + fnTest)))\n",
    "print(\"TNR Test :\\t\", (tnTest/(tnTest + fpTest)))\n",
    "print()\n",
    "\n",
    "print(\"FPR Test :\\t\", (fpTest/(tnTest + fpTest)))\n",
    "print(\"FNR Test :\\t\", (fnTest/(tpTest + fnTest)))"
   ]
  },
  {
   "cell_type": "code",
   "execution_count": 31,
   "id": "4f891882",
   "metadata": {},
   "outputs": [
    {
     "data": {
      "image/png": "[encoded data removed]",
      "text/plain": [
       "<Figure size 900x900 with 2 Axes>"
      ]
     },
     "metadata": {},
     "output_type": "display_data"
    }
   ],
   "source": [
    "tree_pred = clf.predict(x_test)\n",
    "tree_accuracy = accuracy_score(y_test,tree_pred)\n",
    "tree_cm = metrics.confusion_matrix(y_test, tree_pred)\n",
    "\n",
    "plt.figure(figsize=(9,9))\n",
    "sns.heatmap(tree_cm, annot=True, fmt=\".3f\", linewidths=.5, square = True, cmap = 'cubehelix')\n",
    "plt.ylabel('Actual label')\n",
    "plt.xlabel('Predicted label')\n",
    "all_sample_title = 'Decision Tree Test Accuracy Score: {0:.1f}%'.format(tree_accuracy*100)\n",
    "plt.title(all_sample_title, size = 15)\n",
    "\n",
    "accuracy_list = update_accuracy(tree_cm, tree_accuracy, \"Decision Tree Test\")\n",
    "accuracy_df.loc[len(accuracy_df)] = accuracy_list"
   ]
  },
  {
   "cell_type": "markdown",
   "id": "51a78e82",
   "metadata": {},
   "source": [
    "### Decision Tree has a slightly lower accuracy of both training and testing of around 71%. The gap difference however is less than 1%, which is ideal when testing the model."
   ]
  },
  {
   "cell_type": "markdown",
   "id": "6b827731",
   "metadata": {},
   "source": [
    "## Model 3 : Random Forest"
   ]
  },
  {
   "cell_type": "code",
   "execution_count": 32,
   "id": "c3c10e07",
   "metadata": {},
   "outputs": [],
   "source": [
    "from sklearn.ensemble import RandomForestClassifier\n",
    "# Create the Random Forest object\n",
    "rforest = RandomForestClassifier(n_estimators = 100,  # n_estimators denote number of trees\n",
    "                                 max_depth = 4)       # set the maximum depth of each tree"
   ]
  },
  {
   "cell_type": "code",
   "execution_count": 33,
   "id": "2f2f60bf",
   "metadata": {},
   "outputs": [
    {
     "data": {
      "text/plain": [
       "RandomForestClassifier(max_depth=4)"
      ]
     },
     "execution_count": 33,
     "metadata": {},
     "output_type": "execute_result"
    }
   ],
   "source": [
    "# Fit Random Forest on Train Data\n",
    "rforest.fit(x_train, y_train.label_translated.ravel())"
   ]
  },
  {
   "cell_type": "code",
   "execution_count": 34,
   "id": "f3339964",
   "metadata": {},
   "outputs": [
    {
     "name": "stdout",
     "output_type": "stream",
     "text": [
      "Train Data\n",
      "Accuracy  :\t 0.7299676301891078\n",
      "\n",
      "TPR Train :\t 0.7530120481927711\n",
      "TNR Train :\t 0.7078088448256656\n",
      "\n",
      "FPR Train :\t 0.2921911551743344\n",
      "FNR Train :\t 0.2469879518072289\n"
     ]
    }
   ],
   "source": [
    "# Predict the Response corresponding to Predictors\n",
    "y_train_pred = rforest.predict(x_train)\n",
    "\n",
    "# Print the Classification Accuracy\n",
    "print(\"Train Data\")\n",
    "print(\"Accuracy  :\\t\", rforest.score(x_train, y_train))\n",
    "print()\n",
    "\n",
    "# Print the Accuracy Measures from the Confusion Matrix\n",
    "cmTrain = confusion_matrix(y_train, y_train_pred)\n",
    "tpTrain = cmTrain[1][1] # True Positives : Good (1) predicted Good (1)\n",
    "fpTrain = cmTrain[0][1] # False Positives : Bad (0) predicted Good (1)\n",
    "tnTrain = cmTrain[0][0] # True Negatives : Bad (0) predicted Bad (0)\n",
    "fnTrain = cmTrain[1][0] # False Negatives : Good (1) predicted Bad (0)\n",
    "\n",
    "print(\"TPR Train :\\t\", (tpTrain/(tpTrain + fnTrain)))\n",
    "print(\"TNR Train :\\t\", (tnTrain/(tnTrain + fpTrain)))\n",
    "print()\n",
    "\n",
    "print(\"FPR Train :\\t\", (fpTrain/(tnTrain + fpTrain)))\n",
    "print(\"FNR Train :\\t\", (fnTrain/(tpTrain + fnTrain)))"
   ]
  },
  {
   "cell_type": "code",
   "execution_count": 35,
   "id": "3dc1ec2a",
   "metadata": {},
   "outputs": [
    {
     "data": {
      "image/png": "[encoded data removed]",
      "text/plain": [
       "<Figure size 900x900 with 2 Axes>"
      ]
     },
     "metadata": {},
     "output_type": "display_data"
    }
   ],
   "source": [
    "r_pred = rforest.predict(x_train)\n",
    "r_accuracy = accuracy_score(y_train,r_pred)\n",
    "r_cm = metrics.confusion_matrix(y_train, r_pred)\n",
    "\n",
    "plt.figure(figsize=(9,9))\n",
    "sns.heatmap(r_cm, annot=True, fmt=\".3f\", linewidths=.5, square = True, cmap = 'cubehelix')\n",
    "plt.ylabel('Actual label')\n",
    "plt.xlabel('Predicted label')\n",
    "all_sample_title = 'Random Forest Train Accuracy Score: {0:.1f}%'.format(r_accuracy*100)\n",
    "plt.title(all_sample_title, size = 15)\n",
    "\n",
    "accuracy_list = update_accuracy(r_cm, r_accuracy, \"Random Forest Train\")\n",
    "accuracy_df.loc[len(accuracy_df)] = accuracy_list"
   ]
  },
  {
   "cell_type": "code",
   "execution_count": 36,
   "id": "54dc3821",
   "metadata": {},
   "outputs": [
    {
     "name": "stdout",
     "output_type": "stream",
     "text": [
      "Test Data\n",
      "Accuracy  :\t 0.7235975471269589\n",
      "TPR Test :\t 0.7467712177121771\n",
      "TNR Test :\t 0.7011185682326622\n",
      "\n",
      "FPR Test :\t 0.29888143176733784\n",
      "FNR Test :\t 0.25322878228782286\n"
     ]
    }
   ],
   "source": [
    "# Predict the Response corresponding to Predictors\n",
    "y_test_pred = rforest.predict(x_test)\n",
    "\n",
    "# Print the Classification Accuracy\n",
    "print(\"Test Data\")\n",
    "print(\"Accuracy  :\\t\", rforest.score(x_test, y_test))\n",
    "\n",
    "# Print the Accuracy Measures from the Confusion Matrix\n",
    "cmTest = confusion_matrix(y_test, y_test_pred)\n",
    "tpTest = cmTest[1][1] # True Positives : Good (1) predicted Good (1)\n",
    "fpTest = cmTest[0][1] # False Positives : Bad (0) predicted Good (1)\n",
    "tnTest = cmTest[0][0] # True Negatives : Bad (0) predicted Bad (0)\n",
    "fnTest = cmTest[1][0] # False Negatives : Good (1) predicted Bad (0)\n",
    "\n",
    "print(\"TPR Test :\\t\", (tpTest/(tpTest + fnTest)))\n",
    "print(\"TNR Test :\\t\", (tnTest/(tnTest + fpTest)))\n",
    "print()\n",
    "\n",
    "print(\"FPR Test :\\t\", (fpTest/(tnTest + fpTest)))\n",
    "print(\"FNR Test :\\t\", (fnTest/(tpTest + fnTest)))"
   ]
  },
  {
   "cell_type": "code",
   "execution_count": 37,
   "id": "ab78099e",
   "metadata": {},
   "outputs": [
    {
     "data": {
      "image/png": "[encoded data removed]",
      "text/plain": [
       "<Figure size 900x900 with 2 Axes>"
      ]
     },
     "metadata": {},
     "output_type": "display_data"
    }
   ],
   "source": [
    "r_pred = rforest.predict(x_test)\n",
    "r_accuracy = accuracy_score(y_test,r_pred)\n",
    "r_cm = metrics.confusion_matrix(y_test, r_pred)\n",
    "\n",
    "plt.figure(figsize=(9,9))\n",
    "sns.heatmap(r_cm, annot=True, fmt=\".3f\", linewidths=.5, square = True, cmap = 'cubehelix')\n",
    "plt.ylabel('Actual label')\n",
    "plt.xlabel('Predicted label')\n",
    "all_sample_title = 'Random Forest Test Accuracy Score: {0:.1f}%'.format(r_accuracy*100)\n",
    "plt.title(all_sample_title, size = 15)\n",
    "\n",
    "accuracy_list = update_accuracy(r_cm, r_accuracy, \"Random Forest Test\")\n",
    "accuracy_df.loc[len(accuracy_df)] = accuracy_list"
   ]
  },
  {
   "cell_type": "markdown",
   "id": "54427180",
   "metadata": {},
   "source": [
    "### Random Forest has a slightly higher accuracy of 73% than Decision Tree and a small difference in training and testing accuracy. Can this be improved by tuning the hyperparameters?"
   ]
  },
  {
   "cell_type": "markdown",
   "id": "ea84df77",
   "metadata": {},
   "source": [
    "### Tuning hyperparameters using Cross-Validation"
   ]
  },
  {
   "cell_type": "code",
   "execution_count": 38,
   "id": "9deffc81",
   "metadata": {},
   "outputs": [
    {
     "data": {
      "text/plain": [
       "GridSearchCV(cv=5, estimator=RandomForestClassifier(),\n",
       "             param_grid={'max_depth': array([ 2,  3,  4,  5,  6,  7,  8,  9, 10]),\n",
       "                         'n_estimators': array([ 100,  200,  300,  400,  500,  600,  700,  800,  900, 1000])},\n",
       "             scoring='accuracy')"
      ]
     },
     "execution_count": 38,
     "metadata": {},
     "output_type": "execute_result"
    }
   ],
   "source": [
    "# Define the Hyper-parameter Grid to search on, in case of Random Forest\n",
    "param_grid = {'n_estimators': np.arange(100,1001,100),   # number of trees 100, 200, ..., 1000\n",
    "              'max_depth': np.arange(2, 11)}             # depth of trees 2, 3, 4, 5, ..., 10\n",
    "\n",
    "# Create the Hyper-parameter Grid\n",
    "hpGrid = GridSearchCV(RandomForestClassifier(),   # the model family\n",
    "                      param_grid,                 # the search grid\n",
    "                      cv = 5,                     # 5-fold cross-validation\n",
    "                      scoring = 'accuracy')       # score to evaluate\n",
    "\n",
    "# Train the models using Cross-Validation\n",
    "hpGrid.fit(x_train, y_train.label_translated.ravel())"
   ]
  },
  {
   "cell_type": "code",
   "execution_count": 39,
   "id": "b48d93e9",
   "metadata": {},
   "outputs": [
    {
     "name": "stdout",
     "output_type": "stream",
     "text": [
      "RandomForestClassifier(max_depth=9, n_estimators=700)\n",
      "0.7404164451112744\n"
     ]
    }
   ],
   "source": [
    "# Fetch the best Model or the best set of Hyper-parameters\n",
    "print(hpGrid.best_estimator_)\n",
    "\n",
    "# Print the score (accuracy) of the best Model after CV\n",
    "print(np.abs(hpGrid.best_score_))"
   ]
  },
  {
   "cell_type": "markdown",
   "id": "d6fc4d3f",
   "metadata": {},
   "source": [
    "### The best accuracy we can obtain from this model is 74% with max_depth of 9 and 700 estimators."
   ]
  },
  {
   "cell_type": "markdown",
   "id": "8e3a526b",
   "metadata": {},
   "source": [
    "## Model 4 : Support Vector Machine Classifier"
   ]
  },
  {
   "cell_type": "code",
   "execution_count": 40,
   "id": "4ce6b0d8",
   "metadata": {},
   "outputs": [
    {
     "name": "stdout",
     "output_type": "stream",
     "text": [
      "Train Data\n",
      "Accuracy  :\t 0.8320745073541939\n",
      "TPR Train :\t 0.817191844300278\n",
      "TNR Train :\t 0.846385206639189\n",
      "\n",
      "FPR Train :\t 0.15361479336081096\n",
      "FNR Train :\t 0.18280815569972197\n"
     ]
    }
   ],
   "source": [
    "from sklearn import svm\n",
    "svmclf = svm.SVC(kernel='linear')\n",
    "svmclf.fit(tfidf_train, y_train.values.ravel()) \n",
    "\n",
    "\n",
    "# Predict the Response corresponding to Predictors\n",
    "y_train_pred = svmclf.predict(tfidf_train)\n",
    "\n",
    "# Print the Classification Accuracy\n",
    "print(\"Train Data\")\n",
    "print(\"Accuracy  :\\t\", svmclf.score(tfidf_train, y_train))\n",
    "\n",
    "# Print the Accuracy Measures from the Confusion Matrix\n",
    "cmTrain = confusion_matrix(y_train, y_train_pred)\n",
    "tpTrain = cmTrain[1][1] # True Positives : Good (1) predicted Good (1)\n",
    "fpTrain = cmTrain[0][1] # False Positives : Bad (0) predicted Good (1)\n",
    "tnTrain = cmTrain[0][0] # True Negatives : Bad (0) predicted Bad (0)\n",
    "fnTrain = cmTrain[1][0] # False Negatives : Good (1) predicted Bad (0)\n",
    "\n",
    "print(\"TPR Train :\\t\", (tpTrain/(tpTrain + fnTrain)))\n",
    "print(\"TNR Train :\\t\", (tnTrain/(tnTrain + fpTrain)))\n",
    "print()\n",
    "\n",
    "print(\"FPR Train :\\t\", (fpTrain/(tnTrain + fpTrain)))\n",
    "print(\"FNR Train :\\t\", (fnTrain/(tpTrain + fnTrain)))"
   ]
  },
  {
   "cell_type": "code",
   "execution_count": 41,
   "id": "b7ad2749",
   "metadata": {},
   "outputs": [
    {
     "data": {
      "image/png": "[encoded data removed]",
      "text/plain": [
       "<Figure size 900x900 with 2 Axes>"
      ]
     },
     "metadata": {},
     "output_type": "display_data"
    }
   ],
   "source": [
    "svm_pred = svmclf.predict(tfidf_train)\n",
    "svm_accuracy = accuracy_score(y_train,svm_pred)\n",
    "svm_cm = metrics.confusion_matrix(y_train, svm_pred)\n",
    "\n",
    "plt.figure(figsize=(9,9))\n",
    "sns.heatmap(svm_cm, annot=True, fmt=\".3f\", linewidths=.5, square = True, cmap = 'cubehelix')\n",
    "plt.ylabel('Actual label')\n",
    "plt.xlabel('Predicted label')\n",
    "all_sample_title = 'SVM Train Accuracy Score: {0:.1f}%'.format(float(svm_accuracy*100))\n",
    "plt.title(all_sample_title, size = 15)\n",
    "\n",
    "accuracy_list = update_accuracy(svm_cm, svm_accuracy, \"SVM Train\")\n",
    "accuracy_df.loc[len(accuracy_df)] = accuracy_list"
   ]
  },
  {
   "cell_type": "code",
   "execution_count": 42,
   "id": "1bc6a2d0",
   "metadata": {},
   "outputs": [
    {
     "name": "stdout",
     "output_type": "stream",
     "text": [
      "Test Data\n",
      "Accuracy  :\t 0.49965932318873496\n",
      "TPR Test :\t 0.474169741697417\n",
      "TNR Test :\t 0.5243847874720358\n",
      "\n",
      "FPR Test :\t 0.4756152125279642\n",
      "FNR Test :\t 0.525830258302583\n"
     ]
    }
   ],
   "source": [
    "# Predict the Response corresponding to Predictors\n",
    "y_test_pred = svmclf.predict(tfidf_test)\n",
    "\n",
    "# Print the Classification Accuracy\n",
    "print(\"Test Data\")\n",
    "print(\"Accuracy  :\\t\", svmclf.score(tfidf_test, y_test))\n",
    "\n",
    "# Print the Accuracy Measures from the Confusion Matrix\n",
    "cmTest = confusion_matrix(y_test, y_test_pred)\n",
    "tpTest = cmTest[1][1] # True Positives : Good (1) predicted Good (1)\n",
    "fpTest = cmTest[0][1] # False Positives : Bad (0) predicted Good (1)\n",
    "tnTest = cmTest[0][0] # True Negatives : Bad (0) predicted Bad (0)\n",
    "fnTest = cmTest[1][0] # False Negatives : Good (1) predicted Bad (0)\n",
    "\n",
    "print(\"TPR Test :\\t\", (tpTest/(tpTest + fnTest)))\n",
    "print(\"TNR Test :\\t\", (tnTest/(tnTest + fpTest)))\n",
    "print()\n",
    "\n",
    "print(\"FPR Test :\\t\", (fpTest/(tnTest + fpTest)))\n",
    "print(\"FNR Test :\\t\", (fnTest/(tpTest + fnTest)))"
   ]
  },
  {
   "cell_type": "code",
   "execution_count": 43,
   "id": "916a644c",
   "metadata": {},
   "outputs": [
    {
     "data": {
      "image/png": "[encoded data removed]",
      "text/plain": [
       "<Figure size 900x900 with 2 Axes>"
      ]
     },
     "metadata": {},
     "output_type": "display_data"
    }
   ],
   "source": [
    "svm_pred = svmclf.predict(tfidf_test)\n",
    "svm_accuracy = accuracy_score(y_test,svm_pred)\n",
    "svm_cm = metrics.confusion_matrix(y_test, svm_pred)\n",
    "\n",
    "plt.figure(figsize=(9,9))\n",
    "sns.heatmap(svm_cm, annot=True, fmt=\".3f\", linewidths=.5, square = True, cmap = 'cubehelix')\n",
    "plt.ylabel('Actual label')\n",
    "plt.xlabel('Predicted label')\n",
    "all_sample_title = 'SVM TestAccuracy Score: {0:.1f}%'.format(float(svm_accuracy*100))\n",
    "plt.title(all_sample_title, size = 15)\n",
    "\n",
    "accuracy_list = update_accuracy(svm_cm, svm_accuracy, \"SVM Test\")\n",
    "accuracy_df.loc[len(accuracy_df)] = accuracy_list"
   ]
  },
  {
   "cell_type": "markdown",
   "id": "63baf204",
   "metadata": {},
   "source": [
    "### While SVM has a high accuracy of 83.2% for the training dataset, the test dataset however plummets to 50%. While the high accuracy is a good sign, the big gap of accuracy makes this model not an ideal one."
   ]
  },
  {
   "cell_type": "markdown",
   "id": "1702a916",
   "metadata": {},
   "source": [
    "## Model 5 : Ensemble"
   ]
  },
  {
   "cell_type": "code",
   "execution_count": 44,
   "id": "279a57e5",
   "metadata": {},
   "outputs": [],
   "source": [
    "from sklearn.ensemble import VotingClassifier\n",
    "#create a dictionary of our models\n",
    "estimators=[('logreg',logreg), ('clf', clf), ('rforest', rforest), ('svmclf', svmclf)]\n",
    "#create our voting classifier, inputting our models\n",
    "ensemble = VotingClassifier(estimators, voting='hard')"
   ]
  },
  {
   "cell_type": "code",
   "execution_count": 45,
   "id": "8a3aa06c",
   "metadata": {},
   "outputs": [
    {
     "data": {
      "image/png": "[encoded data removed]",
      "text/plain": [
       "<Figure size 900x900 with 2 Axes>"
      ]
     },
     "metadata": {},
     "output_type": "display_data"
    }
   ],
   "source": [
    "#fit model to training data\n",
    "ensemble.fit(x_train, y_train.values.ravel())\n",
    "#test our model on the test data\n",
    "ensemble.score(x_test, y_test)\n",
    "\n",
    "ensemble_pred = ensemble.predict(x_test)\n",
    "ensemble_accuracy = accuracy_score(y_test,ensemble_pred)\n",
    "ensemble_cm = metrics.confusion_matrix(y_test, ensemble_pred)\n",
    "\n",
    "plt.figure(figsize=(9,9))\n",
    "sns.heatmap(ensemble_cm, annot=True, fmt=\".3f\", linewidths=.5, square = True, cmap = 'cubehelix')\n",
    "plt.ylabel('Actual label')\n",
    "plt.xlabel('Predicted label')\n",
    "all_sample_title = 'Ensemble Accuracy Score: {0:.1f}%'.format(ensemble_accuracy*100)\n",
    "plt.title(all_sample_title, size = 15)\n",
    "\n",
    "accuracy_list = update_accuracy(ensemble_cm, ensemble_accuracy, \"Ensemble\")\n",
    "accuracy_df.loc[len(accuracy_df)] = accuracy_list"
   ]
  },
  {
   "cell_type": "markdown",
   "id": "873f94af",
   "metadata": {},
   "source": [
    "### While ensemble models commonly helps to improve accuracy by combining multiple models, the model did not work for our dataset with only an accuracy of 68%.\n",
    "\n",
    "### Tuning the hyperparameters didn't make significant improvements in the accuracy, and the model itself takes rather long to run"
   ]
  },
  {
   "cell_type": "code",
   "execution_count": 46,
   "id": "67499222",
   "metadata": {},
   "outputs": [
    {
     "data": {
      "text/html": [
       "<div>\n",
       "<style scoped>\n",
       "    .dataframe tbody tr th:only-of-type {\n",
       "        vertical-align: middle;\n",
       "    }\n",
       "\n",
       "    .dataframe tbody tr th {\n",
       "        vertical-align: top;\n",
       "    }\n",
       "\n",
       "    .dataframe thead th {\n",
       "        text-align: right;\n",
       "    }\n",
       "</style>\n",
       "<table border=\"1\" class=\"dataframe\">\n",
       "  <thead>\n",
       "    <tr style=\"text-align: right;\">\n",
       "      <th></th>\n",
       "      <th>Model</th>\n",
       "      <th>Accuracy</th>\n",
       "      <th>True Pos</th>\n",
       "      <th>False Pos</th>\n",
       "      <th>True Neg</th>\n",
       "      <th>False Neg</th>\n",
       "    </tr>\n",
       "  </thead>\n",
       "  <tbody>\n",
       "    <tr>\n",
       "      <th>0</th>\n",
       "      <td>Logistic-Regression Train</td>\n",
       "      <td>96.1</td>\n",
       "      <td>96.0</td>\n",
       "      <td>4.0</td>\n",
       "      <td>96.2</td>\n",
       "      <td>3.8</td>\n",
       "    </tr>\n",
       "    <tr>\n",
       "      <th>1</th>\n",
       "      <td>Logistic-Regression Test</td>\n",
       "      <td>92.9</td>\n",
       "      <td>92.5</td>\n",
       "      <td>7.5</td>\n",
       "      <td>93.4</td>\n",
       "      <td>6.6</td>\n",
       "    </tr>\n",
       "    <tr>\n",
       "      <th>2</th>\n",
       "      <td>Decision Tree Train</td>\n",
       "      <td>71.9</td>\n",
       "      <td>69.6</td>\n",
       "      <td>30.4</td>\n",
       "      <td>74.6</td>\n",
       "      <td>25.4</td>\n",
       "    </tr>\n",
       "    <tr>\n",
       "      <th>3</th>\n",
       "      <td>Decision Tree Test</td>\n",
       "      <td>71.2</td>\n",
       "      <td>69.2</td>\n",
       "      <td>30.8</td>\n",
       "      <td>73.5</td>\n",
       "      <td>26.5</td>\n",
       "    </tr>\n",
       "    <tr>\n",
       "      <th>4</th>\n",
       "      <td>Random Forest Train</td>\n",
       "      <td>73.0</td>\n",
       "      <td>71.2</td>\n",
       "      <td>28.8</td>\n",
       "      <td>74.9</td>\n",
       "      <td>25.1</td>\n",
       "    </tr>\n",
       "    <tr>\n",
       "      <th>5</th>\n",
       "      <td>Random Forest Test</td>\n",
       "      <td>72.4</td>\n",
       "      <td>70.8</td>\n",
       "      <td>29.2</td>\n",
       "      <td>74.1</td>\n",
       "      <td>25.9</td>\n",
       "    </tr>\n",
       "    <tr>\n",
       "      <th>6</th>\n",
       "      <td>SVM Train</td>\n",
       "      <td>83.2</td>\n",
       "      <td>83.6</td>\n",
       "      <td>16.4</td>\n",
       "      <td>82.8</td>\n",
       "      <td>17.2</td>\n",
       "    </tr>\n",
       "    <tr>\n",
       "      <th>7</th>\n",
       "      <td>SVM Test</td>\n",
       "      <td>50.0</td>\n",
       "      <td>49.2</td>\n",
       "      <td>50.8</td>\n",
       "      <td>50.7</td>\n",
       "      <td>49.3</td>\n",
       "    </tr>\n",
       "    <tr>\n",
       "      <th>8</th>\n",
       "      <td>Ensemble</td>\n",
       "      <td>68.2</td>\n",
       "      <td>69.0</td>\n",
       "      <td>31.0</td>\n",
       "      <td>67.5</td>\n",
       "      <td>32.5</td>\n",
       "    </tr>\n",
       "  </tbody>\n",
       "</table>\n",
       "</div>"
      ],
      "text/plain": [
       "                       Model  Accuracy   True Pos  False Pos  True Neg  \\\n",
       "0  Logistic-Regression Train      96.1       96.0        4.0      96.2   \n",
       "1   Logistic-Regression Test      92.9       92.5        7.5      93.4   \n",
       "2        Decision Tree Train      71.9       69.6       30.4      74.6   \n",
       "3         Decision Tree Test      71.2       69.2       30.8      73.5   \n",
       "4        Random Forest Train      73.0       71.2       28.8      74.9   \n",
       "5         Random Forest Test      72.4       70.8       29.2      74.1   \n",
       "6                  SVM Train      83.2       83.6       16.4      82.8   \n",
       "7                   SVM Test      50.0       49.2       50.8      50.7   \n",
       "8                   Ensemble      68.2       69.0       31.0      67.5   \n",
       "\n",
       "   False Neg  \n",
       "0        3.8  \n",
       "1        6.6  \n",
       "2       25.4  \n",
       "3       26.5  \n",
       "4       25.1  \n",
       "5       25.9  \n",
       "6       17.2  \n",
       "7       49.3  \n",
       "8       32.5  "
      ]
     },
     "execution_count": 46,
     "metadata": {},
     "output_type": "execute_result"
    }
   ],
   "source": [
    "accuracy_df"
   ]
  },
  {
   "cell_type": "markdown",
   "id": "de721d29",
   "metadata": {},
   "source": [
    "### Logistic Regression performed the best and is the ideal model for our dataset. \n",
    "### Ensemble model performed the worst, which could likely mean the combination of the selected models is not optimal.\n",
    "### While SVM has a comparable accuracy, the difference in training and testing accuracy makes it less ideal."
   ]
  },
  {
   "cell_type": "code",
   "execution_count": null,
   "id": "dd052625",
   "metadata": {},
   "outputs": [],
   "source": []
  }
 ],
 "metadata": {
  "kernelspec": {
   "display_name": "Python 3 (ipykernel)",
   "language": "python",
   "name": "python3"
  },
  "language_info": {
   "codemirror_mode": {
    "name": "ipython",
    "version": 3
   },
   "file_extension": ".py",
   "mimetype": "text/x-python",
   "name": "python",
   "nbconvert_exporter": "python",
   "pygments_lexer": "ipython3",
   "version": "3.9.13"
  }
 },
 "nbformat": 4,
 "nbformat_minor": 5
}
